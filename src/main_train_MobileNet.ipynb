{
 "cells": [
  {
   "cell_type": "code",
   "execution_count": 1,
   "metadata": {},
   "outputs": [],
   "source": [
    "from utils.dataloader import H5Dataset\n",
    "from utils.EarlyStopping import EarlyStopping\n",
    "\n",
    "import torch\n",
    "import torch.nn as nn\n",
    "import torch.optim as optim\n",
    "import torchvision.models as models\n",
    "from sklearn.metrics import classification_report\n",
    "from tqdm import tqdm\n",
    "\n",
    "from torchvision.models import MobileNet_V2_Weights\n",
    "\n",
    "import numpy as np\n",
    "import os"
   ]
  },
  {
   "cell_type": "code",
   "execution_count": 2,
   "metadata": {},
   "outputs": [],
   "source": [
    "num_classes = 4\n",
    "k_folds = 5\n",
    "num_epochs = 10\n",
    "batch_size = 32\n",
    "patience = 2\n",
    "random_state = 21\n",
    "checkpoint_folder = \"mobilenet\"\n",
    "\n",
    "# Caminho para os arquivos h5\n",
    "h5_files = [\n",
    "    \"h5_files/GunshotForensic_feature.h5\",\n",
    "    \"h5_files/HEAR_Train_feature.h5\",\n",
    "    \"h5_files/MIVIA_test_feature.h5\",\n",
    "    \"h5_files/MIVIA_train_feature.h5\",\n",
    "    \"h5_files/SESA_feature.h5\",\n",
    "    \"h5_files/vsd_clipped_feature.h5\",\n",
    "    \"h5_files/Audioset_feature.h5\",\n",
    "]\n",
    "\n",
    "# Carregando os dataloaders\n",
    "dataset = H5Dataset(\n",
    "    h5_files, exclude_classes=[4, 5, 6], n_splits=k_folds, random_state=random_state\n",
    ")\n",
    "dataloaders = dataset.get_k_fold_data_loaders(batch_size=batch_size, num_workers=4)"
   ]
  },
  {
   "cell_type": "code",
   "execution_count": 3,
   "metadata": {},
   "outputs": [
    {
     "name": "stdout",
     "output_type": "stream",
     "text": [
      "Treinamento realizado no dispositivo: cuda\n"
     ]
    }
   ],
   "source": [
    "device = torch.device(\"cuda\" if torch.cuda.is_available() else \"cpu\")\n",
    "print(\"Treinamento realizado no dispositivo:\", device)\n",
    "\n",
    "criterion = nn.CrossEntropyLoss()"
   ]
  },
  {
   "cell_type": "code",
   "execution_count": 4,
   "metadata": {},
   "outputs": [
    {
     "name": "stdout",
     "output_type": "stream",
     "text": [
      "Starting fold 1/5\n",
      "Starting epoch 1/10\n"
     ]
    },
    {
     "name": "stderr",
     "output_type": "stream",
     "text": [
      "100%|██████████| 2250/2250 [00:55<00:00, 40.45it/s]\n",
      "100%|██████████| 563/563 [00:56<00:00,  9.88it/s] \n"
     ]
    },
    {
     "name": "stdout",
     "output_type": "stream",
     "text": [
      "Train Loss: 0.8615 Train Acc: 0.6252\n",
      "Validation Loss: 0.6970 Validation Acc: 0.7077\n",
      "Validation loss decreased (inf --> 0.697021).  Saving model ...\n",
      "Starting epoch 2/10\n"
     ]
    },
    {
     "name": "stderr",
     "output_type": "stream",
     "text": [
      "100%|██████████| 2250/2250 [00:54<00:00, 41.50it/s]\n",
      "100%|██████████| 563/563 [00:58<00:00,  9.59it/s] \n"
     ]
    },
    {
     "name": "stdout",
     "output_type": "stream",
     "text": [
      "Train Loss: 0.6708 Train Acc: 0.7191\n",
      "Validation Loss: 0.5936 Validation Acc: 0.7535\n",
      "Validation loss decreased (0.697021 --> 0.593599).  Saving model ...\n",
      "Starting epoch 3/10\n"
     ]
    },
    {
     "name": "stderr",
     "output_type": "stream",
     "text": [
      "100%|██████████| 2250/2250 [00:55<00:00, 40.48it/s]\n",
      "100%|██████████| 563/563 [00:59<00:00,  9.46it/s] \n"
     ]
    },
    {
     "name": "stdout",
     "output_type": "stream",
     "text": [
      "Train Loss: 0.6020 Train Acc: 0.7478\n",
      "Validation Loss: 0.5556 Validation Acc: 0.7715\n",
      "Validation loss decreased (0.593599 --> 0.555570).  Saving model ...\n",
      "Starting epoch 4/10\n"
     ]
    },
    {
     "name": "stderr",
     "output_type": "stream",
     "text": [
      "100%|██████████| 2250/2250 [00:53<00:00, 41.77it/s]\n",
      "100%|██████████| 563/563 [00:59<00:00,  9.47it/s] \n"
     ]
    },
    {
     "name": "stdout",
     "output_type": "stream",
     "text": [
      "Train Loss: 0.5641 Train Acc: 0.7636\n",
      "Validation Loss: 0.5206 Validation Acc: 0.7844\n",
      "Validation loss decreased (0.555570 --> 0.520616).  Saving model ...\n",
      "Starting epoch 5/10\n"
     ]
    },
    {
     "name": "stderr",
     "output_type": "stream",
     "text": [
      "100%|██████████| 2250/2250 [00:50<00:00, 44.81it/s]\n",
      "100%|██████████| 563/563 [00:57<00:00,  9.81it/s] \n"
     ]
    },
    {
     "name": "stdout",
     "output_type": "stream",
     "text": [
      "Train Loss: 0.5358 Train Acc: 0.7747\n",
      "Validation Loss: 0.4965 Validation Acc: 0.7893\n",
      "Validation loss decreased (0.520616 --> 0.496476).  Saving model ...\n",
      "Starting epoch 6/10\n"
     ]
    },
    {
     "name": "stderr",
     "output_type": "stream",
     "text": [
      "100%|██████████| 2250/2250 [00:49<00:00, 45.29it/s]\n",
      "100%|██████████| 563/563 [00:57<00:00,  9.86it/s] \n"
     ]
    },
    {
     "name": "stdout",
     "output_type": "stream",
     "text": [
      "Train Loss: 0.5160 Train Acc: 0.7838\n",
      "Validation Loss: 0.4810 Validation Acc: 0.7984\n",
      "Validation loss decreased (0.496476 --> 0.481011).  Saving model ...\n",
      "Starting epoch 7/10\n"
     ]
    },
    {
     "name": "stderr",
     "output_type": "stream",
     "text": [
      "100%|██████████| 2250/2250 [00:49<00:00, 45.52it/s]\n",
      "100%|██████████| 563/563 [00:56<00:00,  9.88it/s] \n"
     ]
    },
    {
     "name": "stdout",
     "output_type": "stream",
     "text": [
      "Train Loss: 0.4969 Train Acc: 0.7902\n",
      "Validation Loss: 0.4772 Validation Acc: 0.7993\n",
      "Validation loss decreased (0.481011 --> 0.477157).  Saving model ...\n",
      "Starting epoch 8/10\n"
     ]
    },
    {
     "name": "stderr",
     "output_type": "stream",
     "text": [
      "100%|██████████| 2250/2250 [00:54<00:00, 41.36it/s]\n",
      "100%|██████████| 563/563 [01:01<00:00,  9.11it/s] \n"
     ]
    },
    {
     "name": "stdout",
     "output_type": "stream",
     "text": [
      "Train Loss: 0.4850 Train Acc: 0.7946\n",
      "Validation Loss: 0.4633 Validation Acc: 0.8048\n",
      "Validation loss decreased (0.477157 --> 0.463255).  Saving model ...\n",
      "Starting epoch 9/10\n"
     ]
    },
    {
     "name": "stderr",
     "output_type": "stream",
     "text": [
      "100%|██████████| 2250/2250 [00:55<00:00, 40.18it/s]\n",
      "100%|██████████| 563/563 [00:59<00:00,  9.54it/s] \n"
     ]
    },
    {
     "name": "stdout",
     "output_type": "stream",
     "text": [
      "Train Loss: 0.4697 Train Acc: 0.8027\n",
      "Validation Loss: 0.4559 Validation Acc: 0.8086\n",
      "Validation loss decreased (0.463255 --> 0.455863).  Saving model ...\n",
      "Starting epoch 10/10\n"
     ]
    },
    {
     "name": "stderr",
     "output_type": "stream",
     "text": [
      "100%|██████████| 2250/2250 [00:53<00:00, 41.94it/s]\n",
      "100%|██████████| 563/563 [00:57<00:00,  9.81it/s] \n"
     ]
    },
    {
     "name": "stdout",
     "output_type": "stream",
     "text": [
      "Train Loss: 0.4562 Train Acc: 0.8071\n",
      "Validation Loss: 0.4438 Validation Acc: 0.8126\n",
      "Validation loss decreased (0.455863 --> 0.443778).  Saving model ...\n",
      "Finished fold 1/5\n",
      "Starting fold 2/5\n",
      "Starting epoch 1/10\n"
     ]
    },
    {
     "name": "stderr",
     "output_type": "stream",
     "text": [
      "100%|██████████| 2250/2250 [00:56<00:00, 40.02it/s]\n",
      "100%|██████████| 563/563 [01:01<00:00,  9.20it/s] \n"
     ]
    },
    {
     "name": "stdout",
     "output_type": "stream",
     "text": [
      "Train Loss: 0.8803 Train Acc: 0.6134\n",
      "Validation Loss: 0.7331 Validation Acc: 0.6952\n",
      "Validation loss decreased (inf --> 0.733064).  Saving model ...\n",
      "Starting epoch 2/10\n"
     ]
    },
    {
     "name": "stderr",
     "output_type": "stream",
     "text": [
      "100%|██████████| 2250/2250 [00:56<00:00, 39.88it/s]\n",
      "100%|██████████| 563/563 [00:59<00:00,  9.43it/s] \n"
     ]
    },
    {
     "name": "stdout",
     "output_type": "stream",
     "text": [
      "Train Loss: 0.6827 Train Acc: 0.7090\n",
      "Validation Loss: 0.6168 Validation Acc: 0.7448\n",
      "Validation loss decreased (0.733064 --> 0.616768).  Saving model ...\n",
      "Starting epoch 3/10\n"
     ]
    },
    {
     "name": "stderr",
     "output_type": "stream",
     "text": [
      "100%|██████████| 2250/2250 [00:53<00:00, 41.88it/s]\n",
      "100%|██████████| 563/563 [00:56<00:00,  9.90it/s] \n"
     ]
    },
    {
     "name": "stdout",
     "output_type": "stream",
     "text": [
      "Train Loss: 0.6044 Train Acc: 0.7467\n",
      "Validation Loss: 0.5592 Validation Acc: 0.7638\n",
      "Validation loss decreased (0.616768 --> 0.559175).  Saving model ...\n",
      "Starting epoch 4/10\n"
     ]
    },
    {
     "name": "stderr",
     "output_type": "stream",
     "text": [
      "100%|██████████| 2250/2250 [00:51<00:00, 43.51it/s]\n",
      "100%|██████████| 563/563 [00:59<00:00,  9.54it/s] \n"
     ]
    },
    {
     "name": "stdout",
     "output_type": "stream",
     "text": [
      "Train Loss: 0.5606 Train Acc: 0.7649\n",
      "Validation Loss: 0.5242 Validation Acc: 0.7790\n",
      "Validation loss decreased (0.559175 --> 0.524170).  Saving model ...\n",
      "Starting epoch 5/10\n"
     ]
    },
    {
     "name": "stderr",
     "output_type": "stream",
     "text": [
      "100%|██████████| 2250/2250 [00:49<00:00, 45.12it/s]\n",
      "100%|██████████| 563/563 [00:57<00:00,  9.87it/s] \n"
     ]
    },
    {
     "name": "stdout",
     "output_type": "stream",
     "text": [
      "Train Loss: 0.5246 Train Acc: 0.7804\n",
      "Validation Loss: 0.4963 Validation Acc: 0.7910\n",
      "Validation loss decreased (0.524170 --> 0.496343).  Saving model ...\n",
      "Starting epoch 6/10\n"
     ]
    },
    {
     "name": "stderr",
     "output_type": "stream",
     "text": [
      "100%|██████████| 2250/2250 [00:52<00:00, 42.57it/s]\n",
      "100%|██████████| 563/563 [00:59<00:00,  9.45it/s] \n"
     ]
    },
    {
     "name": "stdout",
     "output_type": "stream",
     "text": [
      "Train Loss: 0.5005 Train Acc: 0.7915\n",
      "Validation Loss: 0.4775 Validation Acc: 0.7981\n",
      "Validation loss decreased (0.496343 --> 0.477476).  Saving model ...\n",
      "Starting epoch 7/10\n"
     ]
    },
    {
     "name": "stderr",
     "output_type": "stream",
     "text": [
      "100%|██████████| 2250/2250 [00:54<00:00, 41.30it/s]\n",
      "100%|██████████| 563/563 [00:59<00:00,  9.53it/s] \n"
     ]
    },
    {
     "name": "stdout",
     "output_type": "stream",
     "text": [
      "Train Loss: 0.4776 Train Acc: 0.8003\n",
      "Validation Loss: 0.4564 Validation Acc: 0.8090\n",
      "Validation loss decreased (0.477476 --> 0.456379).  Saving model ...\n",
      "Starting epoch 8/10\n"
     ]
    },
    {
     "name": "stderr",
     "output_type": "stream",
     "text": [
      "100%|██████████| 2250/2250 [00:55<00:00, 40.83it/s]\n",
      "100%|██████████| 563/563 [00:57<00:00,  9.81it/s] \n"
     ]
    },
    {
     "name": "stdout",
     "output_type": "stream",
     "text": [
      "Train Loss: 0.4602 Train Acc: 0.8079\n",
      "Validation Loss: 0.4521 Validation Acc: 0.8082\n",
      "Validation loss decreased (0.456379 --> 0.452069).  Saving model ...\n",
      "Starting epoch 9/10\n"
     ]
    },
    {
     "name": "stderr",
     "output_type": "stream",
     "text": [
      "100%|██████████| 2250/2250 [00:49<00:00, 45.72it/s]\n",
      "100%|██████████| 563/563 [00:58<00:00,  9.66it/s] \n"
     ]
    },
    {
     "name": "stdout",
     "output_type": "stream",
     "text": [
      "Train Loss: 0.4423 Train Acc: 0.8155\n",
      "Validation Loss: 0.4328 Validation Acc: 0.8196\n",
      "Validation loss decreased (0.452069 --> 0.432840).  Saving model ...\n",
      "Starting epoch 10/10\n"
     ]
    },
    {
     "name": "stderr",
     "output_type": "stream",
     "text": [
      "100%|██████████| 2250/2250 [00:56<00:00, 39.74it/s]\n",
      "100%|██████████| 563/563 [01:00<00:00,  9.34it/s] \n"
     ]
    },
    {
     "name": "stdout",
     "output_type": "stream",
     "text": [
      "Train Loss: 0.4279 Train Acc: 0.8220\n",
      "Validation Loss: 0.4204 Validation Acc: 0.8251\n",
      "Validation loss decreased (0.432840 --> 0.420438).  Saving model ...\n",
      "Finished fold 2/5\n",
      "Starting fold 3/5\n",
      "Starting epoch 1/10\n"
     ]
    },
    {
     "name": "stderr",
     "output_type": "stream",
     "text": [
      "100%|██████████| 2250/2250 [00:54<00:00, 40.98it/s]\n",
      "100%|██████████| 563/563 [01:01<00:00,  9.20it/s] \n"
     ]
    },
    {
     "name": "stdout",
     "output_type": "stream",
     "text": [
      "Train Loss: 0.8696 Train Acc: 0.6228\n",
      "Validation Loss: 0.7319 Validation Acc: 0.6890\n",
      "Validation loss decreased (inf --> 0.731934).  Saving model ...\n",
      "Starting epoch 2/10\n"
     ]
    },
    {
     "name": "stderr",
     "output_type": "stream",
     "text": [
      "100%|██████████| 2250/2250 [00:57<00:00, 39.32it/s]\n",
      "100%|██████████| 563/563 [01:01<00:00,  9.18it/s] \n"
     ]
    },
    {
     "name": "stdout",
     "output_type": "stream",
     "text": [
      "Train Loss: 0.6903 Train Acc: 0.7132\n",
      "Validation Loss: 0.6274 Validation Acc: 0.7450\n",
      "Validation loss decreased (0.731934 --> 0.627366).  Saving model ...\n",
      "Starting epoch 3/10\n"
     ]
    },
    {
     "name": "stderr",
     "output_type": "stream",
     "text": [
      "100%|██████████| 2250/2250 [00:55<00:00, 40.67it/s]\n",
      "100%|██████████| 563/563 [01:00<00:00,  9.33it/s] \n"
     ]
    },
    {
     "name": "stdout",
     "output_type": "stream",
     "text": [
      "Train Loss: 0.6157 Train Acc: 0.7470\n",
      "Validation Loss: 0.5743 Validation Acc: 0.7618\n",
      "Validation loss decreased (0.627366 --> 0.574342).  Saving model ...\n",
      "Starting epoch 4/10\n"
     ]
    },
    {
     "name": "stderr",
     "output_type": "stream",
     "text": [
      "100%|██████████| 2250/2250 [00:54<00:00, 41.13it/s]\n",
      "100%|██████████| 563/563 [01:00<00:00,  9.26it/s] \n"
     ]
    },
    {
     "name": "stdout",
     "output_type": "stream",
     "text": [
      "Train Loss: 0.5760 Train Acc: 0.7622\n",
      "Validation Loss: 0.5401 Validation Acc: 0.7727\n",
      "Validation loss decreased (0.574342 --> 0.540071).  Saving model ...\n",
      "Starting epoch 5/10\n"
     ]
    },
    {
     "name": "stderr",
     "output_type": "stream",
     "text": [
      "100%|██████████| 2250/2250 [00:49<00:00, 45.61it/s]\n",
      "100%|██████████| 563/563 [00:58<00:00,  9.59it/s] \n"
     ]
    },
    {
     "name": "stdout",
     "output_type": "stream",
     "text": [
      "Train Loss: 0.5434 Train Acc: 0.7732\n",
      "Validation Loss: 0.5153 Validation Acc: 0.7838\n",
      "Validation loss decreased (0.540071 --> 0.515262).  Saving model ...\n",
      "Starting epoch 6/10\n"
     ]
    },
    {
     "name": "stderr",
     "output_type": "stream",
     "text": [
      "100%|██████████| 2250/2250 [00:51<00:00, 44.02it/s]\n",
      "100%|██████████| 563/563 [01:02<00:00,  8.98it/s] \n"
     ]
    },
    {
     "name": "stdout",
     "output_type": "stream",
     "text": [
      "Train Loss: 0.5181 Train Acc: 0.7844\n",
      "Validation Loss: 0.4906 Validation Acc: 0.7947\n",
      "Validation loss decreased (0.515262 --> 0.490615).  Saving model ...\n",
      "Starting epoch 7/10\n"
     ]
    },
    {
     "name": "stderr",
     "output_type": "stream",
     "text": [
      "100%|██████████| 2250/2250 [00:50<00:00, 44.14it/s]\n",
      "100%|██████████| 563/563 [01:00<00:00,  9.38it/s] \n"
     ]
    },
    {
     "name": "stdout",
     "output_type": "stream",
     "text": [
      "Train Loss: 0.4981 Train Acc: 0.7911\n",
      "Validation Loss: 0.4875 Validation Acc: 0.7958\n",
      "Validation loss decreased (0.490615 --> 0.487489).  Saving model ...\n",
      "Starting epoch 8/10\n"
     ]
    },
    {
     "name": "stderr",
     "output_type": "stream",
     "text": [
      "100%|██████████| 2250/2250 [00:56<00:00, 39.86it/s]\n",
      "100%|██████████| 563/563 [01:00<00:00,  9.38it/s] \n"
     ]
    },
    {
     "name": "stdout",
     "output_type": "stream",
     "text": [
      "Train Loss: 0.4836 Train Acc: 0.7971\n",
      "Validation Loss: 0.4635 Validation Acc: 0.8047\n",
      "Validation loss decreased (0.487489 --> 0.463533).  Saving model ...\n",
      "Starting epoch 9/10\n"
     ]
    },
    {
     "name": "stderr",
     "output_type": "stream",
     "text": [
      "100%|██████████| 2250/2250 [00:51<00:00, 43.67it/s]\n",
      "100%|██████████| 563/563 [00:59<00:00,  9.42it/s] \n"
     ]
    },
    {
     "name": "stdout",
     "output_type": "stream",
     "text": [
      "Train Loss: 0.4695 Train Acc: 0.8028\n",
      "Validation Loss: 0.4705 Validation Acc: 0.8023\n",
      "EarlyStopping counter: 1 out of 2\n",
      "Starting epoch 10/10\n"
     ]
    },
    {
     "name": "stderr",
     "output_type": "stream",
     "text": [
      "100%|██████████| 2250/2250 [00:51<00:00, 43.89it/s]\n",
      "100%|██████████| 563/563 [01:00<00:00,  9.32it/s] \n"
     ]
    },
    {
     "name": "stdout",
     "output_type": "stream",
     "text": [
      "Train Loss: 0.4582 Train Acc: 0.8073\n",
      "Validation Loss: 0.4383 Validation Acc: 0.8146\n",
      "Validation loss decreased (0.463533 --> 0.438348).  Saving model ...\n",
      "Finished fold 3/5\n",
      "Starting fold 4/5\n",
      "Starting epoch 1/10\n"
     ]
    },
    {
     "name": "stderr",
     "output_type": "stream",
     "text": [
      "100%|██████████| 2250/2250 [00:57<00:00, 39.23it/s]\n",
      "100%|██████████| 563/563 [01:01<00:00,  9.20it/s] \n"
     ]
    },
    {
     "name": "stdout",
     "output_type": "stream",
     "text": [
      "Train Loss: 0.8893 Train Acc: 0.6032\n",
      "Validation Loss: 0.7147 Validation Acc: 0.6993\n",
      "Validation loss decreased (inf --> 0.714673).  Saving model ...\n",
      "Starting epoch 2/10\n"
     ]
    },
    {
     "name": "stderr",
     "output_type": "stream",
     "text": [
      "100%|██████████| 2250/2250 [00:56<00:00, 40.11it/s]\n",
      "100%|██████████| 563/563 [01:01<00:00,  9.21it/s] \n"
     ]
    },
    {
     "name": "stdout",
     "output_type": "stream",
     "text": [
      "Train Loss: 0.6872 Train Acc: 0.7115\n",
      "Validation Loss: 0.6015 Validation Acc: 0.7519\n",
      "Validation loss decreased (0.714673 --> 0.601460).  Saving model ...\n",
      "Starting epoch 3/10\n"
     ]
    },
    {
     "name": "stderr",
     "output_type": "stream",
     "text": [
      "100%|██████████| 2250/2250 [00:55<00:00, 40.26it/s]\n",
      "100%|██████████| 563/563 [01:01<00:00,  9.20it/s] \n"
     ]
    },
    {
     "name": "stdout",
     "output_type": "stream",
     "text": [
      "Train Loss: 0.6104 Train Acc: 0.7473\n",
      "Validation Loss: 0.5605 Validation Acc: 0.7671\n",
      "Validation loss decreased (0.601460 --> 0.560477).  Saving model ...\n",
      "Starting epoch 4/10\n"
     ]
    },
    {
     "name": "stderr",
     "output_type": "stream",
     "text": [
      "100%|██████████| 2250/2250 [00:54<00:00, 41.13it/s]\n",
      "100%|██████████| 563/563 [01:00<00:00,  9.37it/s] \n"
     ]
    },
    {
     "name": "stdout",
     "output_type": "stream",
     "text": [
      "Train Loss: 0.5632 Train Acc: 0.7669\n",
      "Validation Loss: 0.5148 Validation Acc: 0.7890\n",
      "Validation loss decreased (0.560477 --> 0.514774).  Saving model ...\n",
      "Starting epoch 5/10\n"
     ]
    },
    {
     "name": "stderr",
     "output_type": "stream",
     "text": [
      "100%|██████████| 2250/2250 [00:56<00:00, 39.48it/s]\n",
      "100%|██████████| 563/563 [01:01<00:00,  9.18it/s] \n"
     ]
    },
    {
     "name": "stdout",
     "output_type": "stream",
     "text": [
      "Train Loss: 0.5346 Train Acc: 0.7771\n",
      "Validation Loss: 0.4832 Validation Acc: 0.8002\n",
      "Validation loss decreased (0.514774 --> 0.483237).  Saving model ...\n",
      "Starting epoch 6/10\n"
     ]
    },
    {
     "name": "stderr",
     "output_type": "stream",
     "text": [
      "100%|██████████| 2250/2250 [00:51<00:00, 43.76it/s]\n",
      "100%|██████████| 563/563 [01:00<00:00,  9.35it/s] \n"
     ]
    },
    {
     "name": "stdout",
     "output_type": "stream",
     "text": [
      "Train Loss: 0.5109 Train Acc: 0.7860\n",
      "Validation Loss: 0.4633 Validation Acc: 0.8078\n",
      "Validation loss decreased (0.483237 --> 0.463325).  Saving model ...\n",
      "Starting epoch 7/10\n"
     ]
    },
    {
     "name": "stderr",
     "output_type": "stream",
     "text": [
      "100%|██████████| 2250/2250 [00:51<00:00, 43.85it/s]\n",
      "100%|██████████| 563/563 [01:01<00:00,  9.18it/s] \n"
     ]
    },
    {
     "name": "stdout",
     "output_type": "stream",
     "text": [
      "Train Loss: 0.4892 Train Acc: 0.7952\n",
      "Validation Loss: 0.4516 Validation Acc: 0.8148\n",
      "Validation loss decreased (0.463325 --> 0.451559).  Saving model ...\n",
      "Starting epoch 8/10\n"
     ]
    },
    {
     "name": "stderr",
     "output_type": "stream",
     "text": [
      "100%|██████████| 2250/2250 [00:57<00:00, 39.35it/s]\n",
      "100%|██████████| 563/563 [01:00<00:00,  9.36it/s] \n"
     ]
    },
    {
     "name": "stdout",
     "output_type": "stream",
     "text": [
      "Train Loss: 0.4736 Train Acc: 0.8012\n",
      "Validation Loss: 0.4445 Validation Acc: 0.8154\n",
      "Validation loss decreased (0.451559 --> 0.444501).  Saving model ...\n",
      "Starting epoch 9/10\n"
     ]
    },
    {
     "name": "stderr",
     "output_type": "stream",
     "text": [
      "100%|██████████| 2250/2250 [00:54<00:00, 41.58it/s]\n",
      "100%|██████████| 563/563 [01:01<00:00,  9.11it/s] \n"
     ]
    },
    {
     "name": "stdout",
     "output_type": "stream",
     "text": [
      "Train Loss: 0.4584 Train Acc: 0.8066\n",
      "Validation Loss: 0.4306 Validation Acc: 0.8194\n",
      "Validation loss decreased (0.444501 --> 0.430644).  Saving model ...\n",
      "Starting epoch 10/10\n"
     ]
    },
    {
     "name": "stderr",
     "output_type": "stream",
     "text": [
      "100%|██████████| 2250/2250 [00:57<00:00, 39.07it/s]\n",
      "100%|██████████| 563/563 [01:00<00:00,  9.27it/s] \n"
     ]
    },
    {
     "name": "stdout",
     "output_type": "stream",
     "text": [
      "Train Loss: 0.4495 Train Acc: 0.8113\n",
      "Validation Loss: 0.4188 Validation Acc: 0.8278\n",
      "Validation loss decreased (0.430644 --> 0.418761).  Saving model ...\n",
      "Finished fold 4/5\n",
      "Starting fold 5/5\n",
      "Starting epoch 1/10\n"
     ]
    },
    {
     "name": "stderr",
     "output_type": "stream",
     "text": [
      "100%|██████████| 2250/2250 [00:55<00:00, 40.26it/s]\n",
      "100%|██████████| 563/563 [01:02<00:00,  9.00it/s] \n"
     ]
    },
    {
     "name": "stdout",
     "output_type": "stream",
     "text": [
      "Train Loss: 0.8755 Train Acc: 0.6075\n",
      "Validation Loss: 0.7395 Validation Acc: 0.6749\n",
      "Validation loss decreased (inf --> 0.739454).  Saving model ...\n",
      "Starting epoch 2/10\n"
     ]
    },
    {
     "name": "stderr",
     "output_type": "stream",
     "text": [
      "100%|██████████| 2250/2250 [00:57<00:00, 39.27it/s]\n",
      "100%|██████████| 563/563 [01:00<00:00,  9.29it/s] \n"
     ]
    },
    {
     "name": "stdout",
     "output_type": "stream",
     "text": [
      "Train Loss: 0.7025 Train Acc: 0.6991\n",
      "Validation Loss: 0.6341 Validation Acc: 0.7354\n",
      "Validation loss decreased (0.739454 --> 0.634091).  Saving model ...\n",
      "Starting epoch 3/10\n"
     ]
    },
    {
     "name": "stderr",
     "output_type": "stream",
     "text": [
      "100%|██████████| 2250/2250 [00:56<00:00, 39.89it/s]\n",
      "100%|██████████| 563/563 [01:00<00:00,  9.30it/s] \n"
     ]
    },
    {
     "name": "stdout",
     "output_type": "stream",
     "text": [
      "Train Loss: 0.6187 Train Acc: 0.7399\n",
      "Validation Loss: 0.5684 Validation Acc: 0.7622\n",
      "Validation loss decreased (0.634091 --> 0.568356).  Saving model ...\n",
      "Starting epoch 4/10\n"
     ]
    },
    {
     "name": "stderr",
     "output_type": "stream",
     "text": [
      "100%|██████████| 2250/2250 [00:50<00:00, 44.77it/s]\n",
      "100%|██████████| 563/563 [00:57<00:00,  9.83it/s] \n"
     ]
    },
    {
     "name": "stdout",
     "output_type": "stream",
     "text": [
      "Train Loss: 0.5772 Train Acc: 0.7606\n",
      "Validation Loss: 0.5417 Validation Acc: 0.7733\n",
      "Validation loss decreased (0.568356 --> 0.541657).  Saving model ...\n",
      "Starting epoch 5/10\n"
     ]
    },
    {
     "name": "stderr",
     "output_type": "stream",
     "text": [
      "100%|██████████| 2250/2250 [00:49<00:00, 45.45it/s]\n",
      "100%|██████████| 563/563 [00:57<00:00,  9.83it/s] \n"
     ]
    },
    {
     "name": "stdout",
     "output_type": "stream",
     "text": [
      "Train Loss: 0.5489 Train Acc: 0.7712\n",
      "Validation Loss: 0.5091 Validation Acc: 0.7894\n",
      "Validation loss decreased (0.541657 --> 0.509072).  Saving model ...\n",
      "Starting epoch 6/10\n"
     ]
    },
    {
     "name": "stderr",
     "output_type": "stream",
     "text": [
      "100%|██████████| 2250/2250 [00:49<00:00, 45.47it/s]\n",
      "100%|██████████| 563/563 [00:57<00:00,  9.86it/s] \n"
     ]
    },
    {
     "name": "stdout",
     "output_type": "stream",
     "text": [
      "Train Loss: 0.5240 Train Acc: 0.7801\n",
      "Validation Loss: 0.4999 Validation Acc: 0.7932\n",
      "Validation loss decreased (0.509072 --> 0.499949).  Saving model ...\n",
      "Starting epoch 7/10\n"
     ]
    },
    {
     "name": "stderr",
     "output_type": "stream",
     "text": [
      "100%|██████████| 2250/2250 [00:49<00:00, 45.50it/s]\n",
      "100%|██████████| 563/563 [00:57<00:00,  9.80it/s] \n"
     ]
    },
    {
     "name": "stdout",
     "output_type": "stream",
     "text": [
      "Train Loss: 0.5056 Train Acc: 0.7877\n",
      "Validation Loss: 0.4763 Validation Acc: 0.8024\n",
      "Validation loss decreased (0.499949 --> 0.476276).  Saving model ...\n",
      "Starting epoch 8/10\n"
     ]
    },
    {
     "name": "stderr",
     "output_type": "stream",
     "text": [
      "100%|██████████| 2250/2250 [00:49<00:00, 45.43it/s]\n",
      "100%|██████████| 563/563 [00:57<00:00,  9.87it/s] \n"
     ]
    },
    {
     "name": "stdout",
     "output_type": "stream",
     "text": [
      "Train Loss: 0.4892 Train Acc: 0.7953\n",
      "Validation Loss: 0.4591 Validation Acc: 0.8091\n",
      "Validation loss decreased (0.476276 --> 0.459094).  Saving model ...\n",
      "Starting epoch 9/10\n"
     ]
    },
    {
     "name": "stderr",
     "output_type": "stream",
     "text": [
      "100%|██████████| 2250/2250 [00:49<00:00, 45.36it/s]\n",
      "100%|██████████| 563/563 [00:57<00:00,  9.85it/s] \n"
     ]
    },
    {
     "name": "stdout",
     "output_type": "stream",
     "text": [
      "Train Loss: 0.4732 Train Acc: 0.8012\n",
      "Validation Loss: 0.4535 Validation Acc: 0.8095\n",
      "Validation loss decreased (0.459094 --> 0.453479).  Saving model ...\n",
      "Starting epoch 10/10\n"
     ]
    },
    {
     "name": "stderr",
     "output_type": "stream",
     "text": [
      "100%|██████████| 2250/2250 [00:49<00:00, 45.41it/s]\n",
      "100%|██████████| 563/563 [00:57<00:00,  9.86it/s] "
     ]
    },
    {
     "name": "stdout",
     "output_type": "stream",
     "text": [
      "Train Loss: 0.4605 Train Acc: 0.8056\n",
      "Validation Loss: 0.4353 Validation Acc: 0.8186\n",
      "Validation loss decreased (0.453479 --> 0.435323).  Saving model ...\n",
      "Finished fold 5/5\n",
      "Finished Training\n"
     ]
    },
    {
     "name": "stderr",
     "output_type": "stream",
     "text": [
      "\n"
     ]
    }
   ],
   "source": [
    "# Loop de treinamento\n",
    "for fold, (train_loader, val_loader) in enumerate(dataloaders):\n",
    "    print(f\"Starting fold {fold + 1}/{len(dataloaders)}\")\n",
    "\n",
    "    # Ajustando a MobileNetV2\n",
    "    model = models.mobilenet_v2(weights=MobileNet_V2_Weights.DEFAULT)\n",
    "\n",
    "    num_ftrs = model.classifier[1].in_features\n",
    "    model.classifier[1] = nn.Linear(num_ftrs, num_classes)\n",
    "    model.features[0][0] = nn.Conv2d(\n",
    "        1, 32, kernel_size=(3, 3), stride=(2, 2), padding=(1, 1), bias=False\n",
    "    )\n",
    "\n",
    "    model = model.to(device)\n",
    "    optimizer = optim.SGD(model.parameters(), lr=0.0001, momentum=0.9)\n",
    "    # initialize the early_stopping object\n",
    "    early_stopping = EarlyStopping(patience=patience, verbose=True, fold=fold, checkpoint_folder=checkpoint_folder)\n",
    "\n",
    "    for epoch in range(num_epochs):  # número de épocas\n",
    "        print(f\"Starting epoch {epoch + 1}/{num_epochs}\")\n",
    "\n",
    "        # Treinamento\n",
    "        model.train()\n",
    "        running_loss_train = 0.0\n",
    "        running_corrects_train = 0\n",
    "        for i, (inputs, labels) in tqdm(\n",
    "            enumerate(train_loader), total=len(train_loader)\n",
    "        ):\n",
    "            inputs = inputs.unsqueeze(1).to(device)\n",
    "            labels = labels.to(device)\n",
    "\n",
    "            optimizer.zero_grad()\n",
    "\n",
    "            outputs = model(inputs)\n",
    "            _, preds = torch.max(outputs, 1)\n",
    "            running_corrects_train += torch.sum(preds == labels.data)\n",
    "            loss = criterion(outputs, labels)\n",
    "\n",
    "            loss.backward()\n",
    "            optimizer.step()\n",
    "\n",
    "            running_loss_train += loss.item() * inputs.size(0)\n",
    "\n",
    "        epoch_loss_train = running_loss_train / len(train_loader.dataset)\n",
    "        epoch_acc_train = running_corrects_train.double() / len(train_loader.dataset)\n",
    "\n",
    "        # Validação\n",
    "        model.eval()\n",
    "        running_loss_val = 0.0\n",
    "        running_corrects_val = 0\n",
    "        all_labels = []\n",
    "        all_preds = []\n",
    "        with torch.no_grad():\n",
    "            for inputs, labels in tqdm(val_loader):\n",
    "                inputs = inputs.unsqueeze(1).to(device)\n",
    "                labels = labels.to(device)\n",
    "\n",
    "                outputs = model(inputs)\n",
    "                _, preds = torch.max(outputs, 1)\n",
    "                running_corrects_val += torch.sum(preds == labels.data)\n",
    "                loss = criterion(outputs, labels)\n",
    "\n",
    "                running_loss_val += loss.item() * inputs.size(0)\n",
    "\n",
    "                all_labels.extend(labels.data.cpu().numpy())\n",
    "                all_preds.extend(preds.cpu().numpy())\n",
    "\n",
    "        epoch_loss_val = running_loss_val / len(val_loader.dataset)\n",
    "        epoch_acc_val = running_corrects_val.double() / len(val_loader.dataset)\n",
    "\n",
    "        print(f\"Train Loss: {epoch_loss_train:.4f} Train Acc: {epoch_acc_train:.4f}\")\n",
    "        print(\n",
    "            f\"Validation Loss: {epoch_loss_val:.4f} Validation Acc: {epoch_acc_val:.4f}\"\n",
    "        )\n",
    "\n",
    "        early_stopping(epoch_loss_val, model)\n",
    "\n",
    "        if early_stopping.early_stop:\n",
    "            print(\"Early stopping\")\n",
    "            break\n",
    "\n",
    "    print(f\"Finished fold {fold + 1}/{len(dataloaders)}\")\n",
    "\n",
    "print(\"Finished Training\")"
   ]
  },
  {
   "cell_type": "code",
   "execution_count": 5,
   "metadata": {},
   "outputs": [
    {
     "name": "stdout",
     "output_type": "stream",
     "text": [
      "Acurácias: [0.8125590441789385, 0.8251180883578771, 0.8145595998888581, 0.8277759253084361, 0.8185506279871068]\n",
      "Precisions: [0.835632291540823, 0.678723294809296, 0.8294192174705026, 0.8346890396011286]\n",
      "Recalls: [0.8346149096108615, 0.7075227391910582, 0.8248856956237753, 0.81604447974583]\n",
      "f1-scores: [0.8350991582487299, 0.6924806054736624, 0.8268682837168628, 0.8237559769099473]\n"
     ]
    }
   ],
   "source": [
    "# Dicionário para armazenar os relatórios de classificação para cada fold\n",
    "classification_reports = []\n",
    "\n",
    "# Caminho para a pasta com os modelos\n",
    "model_folder = f\"models/{checkpoint_folder}\"\n",
    "\n",
    "# Lista para armazenar a acurácia média de cada fold\n",
    "accuracy_list = []\n",
    "\n",
    "# Loop através de cada fold\n",
    "for fold in range(k_folds):\n",
    "    # Carregando o modelo\n",
    "    model_path = os.path.join(model_folder, f\"checkpoint_{fold}.pth\")\n",
    "    model.load_state_dict(torch.load(model_path))\n",
    "\n",
    "    # Pegando o dataloader de teste para este fold\n",
    "    _, test_loader = dataloaders[fold]\n",
    "\n",
    "    # Avaliando o modelo neste fold\n",
    "    model.eval()\n",
    "    all_labels = []\n",
    "    all_preds = []\n",
    "    with torch.no_grad():\n",
    "        for inputs, labels in test_loader:\n",
    "            inputs = inputs.unsqueeze(1).to(device)\n",
    "            labels = labels.to(device)\n",
    "\n",
    "            outputs = model(inputs)\n",
    "            _, preds = torch.max(outputs, 1)\n",
    "\n",
    "            all_labels.extend(labels.cpu().numpy())\n",
    "            all_preds.extend(preds.cpu().numpy())\n",
    "\n",
    "    # Calculando a acurácia para este fold\n",
    "    fold_accuracy = np.mean(np.array(all_labels) == np.array(all_preds))\n",
    "    accuracy_list.append(fold_accuracy)\n",
    "\n",
    "    # Gerando o relatório de classificação para este fold\n",
    "    report = classification_report(all_labels, all_preds, output_dict=True)\n",
    "    classification_reports.append(report)\n",
    "\n",
    "# Calculando a média e desvio padrão das métricas para cada classe em todos os folds\n",
    "metrics_list = {\n",
    "    class_: {\"precision\": [], \"recall\": [], \"f1-score\": [], \"support\": []}\n",
    "    for class_ in range(num_classes)\n",
    "}\n",
    "\n",
    "avg_metrics = metrics_list\n",
    "\n",
    "\n",
    "for report in classification_reports:\n",
    "    for class_ in range(num_classes):\n",
    "        metrics_list[class_][\"precision\"].append(report[str(class_)][\"precision\"])\n",
    "        metrics_list[class_][\"recall\"].append(report[str(class_)][\"recall\"])\n",
    "        metrics_list[class_][\"f1-score\"].append(report[str(class_)][\"f1-score\"])\n",
    "        metrics_list[class_][\"support\"].append(report[str(class_)][\"support\"])\n",
    "\n",
    "for class_ in range(num_classes):\n",
    "    avg_metrics[class_][\"precision_std\"] = np.std(avg_metrics[class_][\"precision\"])\n",
    "    avg_metrics[class_][\"recall_std\"] = np.std(avg_metrics[class_][\"recall\"])\n",
    "    avg_metrics[class_][\"f1-score_std\"] = np.std(avg_metrics[class_][\"f1-score\"])\n",
    "    avg_metrics[class_][\"support_std\"] = np.round(\n",
    "        np.std(avg_metrics[class_][\"support\"])\n",
    "    ).astype(int)\n",
    "\n",
    "    avg_metrics[class_][\"precision\"] = np.mean(metrics_list[class_][\"precision\"])\n",
    "    avg_metrics[class_][\"recall\"] = np.mean(metrics_list[class_][\"recall\"])\n",
    "    avg_metrics[class_][\"f1-score\"] = np.mean(metrics_list[class_][\"f1-score\"])\n",
    "    avg_metrics[class_][\"support\"] = np.round(\n",
    "        np.mean(metrics_list[class_][\"support\"])\n",
    "    ).astype(int)\n",
    "\n",
    "# Média e desvio padrão da acurácia\n",
    "accuracy_mean = np.mean(accuracy_list)\n",
    "accuracy_std = np.std(accuracy_list)\n",
    "\n",
    "\n",
    "print(\"Acurácias:\", accuracy_list)\n",
    "print(\"Precisions:\", [metrics_list[class_][\"precision\"] for class_ in range(num_classes)])\n",
    "print(\"Recalls:\", [metrics_list[class_][\"recall\"] for class_ in range(num_classes)])\n",
    "print(\"f1-scores:\", [metrics_list[class_][\"f1-score\"] for class_ in range(num_classes)])\n",
    "\n",
    "\n"
   ]
  },
  {
   "cell_type": "code",
   "execution_count": 6,
   "metadata": {},
   "outputs": [
    {
     "name": "stdout",
     "output_type": "stream",
     "text": [
      "Acurácia média: 0.8197126571442434\n",
      "Desvio padrão da acurácia: 0.005887503195577952\n",
      "================================================================================\n",
      "Class: Nada\n",
      "Precision\t\tRecall\t\t\tF1-Score\t\tSupport\n",
      "0.8356 ± 0.0046\t\t0.8346 ± 0.0105\t\t0.8351 ± 0.0067\t\t9154\n",
      "================================================================================\n",
      "Class: Grito\n",
      "Precision\t\tRecall\t\t\tF1-Score\t\tSupport\n",
      "0.6787 ± 0.0127\t\t0.7075 ± 0.0227\t\t0.6925 ± 0.0098\t\t1457\n",
      "================================================================================\n",
      "Class: Violência Física\n",
      "Precision\t\tRecall\t\t\tF1-Score\t\tSupport\n",
      "0.8294 ± 0.0205\t\t0.8249 ± 0.0115\t\t0.8269 ± 0.0066\t\t6124\n",
      "================================================================================\n",
      "Class: Tiro\n",
      "Precision\t\tRecall\t\t\tF1-Score\t\tSupport\n",
      "0.8347 ± 0.0367\t\t0.8160 ± 0.0345\t\t0.8238 ± 0.0069\t\t1259\n",
      "================================================================================\n"
     ]
    }
   ],
   "source": [
    "annotation_dict = {\n",
    "    0: \"Nada\",\n",
    "    1: \"Grito\",\n",
    "    2: \"Violência Física\",\n",
    "    3: \"Tiro\",\n",
    "    4: \"Explosão\",\n",
    "    5: \"Grito de Esforço\",\n",
    "}\n",
    "\n",
    "\n",
    "print(\"Acurácia média:\", accuracy_mean)\n",
    "print(\"Desvio padrão da acurácia:\", accuracy_std)\n",
    "\n",
    "print(\n",
    "    \"================================================================================\"\n",
    ")\n",
    "\n",
    "for class_ in range(num_classes):\n",
    "    print(f\"Class: {annotation_dict[class_]}\")\n",
    "    print(\"Precision\\t\\tRecall\\t\\t\\tF1-Score\\t\\tSupport\")\n",
    "    print(\n",
    "        \"{:.4f} ± {:.4f}\\t\\t{:.4f} ± {:.4f}\\t\\t{:.4f} ± {:.4f}\\t\\t{}\".format(\n",
    "            avg_metrics[class_][\"precision\"],\n",
    "            avg_metrics[class_][\"precision_std\"],\n",
    "            avg_metrics[class_][\"recall\"],\n",
    "            avg_metrics[class_][\"recall_std\"],\n",
    "            avg_metrics[class_][\"f1-score\"],\n",
    "            avg_metrics[class_][\"f1-score_std\"],\n",
    "            avg_metrics[class_][\"support\"],\n",
    "        )\n",
    "    )\n",
    "    print(\n",
    "        \"================================================================================\"\n",
    "    )"
   ]
  }
 ],
 "metadata": {
  "kernelspec": {
   "display_name": ".venv",
   "language": "python",
   "name": "python3"
  },
  "language_info": {
   "codemirror_mode": {
    "name": "ipython",
    "version": 3
   },
   "file_extension": ".py",
   "mimetype": "text/x-python",
   "name": "python",
   "nbconvert_exporter": "python",
   "pygments_lexer": "ipython3",
   "version": "3.8.10"
  },
  "orig_nbformat": 4
 },
 "nbformat": 4,
 "nbformat_minor": 2
}
