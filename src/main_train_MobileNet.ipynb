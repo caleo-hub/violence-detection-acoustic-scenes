{
 "cells": [
  {
   "cell_type": "code",
   "execution_count": 1,
   "metadata": {},
   "outputs": [],
   "source": [
    "from utils.dataloader import H5Dataset\n",
    "from utils.EarlyStopping import EarlyStopping\n",
    "\n",
    "import torch\n",
    "import torch.nn as nn\n",
    "import torch.optim as optim\n",
    "import torchvision.models as models\n",
    "from sklearn.metrics import classification_report\n",
    "from tqdm import tqdm\n",
    "\n",
    "from torchvision.models import MobileNet_V2_Weights\n",
    "\n",
    "import numpy as np\n",
    "import os"
   ]
  },
  {
   "cell_type": "code",
   "execution_count": 2,
   "metadata": {},
   "outputs": [],
   "source": [
    "num_classes = 4\n",
    "k_folds = 5\n",
    "num_epochs = 15\n",
    "batch_size = 32\n",
    "patience = 2\n",
    "random_state = 21\n",
    "checkpoint_folder = \"mobilenet\"\n",
    "\n",
    "# Caminho para os arquivos h5\n",
    "h5_files = [\n",
    "    \"h5_files/GunshotForensic_feature.h5\",\n",
    "    \"h5_files/HEAR_Train_feature.h5\",\n",
    "    \"h5_files/MIVIA_test_feature.h5\",\n",
    "    \"h5_files/MIVIA_train_feature.h5\",\n",
    "    \"h5_files/SESA_feature.h5\",\n",
    "    \"h5_files/vsd_clipped_feature.h5\",\n",
    "    \"h5_files/Audioset_feature.h5\",\n",
    "]\n",
    "\n",
    "# Carregando os dataloaders\n",
    "dataset = H5Dataset(\n",
    "    h5_files, exclude_classes=[4, 5, 6], n_splits=k_folds, random_state=random_state\n",
    ")\n",
    "dataloaders = dataset.get_k_fold_data_loaders(batch_size=batch_size, num_workers=4)"
   ]
  },
  {
   "cell_type": "code",
   "execution_count": 3,
   "metadata": {},
   "outputs": [
    {
     "name": "stdout",
     "output_type": "stream",
     "text": [
      "Treinamento realizado no dispositivo: cuda\n"
     ]
    }
   ],
   "source": [
    "device = torch.device(\"cuda\" if torch.cuda.is_available() else \"cpu\")\n",
    "print(\"Treinamento realizado no dispositivo:\", device)\n",
    "\n",
    "criterion = nn.CrossEntropyLoss()"
   ]
  },
  {
   "cell_type": "code",
   "execution_count": 4,
   "metadata": {},
   "outputs": [
    {
     "name": "stdout",
     "output_type": "stream",
     "text": [
      "Starting fold 1/5\n",
      "Starting epoch 1/15\n"
     ]
    },
    {
     "name": "stderr",
     "output_type": "stream",
     "text": [
      "100%|██████████| 2250/2250 [01:05<00:00, 34.11it/s]\n",
      "100%|██████████| 563/563 [01:08<00:00,  8.21it/s] \n"
     ]
    },
    {
     "name": "stdout",
     "output_type": "stream",
     "text": [
      "Train Loss: 0.8623 Train Acc: 0.6238\n",
      "Validation Loss: 0.7150 Validation Acc: 0.6976\n",
      "Validation loss decreased (inf --> 0.715040).  Saving model ...\n",
      "Starting epoch 2/15\n"
     ]
    },
    {
     "name": "stderr",
     "output_type": "stream",
     "text": [
      "100%|██████████| 2250/2250 [01:14<00:00, 30.27it/s]\n",
      "100%|██████████| 563/563 [01:07<00:00,  8.32it/s] \n"
     ]
    },
    {
     "name": "stdout",
     "output_type": "stream",
     "text": [
      "Train Loss: 0.6806 Train Acc: 0.7102\n",
      "Validation Loss: 0.6012 Validation Acc: 0.7463\n",
      "Validation loss decreased (0.715040 --> 0.601195).  Saving model ...\n",
      "Starting epoch 3/15\n"
     ]
    },
    {
     "name": "stderr",
     "output_type": "stream",
     "text": [
      "100%|██████████| 2250/2250 [01:13<00:00, 30.79it/s]\n",
      "100%|██████████| 563/563 [01:08<00:00,  8.24it/s] \n"
     ]
    },
    {
     "name": "stdout",
     "output_type": "stream",
     "text": [
      "Train Loss: 0.6045 Train Acc: 0.7447\n",
      "Validation Loss: 0.5499 Validation Acc: 0.7727\n",
      "Validation loss decreased (0.601195 --> 0.549909).  Saving model ...\n",
      "Starting epoch 4/15\n"
     ]
    },
    {
     "name": "stderr",
     "output_type": "stream",
     "text": [
      "100%|██████████| 2250/2250 [01:14<00:00, 30.26it/s]\n",
      "100%|██████████| 563/563 [01:07<00:00,  8.28it/s] \n"
     ]
    },
    {
     "name": "stdout",
     "output_type": "stream",
     "text": [
      "Train Loss: 0.5635 Train Acc: 0.7616\n",
      "Validation Loss: 0.5256 Validation Acc: 0.7819\n",
      "Validation loss decreased (0.549909 --> 0.525610).  Saving model ...\n",
      "Starting epoch 5/15\n"
     ]
    },
    {
     "name": "stderr",
     "output_type": "stream",
     "text": [
      "100%|██████████| 2250/2250 [01:12<00:00, 31.12it/s]\n",
      "100%|██████████| 563/563 [01:08<00:00,  8.24it/s] \n"
     ]
    },
    {
     "name": "stdout",
     "output_type": "stream",
     "text": [
      "Train Loss: 0.5326 Train Acc: 0.7744\n",
      "Validation Loss: 0.4922 Validation Acc: 0.7947\n",
      "Validation loss decreased (0.525610 --> 0.492155).  Saving model ...\n",
      "Starting epoch 6/15\n"
     ]
    },
    {
     "name": "stderr",
     "output_type": "stream",
     "text": [
      "100%|██████████| 2250/2250 [01:09<00:00, 32.39it/s]\n",
      "100%|██████████| 563/563 [01:06<00:00,  8.49it/s] \n"
     ]
    },
    {
     "name": "stdout",
     "output_type": "stream",
     "text": [
      "Train Loss: 0.5032 Train Acc: 0.7878\n",
      "Validation Loss: 0.4726 Validation Acc: 0.8029\n",
      "Validation loss decreased (0.492155 --> 0.472580).  Saving model ...\n",
      "Starting epoch 7/15\n"
     ]
    },
    {
     "name": "stderr",
     "output_type": "stream",
     "text": [
      "100%|██████████| 2250/2250 [01:09<00:00, 32.37it/s]\n",
      "100%|██████████| 563/563 [01:07<00:00,  8.31it/s] \n"
     ]
    },
    {
     "name": "stdout",
     "output_type": "stream",
     "text": [
      "Train Loss: 0.4818 Train Acc: 0.7970\n",
      "Validation Loss: 0.4726 Validation Acc: 0.8033\n",
      "EarlyStopping counter: 1 out of 2\n",
      "Starting epoch 8/15\n"
     ]
    },
    {
     "name": "stderr",
     "output_type": "stream",
     "text": [
      "100%|██████████| 2250/2250 [01:11<00:00, 31.40it/s]\n",
      "100%|██████████| 563/563 [01:06<00:00,  8.47it/s] \n"
     ]
    },
    {
     "name": "stdout",
     "output_type": "stream",
     "text": [
      "Train Loss: 0.4648 Train Acc: 0.8052\n",
      "Validation Loss: 0.4420 Validation Acc: 0.8146\n",
      "Validation loss decreased (0.472580 --> 0.441959).  Saving model ...\n",
      "Starting epoch 9/15\n"
     ]
    },
    {
     "name": "stderr",
     "output_type": "stream",
     "text": [
      "100%|██████████| 2250/2250 [01:09<00:00, 32.45it/s]\n",
      "100%|██████████| 563/563 [01:06<00:00,  8.41it/s] \n"
     ]
    },
    {
     "name": "stdout",
     "output_type": "stream",
     "text": [
      "Train Loss: 0.4472 Train Acc: 0.8127\n",
      "Validation Loss: 0.4224 Validation Acc: 0.8267\n",
      "Validation loss decreased (0.441959 --> 0.422421).  Saving model ...\n",
      "Starting epoch 10/15\n"
     ]
    },
    {
     "name": "stderr",
     "output_type": "stream",
     "text": [
      "100%|██████████| 2250/2250 [01:09<00:00, 32.25it/s]\n",
      "100%|██████████| 563/563 [01:06<00:00,  8.47it/s] \n"
     ]
    },
    {
     "name": "stdout",
     "output_type": "stream",
     "text": [
      "Train Loss: 0.4321 Train Acc: 0.8205\n",
      "Validation Loss: 0.4065 Validation Acc: 0.8278\n",
      "Validation loss decreased (0.422421 --> 0.406535).  Saving model ...\n",
      "Starting epoch 11/15\n"
     ]
    },
    {
     "name": "stderr",
     "output_type": "stream",
     "text": [
      "100%|██████████| 2250/2250 [01:12<00:00, 31.15it/s]\n",
      "100%|██████████| 563/563 [01:06<00:00,  8.41it/s] \n"
     ]
    },
    {
     "name": "stdout",
     "output_type": "stream",
     "text": [
      "Train Loss: 0.4212 Train Acc: 0.8250\n",
      "Validation Loss: 0.3916 Validation Acc: 0.8391\n",
      "Validation loss decreased (0.406535 --> 0.391566).  Saving model ...\n",
      "Starting epoch 12/15\n"
     ]
    },
    {
     "name": "stderr",
     "output_type": "stream",
     "text": [
      "100%|██████████| 2250/2250 [01:11<00:00, 31.63it/s]\n",
      "100%|██████████| 563/563 [01:07<00:00,  8.39it/s] \n"
     ]
    },
    {
     "name": "stdout",
     "output_type": "stream",
     "text": [
      "Train Loss: 0.4058 Train Acc: 0.8319\n",
      "Validation Loss: 0.3983 Validation Acc: 0.8348\n",
      "EarlyStopping counter: 1 out of 2\n",
      "Starting epoch 13/15\n"
     ]
    },
    {
     "name": "stderr",
     "output_type": "stream",
     "text": [
      "100%|██████████| 2250/2250 [01:08<00:00, 32.88it/s]\n",
      "100%|██████████| 563/563 [01:06<00:00,  8.42it/s] \n"
     ]
    },
    {
     "name": "stdout",
     "output_type": "stream",
     "text": [
      "Train Loss: 0.3935 Train Acc: 0.8375\n",
      "Validation Loss: 0.3815 Validation Acc: 0.8416\n",
      "Validation loss decreased (0.391566 --> 0.381469).  Saving model ...\n",
      "Starting epoch 14/15\n"
     ]
    },
    {
     "name": "stderr",
     "output_type": "stream",
     "text": [
      "100%|██████████| 2250/2250 [01:12<00:00, 31.22it/s]\n",
      "100%|██████████| 563/563 [01:06<00:00,  8.43it/s] \n"
     ]
    },
    {
     "name": "stdout",
     "output_type": "stream",
     "text": [
      "Train Loss: 0.3811 Train Acc: 0.8423\n",
      "Validation Loss: 0.3720 Validation Acc: 0.8493\n",
      "Validation loss decreased (0.381469 --> 0.372028).  Saving model ...\n",
      "Starting epoch 15/15\n"
     ]
    },
    {
     "name": "stderr",
     "output_type": "stream",
     "text": [
      "100%|██████████| 2250/2250 [01:11<00:00, 31.40it/s]\n",
      "100%|██████████| 563/563 [01:06<00:00,  8.40it/s] \n"
     ]
    },
    {
     "name": "stdout",
     "output_type": "stream",
     "text": [
      "Train Loss: 0.3707 Train Acc: 0.8472\n",
      "Validation Loss: 0.3650 Validation Acc: 0.8501\n",
      "Validation loss decreased (0.372028 --> 0.365011).  Saving model ...\n",
      "Finished fold 1/5\n",
      "Starting fold 2/5\n",
      "Starting epoch 1/15\n"
     ]
    },
    {
     "name": "stderr",
     "output_type": "stream",
     "text": [
      "100%|██████████| 2250/2250 [01:10<00:00, 32.08it/s]\n",
      "100%|██████████| 563/563 [01:06<00:00,  8.40it/s] \n"
     ]
    },
    {
     "name": "stdout",
     "output_type": "stream",
     "text": [
      "Train Loss: 0.8596 Train Acc: 0.6250\n",
      "Validation Loss: 0.7105 Validation Acc: 0.7038\n",
      "Validation loss decreased (inf --> 0.710520).  Saving model ...\n",
      "Starting epoch 2/15\n"
     ]
    },
    {
     "name": "stderr",
     "output_type": "stream",
     "text": [
      "100%|██████████| 2250/2250 [01:08<00:00, 32.65it/s]\n",
      "100%|██████████| 563/563 [01:07<00:00,  8.40it/s] \n"
     ]
    },
    {
     "name": "stdout",
     "output_type": "stream",
     "text": [
      "Train Loss: 0.6727 Train Acc: 0.7170\n",
      "Validation Loss: 0.6202 Validation Acc: 0.7388\n",
      "Validation loss decreased (0.710520 --> 0.620198).  Saving model ...\n",
      "Starting epoch 3/15\n"
     ]
    },
    {
     "name": "stderr",
     "output_type": "stream",
     "text": [
      "100%|██████████| 2250/2250 [01:08<00:00, 32.90it/s]\n",
      "100%|██████████| 563/563 [01:06<00:00,  8.45it/s] \n"
     ]
    },
    {
     "name": "stdout",
     "output_type": "stream",
     "text": [
      "Train Loss: 0.6075 Train Acc: 0.7433\n",
      "Validation Loss: 0.5644 Validation Acc: 0.7648\n",
      "Validation loss decreased (0.620198 --> 0.564433).  Saving model ...\n",
      "Starting epoch 4/15\n"
     ]
    },
    {
     "name": "stderr",
     "output_type": "stream",
     "text": [
      "100%|██████████| 2250/2250 [01:10<00:00, 31.96it/s]\n",
      "100%|██████████| 563/563 [01:06<00:00,  8.41it/s] \n"
     ]
    },
    {
     "name": "stdout",
     "output_type": "stream",
     "text": [
      "Train Loss: 0.5577 Train Acc: 0.7659\n",
      "Validation Loss: 0.5318 Validation Acc: 0.7749\n",
      "Validation loss decreased (0.564433 --> 0.531786).  Saving model ...\n",
      "Starting epoch 5/15\n"
     ]
    },
    {
     "name": "stderr",
     "output_type": "stream",
     "text": [
      "100%|██████████| 2250/2250 [01:10<00:00, 31.71it/s]\n",
      "100%|██████████| 563/563 [01:06<00:00,  8.49it/s] \n"
     ]
    },
    {
     "name": "stdout",
     "output_type": "stream",
     "text": [
      "Train Loss: 0.5302 Train Acc: 0.7779\n",
      "Validation Loss: 0.5068 Validation Acc: 0.7894\n",
      "Validation loss decreased (0.531786 --> 0.506828).  Saving model ...\n",
      "Starting epoch 6/15\n"
     ]
    },
    {
     "name": "stderr",
     "output_type": "stream",
     "text": [
      "100%|██████████| 2250/2250 [01:09<00:00, 32.48it/s]\n",
      "100%|██████████| 563/563 [01:07<00:00,  8.35it/s] \n"
     ]
    },
    {
     "name": "stdout",
     "output_type": "stream",
     "text": [
      "Train Loss: 0.5049 Train Acc: 0.7891\n",
      "Validation Loss: 0.4858 Validation Acc: 0.7997\n",
      "Validation loss decreased (0.506828 --> 0.485761).  Saving model ...\n",
      "Starting epoch 7/15\n"
     ]
    },
    {
     "name": "stderr",
     "output_type": "stream",
     "text": [
      "100%|██████████| 2250/2250 [01:08<00:00, 32.88it/s]\n",
      "100%|██████████| 563/563 [01:06<00:00,  8.41it/s] \n"
     ]
    },
    {
     "name": "stdout",
     "output_type": "stream",
     "text": [
      "Train Loss: 0.4870 Train Acc: 0.7968\n",
      "Validation Loss: 0.4727 Validation Acc: 0.7993\n",
      "Validation loss decreased (0.485761 --> 0.472744).  Saving model ...\n",
      "Starting epoch 8/15\n"
     ]
    },
    {
     "name": "stderr",
     "output_type": "stream",
     "text": [
      "100%|██████████| 2250/2250 [01:10<00:00, 31.79it/s]\n",
      "100%|██████████| 563/563 [01:06<00:00,  8.44it/s] \n"
     ]
    },
    {
     "name": "stdout",
     "output_type": "stream",
     "text": [
      "Train Loss: 0.4698 Train Acc: 0.8033\n",
      "Validation Loss: 0.4586 Validation Acc: 0.8039\n",
      "Validation loss decreased (0.472744 --> 0.458587).  Saving model ...\n",
      "Starting epoch 9/15\n"
     ]
    },
    {
     "name": "stderr",
     "output_type": "stream",
     "text": [
      "100%|██████████| 2250/2250 [01:07<00:00, 33.35it/s]\n",
      "100%|██████████| 563/563 [01:07<00:00,  8.39it/s] \n"
     ]
    },
    {
     "name": "stdout",
     "output_type": "stream",
     "text": [
      "Train Loss: 0.4582 Train Acc: 0.8074\n",
      "Validation Loss: 0.4439 Validation Acc: 0.8133\n",
      "Validation loss decreased (0.458587 --> 0.443878).  Saving model ...\n",
      "Starting epoch 10/15\n"
     ]
    },
    {
     "name": "stderr",
     "output_type": "stream",
     "text": [
      "100%|██████████| 2250/2250 [01:10<00:00, 31.99it/s]\n",
      "100%|██████████| 563/563 [01:06<00:00,  8.48it/s] \n"
     ]
    },
    {
     "name": "stdout",
     "output_type": "stream",
     "text": [
      "Train Loss: 0.4442 Train Acc: 0.8145\n",
      "Validation Loss: 0.4350 Validation Acc: 0.8159\n",
      "Validation loss decreased (0.443878 --> 0.435032).  Saving model ...\n",
      "Starting epoch 11/15\n"
     ]
    },
    {
     "name": "stderr",
     "output_type": "stream",
     "text": [
      "100%|██████████| 2250/2250 [01:10<00:00, 31.89it/s]\n",
      "100%|██████████| 563/563 [01:07<00:00,  8.33it/s] \n"
     ]
    },
    {
     "name": "stdout",
     "output_type": "stream",
     "text": [
      "Train Loss: 0.4353 Train Acc: 0.8173\n",
      "Validation Loss: 0.4245 Validation Acc: 0.8219\n",
      "Validation loss decreased (0.435032 --> 0.424491).  Saving model ...\n",
      "Starting epoch 12/15\n"
     ]
    },
    {
     "name": "stderr",
     "output_type": "stream",
     "text": [
      "100%|██████████| 2250/2250 [01:09<00:00, 32.53it/s]\n",
      "100%|██████████| 563/563 [01:06<00:00,  8.47it/s] \n"
     ]
    },
    {
     "name": "stdout",
     "output_type": "stream",
     "text": [
      "Train Loss: 0.4229 Train Acc: 0.8219\n",
      "Validation Loss: 0.4186 Validation Acc: 0.8253\n",
      "Validation loss decreased (0.424491 --> 0.418615).  Saving model ...\n",
      "Starting epoch 13/15\n"
     ]
    },
    {
     "name": "stderr",
     "output_type": "stream",
     "text": [
      "100%|██████████| 2250/2250 [01:11<00:00, 31.60it/s]\n",
      "100%|██████████| 563/563 [01:06<00:00,  8.42it/s] \n"
     ]
    },
    {
     "name": "stdout",
     "output_type": "stream",
     "text": [
      "Train Loss: 0.4131 Train Acc: 0.8284\n",
      "Validation Loss: 0.4096 Validation Acc: 0.8265\n",
      "Validation loss decreased (0.418615 --> 0.409551).  Saving model ...\n",
      "Starting epoch 14/15\n"
     ]
    },
    {
     "name": "stderr",
     "output_type": "stream",
     "text": [
      "100%|██████████| 2250/2250 [01:09<00:00, 32.25it/s]\n",
      "100%|██████████| 563/563 [01:06<00:00,  8.48it/s] \n"
     ]
    },
    {
     "name": "stdout",
     "output_type": "stream",
     "text": [
      "Train Loss: 0.4064 Train Acc: 0.8289\n",
      "Validation Loss: 0.4016 Validation Acc: 0.8311\n",
      "Validation loss decreased (0.409551 --> 0.401577).  Saving model ...\n",
      "Starting epoch 15/15\n"
     ]
    },
    {
     "name": "stderr",
     "output_type": "stream",
     "text": [
      "100%|██████████| 2250/2250 [01:10<00:00, 31.97it/s]\n",
      "100%|██████████| 563/563 [01:07<00:00,  8.37it/s] \n"
     ]
    },
    {
     "name": "stdout",
     "output_type": "stream",
     "text": [
      "Train Loss: 0.3973 Train Acc: 0.8346\n",
      "Validation Loss: 0.4056 Validation Acc: 0.8269\n",
      "EarlyStopping counter: 1 out of 2\n",
      "Finished fold 2/5\n",
      "Starting fold 3/5\n",
      "Starting epoch 1/15\n"
     ]
    },
    {
     "name": "stderr",
     "output_type": "stream",
     "text": [
      "100%|██████████| 2250/2250 [01:10<00:00, 31.86it/s]\n",
      "100%|██████████| 563/563 [01:06<00:00,  8.44it/s] \n"
     ]
    },
    {
     "name": "stdout",
     "output_type": "stream",
     "text": [
      "Train Loss: 0.8575 Train Acc: 0.6208\n",
      "Validation Loss: 0.7126 Validation Acc: 0.6911\n",
      "Validation loss decreased (inf --> 0.712642).  Saving model ...\n",
      "Starting epoch 2/15\n"
     ]
    },
    {
     "name": "stderr",
     "output_type": "stream",
     "text": [
      "100%|██████████| 2250/2250 [01:11<00:00, 31.66it/s]\n",
      "100%|██████████| 563/563 [01:07<00:00,  8.38it/s] \n"
     ]
    },
    {
     "name": "stdout",
     "output_type": "stream",
     "text": [
      "Train Loss: 0.6682 Train Acc: 0.7168\n",
      "Validation Loss: 0.6068 Validation Acc: 0.7452\n",
      "Validation loss decreased (0.712642 --> 0.606768).  Saving model ...\n",
      "Starting epoch 3/15\n"
     ]
    },
    {
     "name": "stderr",
     "output_type": "stream",
     "text": [
      "100%|██████████| 2250/2250 [01:12<00:00, 30.94it/s]\n",
      "100%|██████████| 563/563 [01:06<00:00,  8.48it/s] \n"
     ]
    },
    {
     "name": "stdout",
     "output_type": "stream",
     "text": [
      "Train Loss: 0.5919 Train Acc: 0.7506\n",
      "Validation Loss: 0.5485 Validation Acc: 0.7675\n",
      "Validation loss decreased (0.606768 --> 0.548460).  Saving model ...\n",
      "Starting epoch 4/15\n"
     ]
    },
    {
     "name": "stderr",
     "output_type": "stream",
     "text": [
      "100%|██████████| 2250/2250 [01:11<00:00, 31.44it/s]\n",
      "100%|██████████| 563/563 [00:59<00:00,  9.46it/s] \n"
     ]
    },
    {
     "name": "stdout",
     "output_type": "stream",
     "text": [
      "Train Loss: 0.5568 Train Acc: 0.7644\n",
      "Validation Loss: 0.5368 Validation Acc: 0.7722\n",
      "Validation loss decreased (0.548460 --> 0.536849).  Saving model ...\n",
      "Starting epoch 5/15\n"
     ]
    },
    {
     "name": "stderr",
     "output_type": "stream",
     "text": [
      "100%|██████████| 2250/2250 [01:08<00:00, 32.96it/s]\n",
      "100%|██████████| 563/563 [00:58<00:00,  9.57it/s] \n"
     ]
    },
    {
     "name": "stdout",
     "output_type": "stream",
     "text": [
      "Train Loss: 0.5300 Train Acc: 0.7771\n",
      "Validation Loss: 0.5064 Validation Acc: 0.7880\n",
      "Validation loss decreased (0.536849 --> 0.506365).  Saving model ...\n",
      "Starting epoch 6/15\n"
     ]
    },
    {
     "name": "stderr",
     "output_type": "stream",
     "text": [
      "100%|██████████| 2250/2250 [01:09<00:00, 32.14it/s]\n",
      "100%|██████████| 563/563 [00:58<00:00,  9.61it/s] \n"
     ]
    },
    {
     "name": "stdout",
     "output_type": "stream",
     "text": [
      "Train Loss: 0.5057 Train Acc: 0.7875\n",
      "Validation Loss: 0.4793 Validation Acc: 0.7969\n",
      "Validation loss decreased (0.506365 --> 0.479251).  Saving model ...\n",
      "Starting epoch 7/15\n"
     ]
    },
    {
     "name": "stderr",
     "output_type": "stream",
     "text": [
      "100%|██████████| 2250/2250 [01:09<00:00, 32.23it/s]\n",
      "100%|██████████| 563/563 [00:58<00:00,  9.59it/s] \n"
     ]
    },
    {
     "name": "stdout",
     "output_type": "stream",
     "text": [
      "Train Loss: 0.4880 Train Acc: 0.7950\n",
      "Validation Loss: 0.4628 Validation Acc: 0.8059\n",
      "Validation loss decreased (0.479251 --> 0.462848).  Saving model ...\n",
      "Starting epoch 8/15\n"
     ]
    },
    {
     "name": "stderr",
     "output_type": "stream",
     "text": [
      "100%|██████████| 2250/2250 [01:06<00:00, 33.60it/s]\n",
      "100%|██████████| 563/563 [00:58<00:00,  9.66it/s] \n"
     ]
    },
    {
     "name": "stdout",
     "output_type": "stream",
     "text": [
      "Train Loss: 0.4738 Train Acc: 0.8010\n",
      "Validation Loss: 0.4526 Validation Acc: 0.8098\n",
      "Validation loss decreased (0.462848 --> 0.452619).  Saving model ...\n",
      "Starting epoch 9/15\n"
     ]
    },
    {
     "name": "stderr",
     "output_type": "stream",
     "text": [
      "100%|██████████| 2250/2250 [01:07<00:00, 33.29it/s]\n",
      "100%|██████████| 563/563 [00:58<00:00,  9.60it/s] \n"
     ]
    },
    {
     "name": "stdout",
     "output_type": "stream",
     "text": [
      "Train Loss: 0.4574 Train Acc: 0.8085\n",
      "Validation Loss: 0.4399 Validation Acc: 0.8184\n",
      "Validation loss decreased (0.452619 --> 0.439935).  Saving model ...\n",
      "Starting epoch 10/15\n"
     ]
    },
    {
     "name": "stderr",
     "output_type": "stream",
     "text": [
      "100%|██████████| 2250/2250 [01:06<00:00, 33.62it/s]\n",
      "100%|██████████| 563/563 [00:58<00:00,  9.58it/s] \n"
     ]
    },
    {
     "name": "stdout",
     "output_type": "stream",
     "text": [
      "Train Loss: 0.4448 Train Acc: 0.8127\n",
      "Validation Loss: 0.4244 Validation Acc: 0.8227\n",
      "Validation loss decreased (0.439935 --> 0.424383).  Saving model ...\n",
      "Starting epoch 11/15\n"
     ]
    },
    {
     "name": "stderr",
     "output_type": "stream",
     "text": [
      "100%|██████████| 2250/2250 [01:06<00:00, 33.86it/s]\n",
      "100%|██████████| 563/563 [00:58<00:00,  9.62it/s] \n"
     ]
    },
    {
     "name": "stdout",
     "output_type": "stream",
     "text": [
      "Train Loss: 0.4312 Train Acc: 0.8199\n",
      "Validation Loss: 0.4180 Validation Acc: 0.8267\n",
      "Validation loss decreased (0.424383 --> 0.417994).  Saving model ...\n",
      "Starting epoch 12/15\n"
     ]
    },
    {
     "name": "stderr",
     "output_type": "stream",
     "text": [
      "100%|██████████| 2250/2250 [01:08<00:00, 33.05it/s]\n",
      "100%|██████████| 563/563 [00:58<00:00,  9.59it/s] \n"
     ]
    },
    {
     "name": "stdout",
     "output_type": "stream",
     "text": [
      "Train Loss: 0.4191 Train Acc: 0.8247\n",
      "Validation Loss: 0.4098 Validation Acc: 0.8295\n",
      "Validation loss decreased (0.417994 --> 0.409773).  Saving model ...\n",
      "Starting epoch 13/15\n"
     ]
    },
    {
     "name": "stderr",
     "output_type": "stream",
     "text": [
      "100%|██████████| 2250/2250 [01:11<00:00, 31.34it/s]\n",
      "100%|██████████| 563/563 [00:59<00:00,  9.54it/s] \n"
     ]
    },
    {
     "name": "stdout",
     "output_type": "stream",
     "text": [
      "Train Loss: 0.4045 Train Acc: 0.8316\n",
      "Validation Loss: 0.3970 Validation Acc: 0.8383\n",
      "Validation loss decreased (0.409773 --> 0.397037).  Saving model ...\n",
      "Starting epoch 14/15\n"
     ]
    },
    {
     "name": "stderr",
     "output_type": "stream",
     "text": [
      "100%|██████████| 2250/2250 [01:08<00:00, 32.81it/s]\n",
      "100%|██████████| 563/563 [00:58<00:00,  9.62it/s] \n"
     ]
    },
    {
     "name": "stdout",
     "output_type": "stream",
     "text": [
      "Train Loss: 0.3972 Train Acc: 0.8359\n",
      "Validation Loss: 0.3926 Validation Acc: 0.8397\n",
      "Validation loss decreased (0.397037 --> 0.392639).  Saving model ...\n",
      "Starting epoch 15/15\n"
     ]
    },
    {
     "name": "stderr",
     "output_type": "stream",
     "text": [
      "100%|██████████| 2250/2250 [01:10<00:00, 32.03it/s]\n",
      "100%|██████████| 563/563 [00:58<00:00,  9.63it/s] \n"
     ]
    },
    {
     "name": "stdout",
     "output_type": "stream",
     "text": [
      "Train Loss: 0.3874 Train Acc: 0.8394\n",
      "Validation Loss: 0.3820 Validation Acc: 0.8452\n",
      "Validation loss decreased (0.392639 --> 0.382047).  Saving model ...\n",
      "Finished fold 3/5\n",
      "Starting fold 4/5\n",
      "Starting epoch 1/15\n"
     ]
    },
    {
     "name": "stderr",
     "output_type": "stream",
     "text": [
      "100%|██████████| 2250/2250 [01:12<00:00, 31.18it/s]\n",
      "100%|██████████| 563/563 [00:58<00:00,  9.62it/s] \n"
     ]
    },
    {
     "name": "stdout",
     "output_type": "stream",
     "text": [
      "Train Loss: 0.8661 Train Acc: 0.6179\n",
      "Validation Loss: 0.6990 Validation Acc: 0.7050\n",
      "Validation loss decreased (inf --> 0.698977).  Saving model ...\n",
      "Starting epoch 2/15\n"
     ]
    },
    {
     "name": "stderr",
     "output_type": "stream",
     "text": [
      "100%|██████████| 2250/2250 [01:08<00:00, 33.06it/s]\n",
      "100%|██████████| 563/563 [00:58<00:00,  9.62it/s] \n"
     ]
    },
    {
     "name": "stdout",
     "output_type": "stream",
     "text": [
      "Train Loss: 0.6738 Train Acc: 0.7158\n",
      "Validation Loss: 0.5987 Validation Acc: 0.7481\n",
      "Validation loss decreased (0.698977 --> 0.598726).  Saving model ...\n",
      "Starting epoch 3/15\n"
     ]
    },
    {
     "name": "stderr",
     "output_type": "stream",
     "text": [
      "100%|██████████| 2250/2250 [01:06<00:00, 33.77it/s]\n",
      "100%|██████████| 563/563 [00:59<00:00,  9.54it/s] \n"
     ]
    },
    {
     "name": "stdout",
     "output_type": "stream",
     "text": [
      "Train Loss: 0.6005 Train Acc: 0.7466\n",
      "Validation Loss: 0.5484 Validation Acc: 0.7714\n",
      "Validation loss decreased (0.598726 --> 0.548433).  Saving model ...\n",
      "Starting epoch 4/15\n"
     ]
    },
    {
     "name": "stderr",
     "output_type": "stream",
     "text": [
      "100%|██████████| 2250/2250 [01:08<00:00, 32.95it/s]\n",
      "100%|██████████| 563/563 [00:58<00:00,  9.55it/s] \n"
     ]
    },
    {
     "name": "stdout",
     "output_type": "stream",
     "text": [
      "Train Loss: 0.5600 Train Acc: 0.7640\n",
      "Validation Loss: 0.5085 Validation Acc: 0.7864\n",
      "Validation loss decreased (0.548433 --> 0.508515).  Saving model ...\n",
      "Starting epoch 5/15\n"
     ]
    },
    {
     "name": "stderr",
     "output_type": "stream",
     "text": [
      "100%|██████████| 2250/2250 [01:09<00:00, 32.38it/s]\n",
      "100%|██████████| 563/563 [00:58<00:00,  9.59it/s] \n"
     ]
    },
    {
     "name": "stdout",
     "output_type": "stream",
     "text": [
      "Train Loss: 0.5279 Train Acc: 0.7789\n",
      "Validation Loss: 0.4863 Validation Acc: 0.7965\n",
      "Validation loss decreased (0.508515 --> 0.486339).  Saving model ...\n",
      "Starting epoch 6/15\n"
     ]
    },
    {
     "name": "stderr",
     "output_type": "stream",
     "text": [
      "100%|██████████| 2250/2250 [01:06<00:00, 33.77it/s]\n",
      "100%|██████████| 563/563 [01:01<00:00,  9.19it/s] \n"
     ]
    },
    {
     "name": "stdout",
     "output_type": "stream",
     "text": [
      "Train Loss: 0.5063 Train Acc: 0.7863\n",
      "Validation Loss: 0.4685 Validation Acc: 0.8045\n",
      "Validation loss decreased (0.486339 --> 0.468527).  Saving model ...\n",
      "Starting epoch 7/15\n"
     ]
    },
    {
     "name": "stderr",
     "output_type": "stream",
     "text": [
      "100%|██████████| 2250/2250 [01:42<00:00, 22.01it/s]\n",
      "100%|██████████| 563/563 [01:00<00:00,  9.34it/s] \n"
     ]
    },
    {
     "name": "stdout",
     "output_type": "stream",
     "text": [
      "Train Loss: 0.4875 Train Acc: 0.7966\n",
      "Validation Loss: 0.4648 Validation Acc: 0.8058\n",
      "Validation loss decreased (0.468527 --> 0.464811).  Saving model ...\n",
      "Starting epoch 8/15\n"
     ]
    },
    {
     "name": "stderr",
     "output_type": "stream",
     "text": [
      "100%|██████████| 2250/2250 [01:46<00:00, 21.07it/s]\n",
      "100%|██████████| 563/563 [01:01<00:00,  9.15it/s]\n"
     ]
    },
    {
     "name": "stdout",
     "output_type": "stream",
     "text": [
      "Train Loss: 0.4704 Train Acc: 0.8035\n",
      "Validation Loss: 0.4450 Validation Acc: 0.8110\n",
      "Validation loss decreased (0.464811 --> 0.445032).  Saving model ...\n",
      "Starting epoch 9/15\n"
     ]
    },
    {
     "name": "stderr",
     "output_type": "stream",
     "text": [
      "100%|██████████| 2250/2250 [01:18<00:00, 28.65it/s]\n",
      "100%|██████████| 563/563 [01:00<00:00,  9.33it/s] \n"
     ]
    },
    {
     "name": "stdout",
     "output_type": "stream",
     "text": [
      "Train Loss: 0.4567 Train Acc: 0.8090\n",
      "Validation Loss: 0.5732 Validation Acc: 0.7576\n",
      "EarlyStopping counter: 1 out of 2\n",
      "Starting epoch 10/15\n"
     ]
    },
    {
     "name": "stderr",
     "output_type": "stream",
     "text": [
      "100%|██████████| 2250/2250 [01:10<00:00, 31.73it/s]\n",
      "100%|██████████| 563/563 [01:00<00:00,  9.36it/s] \n"
     ]
    },
    {
     "name": "stdout",
     "output_type": "stream",
     "text": [
      "Train Loss: 0.4394 Train Acc: 0.8146\n",
      "Validation Loss: 0.4145 Validation Acc: 0.8279\n",
      "Validation loss decreased (0.445032 --> 0.414477).  Saving model ...\n",
      "Starting epoch 11/15\n"
     ]
    },
    {
     "name": "stderr",
     "output_type": "stream",
     "text": [
      "100%|██████████| 2250/2250 [01:09<00:00, 32.15it/s]\n",
      "100%|██████████| 563/563 [01:03<00:00,  8.90it/s] \n"
     ]
    },
    {
     "name": "stdout",
     "output_type": "stream",
     "text": [
      "Train Loss: 0.4278 Train Acc: 0.8224\n",
      "Validation Loss: 0.4270 Validation Acc: 0.8247\n",
      "EarlyStopping counter: 1 out of 2\n",
      "Starting epoch 12/15\n"
     ]
    },
    {
     "name": "stderr",
     "output_type": "stream",
     "text": [
      "100%|██████████| 2250/2250 [01:01<00:00, 36.79it/s]\n",
      "100%|██████████| 563/563 [01:04<00:00,  8.69it/s] \n"
     ]
    },
    {
     "name": "stdout",
     "output_type": "stream",
     "text": [
      "Train Loss: 0.4150 Train Acc: 0.8276\n",
      "Validation Loss: 0.3979 Validation Acc: 0.8363\n",
      "Validation loss decreased (0.414477 --> 0.397870).  Saving model ...\n",
      "Starting epoch 13/15\n"
     ]
    },
    {
     "name": "stderr",
     "output_type": "stream",
     "text": [
      "100%|██████████| 2250/2250 [01:40<00:00, 22.48it/s]\n",
      "100%|██████████| 563/563 [01:04<00:00,  8.66it/s] \n"
     ]
    },
    {
     "name": "stdout",
     "output_type": "stream",
     "text": [
      "Train Loss: 0.4052 Train Acc: 0.8322\n",
      "Validation Loss: 0.4064 Validation Acc: 0.8326\n",
      "EarlyStopping counter: 1 out of 2\n",
      "Starting epoch 14/15\n"
     ]
    },
    {
     "name": "stderr",
     "output_type": "stream",
     "text": [
      "100%|██████████| 2250/2250 [01:11<00:00, 31.40it/s]\n",
      "100%|██████████| 563/563 [01:00<00:00,  9.29it/s] \n"
     ]
    },
    {
     "name": "stdout",
     "output_type": "stream",
     "text": [
      "Train Loss: 0.3923 Train Acc: 0.8377\n",
      "Validation Loss: 0.3815 Validation Acc: 0.8429\n",
      "Validation loss decreased (0.397870 --> 0.381467).  Saving model ...\n",
      "Starting epoch 15/15\n"
     ]
    },
    {
     "name": "stderr",
     "output_type": "stream",
     "text": [
      "100%|██████████| 2250/2250 [01:09<00:00, 32.41it/s]\n",
      "100%|██████████| 563/563 [01:01<00:00,  9.22it/s] \n"
     ]
    },
    {
     "name": "stdout",
     "output_type": "stream",
     "text": [
      "Train Loss: 0.3849 Train Acc: 0.8411\n",
      "Validation Loss: 0.3738 Validation Acc: 0.8472\n",
      "Validation loss decreased (0.381467 --> 0.373837).  Saving model ...\n",
      "Finished fold 4/5\n",
      "Starting fold 5/5\n",
      "Starting epoch 1/15\n"
     ]
    },
    {
     "name": "stderr",
     "output_type": "stream",
     "text": [
      "100%|██████████| 2250/2250 [01:07<00:00, 33.56it/s]\n",
      "100%|██████████| 563/563 [01:00<00:00,  9.32it/s] \n"
     ]
    },
    {
     "name": "stdout",
     "output_type": "stream",
     "text": [
      "Train Loss: 0.8751 Train Acc: 0.6085\n",
      "Validation Loss: 0.7616 Validation Acc: 0.6672\n",
      "Validation loss decreased (inf --> 0.761572).  Saving model ...\n",
      "Starting epoch 2/15\n"
     ]
    },
    {
     "name": "stderr",
     "output_type": "stream",
     "text": [
      "100%|██████████| 2250/2250 [01:03<00:00, 35.52it/s]\n",
      "100%|██████████| 563/563 [01:03<00:00,  8.82it/s] \n"
     ]
    },
    {
     "name": "stdout",
     "output_type": "stream",
     "text": [
      "Train Loss: 0.6888 Train Acc: 0.7093\n",
      "Validation Loss: 0.6370 Validation Acc: 0.7353\n",
      "Validation loss decreased (0.761572 --> 0.637031).  Saving model ...\n",
      "Starting epoch 3/15\n"
     ]
    },
    {
     "name": "stderr",
     "output_type": "stream",
     "text": [
      "100%|██████████| 2250/2250 [01:16<00:00, 29.59it/s]\n",
      "100%|██████████| 563/563 [01:03<00:00,  8.81it/s] \n"
     ]
    },
    {
     "name": "stdout",
     "output_type": "stream",
     "text": [
      "Train Loss: 0.6185 Train Acc: 0.7396\n",
      "Validation Loss: 0.5623 Validation Acc: 0.7673\n",
      "Validation loss decreased (0.637031 --> 0.562255).  Saving model ...\n",
      "Starting epoch 4/15\n"
     ]
    },
    {
     "name": "stderr",
     "output_type": "stream",
     "text": [
      "100%|██████████| 2250/2250 [01:17<00:00, 29.17it/s]\n",
      "100%|██████████| 563/563 [01:03<00:00,  8.83it/s] \n"
     ]
    },
    {
     "name": "stdout",
     "output_type": "stream",
     "text": [
      "Train Loss: 0.5727 Train Acc: 0.7598\n",
      "Validation Loss: 0.5231 Validation Acc: 0.7810\n",
      "Validation loss decreased (0.562255 --> 0.523099).  Saving model ...\n",
      "Starting epoch 5/15\n"
     ]
    },
    {
     "name": "stderr",
     "output_type": "stream",
     "text": [
      "100%|██████████| 2250/2250 [01:26<00:00, 25.99it/s]\n",
      "100%|██████████| 563/563 [01:01<00:00,  9.09it/s] \n"
     ]
    },
    {
     "name": "stdout",
     "output_type": "stream",
     "text": [
      "Train Loss: 0.5428 Train Acc: 0.7702\n",
      "Validation Loss: 0.5169 Validation Acc: 0.7839\n",
      "Validation loss decreased (0.523099 --> 0.516941).  Saving model ...\n",
      "Starting epoch 6/15\n"
     ]
    },
    {
     "name": "stderr",
     "output_type": "stream",
     "text": [
      "100%|██████████| 2250/2250 [01:11<00:00, 31.27it/s]\n",
      "100%|██████████| 563/563 [01:04<00:00,  8.71it/s] \n"
     ]
    },
    {
     "name": "stdout",
     "output_type": "stream",
     "text": [
      "Train Loss: 0.5250 Train Acc: 0.7781\n",
      "Validation Loss: 0.4969 Validation Acc: 0.7875\n",
      "Validation loss decreased (0.516941 --> 0.496889).  Saving model ...\n",
      "Starting epoch 7/15\n"
     ]
    },
    {
     "name": "stderr",
     "output_type": "stream",
     "text": [
      "100%|██████████| 2250/2250 [01:04<00:00, 34.84it/s]\n",
      "100%|██████████| 563/563 [01:03<00:00,  8.92it/s] \n"
     ]
    },
    {
     "name": "stdout",
     "output_type": "stream",
     "text": [
      "Train Loss: 0.5077 Train Acc: 0.7856\n",
      "Validation Loss: 0.4765 Validation Acc: 0.7985\n",
      "Validation loss decreased (0.496889 --> 0.476496).  Saving model ...\n",
      "Starting epoch 8/15\n"
     ]
    },
    {
     "name": "stderr",
     "output_type": "stream",
     "text": [
      "100%|██████████| 2250/2250 [01:13<00:00, 30.50it/s]\n",
      "100%|██████████| 563/563 [01:04<00:00,  8.76it/s] \n"
     ]
    },
    {
     "name": "stdout",
     "output_type": "stream",
     "text": [
      "Train Loss: 0.4873 Train Acc: 0.7940\n",
      "Validation Loss: 0.4792 Validation Acc: 0.8000\n",
      "EarlyStopping counter: 1 out of 2\n",
      "Starting epoch 9/15\n"
     ]
    },
    {
     "name": "stderr",
     "output_type": "stream",
     "text": [
      "100%|██████████| 2250/2250 [01:05<00:00, 34.16it/s]\n",
      "100%|██████████| 563/563 [01:04<00:00,  8.71it/s] \n"
     ]
    },
    {
     "name": "stdout",
     "output_type": "stream",
     "text": [
      "Train Loss: 0.4745 Train Acc: 0.7988\n",
      "Validation Loss: 0.4468 Validation Acc: 0.8133\n",
      "Validation loss decreased (0.476496 --> 0.446757).  Saving model ...\n",
      "Starting epoch 10/15\n"
     ]
    },
    {
     "name": "stderr",
     "output_type": "stream",
     "text": [
      "100%|██████████| 2250/2250 [01:06<00:00, 34.00it/s]\n",
      "100%|██████████| 563/563 [01:05<00:00,  8.64it/s] \n"
     ]
    },
    {
     "name": "stdout",
     "output_type": "stream",
     "text": [
      "Train Loss: 0.4664 Train Acc: 0.8026\n",
      "Validation Loss: 0.4415 Validation Acc: 0.8157\n",
      "Validation loss decreased (0.446757 --> 0.441522).  Saving model ...\n",
      "Starting epoch 11/15\n"
     ]
    },
    {
     "name": "stderr",
     "output_type": "stream",
     "text": [
      "100%|██████████| 2250/2250 [01:06<00:00, 33.80it/s]\n",
      "100%|██████████| 563/563 [01:03<00:00,  8.83it/s] \n"
     ]
    },
    {
     "name": "stdout",
     "output_type": "stream",
     "text": [
      "Train Loss: 0.4561 Train Acc: 0.8068\n",
      "Validation Loss: 0.4520 Validation Acc: 0.8075\n",
      "EarlyStopping counter: 1 out of 2\n",
      "Starting epoch 12/15\n"
     ]
    },
    {
     "name": "stderr",
     "output_type": "stream",
     "text": [
      "100%|██████████| 2250/2250 [08:51<00:00,  4.23it/s]\n",
      "100%|██████████| 563/563 [01:49<00:00,  5.15it/s] \n"
     ]
    },
    {
     "name": "stdout",
     "output_type": "stream",
     "text": [
      "Train Loss: 0.4452 Train Acc: 0.8107\n",
      "Validation Loss: 0.4258 Validation Acc: 0.8213\n",
      "Validation loss decreased (0.441522 --> 0.425779).  Saving model ...\n",
      "Starting epoch 13/15\n"
     ]
    },
    {
     "name": "stderr",
     "output_type": "stream",
     "text": [
      "100%|██████████| 2250/2250 [07:51<00:00,  4.77it/s]\n",
      "100%|██████████| 563/563 [01:15<00:00,  7.42it/s] \n"
     ]
    },
    {
     "name": "stdout",
     "output_type": "stream",
     "text": [
      "Train Loss: 0.4357 Train Acc: 0.8164\n",
      "Validation Loss: 0.4123 Validation Acc: 0.8286\n",
      "Validation loss decreased (0.425779 --> 0.412331).  Saving model ...\n",
      "Starting epoch 14/15\n"
     ]
    },
    {
     "name": "stderr",
     "output_type": "stream",
     "text": [
      "100%|██████████| 2250/2250 [04:44<00:00,  7.90it/s] \n",
      "100%|██████████| 563/563 [01:08<00:00,  8.16it/s] \n"
     ]
    },
    {
     "name": "stdout",
     "output_type": "stream",
     "text": [
      "Train Loss: 0.4244 Train Acc: 0.8204\n",
      "Validation Loss: 0.4092 Validation Acc: 0.8312\n",
      "Validation loss decreased (0.412331 --> 0.409174).  Saving model ...\n",
      "Starting epoch 15/15\n"
     ]
    },
    {
     "name": "stderr",
     "output_type": "stream",
     "text": [
      "100%|██████████| 2250/2250 [01:40<00:00, 22.42it/s]\n",
      "100%|██████████| 563/563 [01:06<00:00,  8.48it/s] "
     ]
    },
    {
     "name": "stdout",
     "output_type": "stream",
     "text": [
      "Train Loss: 0.4156 Train Acc: 0.8245\n",
      "Validation Loss: 0.4105 Validation Acc: 0.8292\n",
      "EarlyStopping counter: 1 out of 2\n",
      "Finished fold 5/5\n",
      "Finished Training\n"
     ]
    },
    {
     "name": "stderr",
     "output_type": "stream",
     "text": [
      "\n"
     ]
    }
   ],
   "source": [
    "# Loop de treinamento\n",
    "for fold, (train_loader, val_loader) in enumerate(dataloaders):\n",
    "    print(f\"Starting fold {fold + 1}/{len(dataloaders)}\")\n",
    "\n",
    "    # Ajustando a MobileNetV2\n",
    "    model = models.mobilenet_v2(weights=MobileNet_V2_Weights.DEFAULT)\n",
    "\n",
    "    num_ftrs = model.classifier[1].in_features\n",
    "    model.classifier[1] = nn.Linear(num_ftrs, num_classes)\n",
    "    model.features[0][0] = nn.Conv2d(\n",
    "        1, 32, kernel_size=(3, 3), stride=(2, 2), padding=(1, 1), bias=False\n",
    "    )\n",
    "\n",
    "    model = model.to(device)\n",
    "    optimizer = optim.SGD(model.parameters(), lr=0.0001, momentum=0.9)\n",
    "    # initialize the early_stopping object\n",
    "    early_stopping = EarlyStopping(\n",
    "        patience=patience, verbose=True, fold=fold, checkpoint_folder=checkpoint_folder\n",
    "    )\n",
    "\n",
    "    for epoch in range(num_epochs):  # número de épocas\n",
    "        print(f\"Starting epoch {epoch + 1}/{num_epochs}\")\n",
    "\n",
    "        # Treinamento\n",
    "        model.train()\n",
    "        running_loss_train = 0.0\n",
    "        running_corrects_train = 0\n",
    "        for i, (inputs, labels) in tqdm(\n",
    "            enumerate(train_loader), total=len(train_loader)\n",
    "        ):\n",
    "            inputs = inputs.unsqueeze(1).to(device)\n",
    "            labels = labels.to(device)\n",
    "\n",
    "            optimizer.zero_grad()\n",
    "\n",
    "            outputs = model(inputs)\n",
    "            _, preds = torch.max(outputs, 1)\n",
    "            running_corrects_train += torch.sum(preds == labels.data)\n",
    "            loss = criterion(outputs, labels)\n",
    "\n",
    "            loss.backward()\n",
    "            optimizer.step()\n",
    "\n",
    "            running_loss_train += loss.item() * inputs.size(0)\n",
    "\n",
    "        epoch_loss_train = running_loss_train / len(train_loader.dataset)\n",
    "        epoch_acc_train = running_corrects_train.double() / len(train_loader.dataset)\n",
    "\n",
    "        # Validação\n",
    "        model.eval()\n",
    "        running_loss_val = 0.0\n",
    "        running_corrects_val = 0\n",
    "        all_labels = []\n",
    "        all_preds = []\n",
    "        with torch.no_grad():\n",
    "            for inputs, labels in tqdm(val_loader):\n",
    "                inputs = inputs.unsqueeze(1).to(device)\n",
    "                labels = labels.to(device)\n",
    "\n",
    "                outputs = model(inputs)\n",
    "                _, preds = torch.max(outputs, 1)\n",
    "                running_corrects_val += torch.sum(preds == labels.data)\n",
    "                loss = criterion(outputs, labels)\n",
    "\n",
    "                running_loss_val += loss.item() * inputs.size(0)\n",
    "\n",
    "                all_labels.extend(labels.data.cpu().numpy())\n",
    "                all_preds.extend(preds.cpu().numpy())\n",
    "\n",
    "        epoch_loss_val = running_loss_val / len(val_loader.dataset)\n",
    "        epoch_acc_val = running_corrects_val.double() / len(val_loader.dataset)\n",
    "\n",
    "        print(f\"Train Loss: {epoch_loss_train:.4f} Train Acc: {epoch_acc_train:.4f}\")\n",
    "        print(\n",
    "            f\"Validation Loss: {epoch_loss_val:.4f} Validation Acc: {epoch_acc_val:.4f}\"\n",
    "        )\n",
    "\n",
    "        early_stopping(epoch_loss_val, model)\n",
    "\n",
    "        if early_stopping.early_stop:\n",
    "            print(\"Early stopping\")\n",
    "            break\n",
    "\n",
    "    print(f\"Finished fold {fold + 1}/{len(dataloaders)}\")\n",
    "\n",
    "print(\"Finished Training\")"
   ]
  },
  {
   "cell_type": "code",
   "execution_count": 5,
   "metadata": {},
   "outputs": [],
   "source": [
    "# Dicionário para armazenar os relatórios de classificação para cada fold\n",
    "classification_reports = []\n",
    "\n",
    "# Caminho para a pasta com os modelos\n",
    "model_folder = f\"models/{checkpoint_folder}\"\n",
    "\n",
    "# Lista para armazenar a acurácia média de cada fold\n",
    "accuracy_list = []\n",
    "\n",
    "# Loop através de cada fold\n",
    "for fold in range(k_folds):\n",
    "    # Carregando o modelo\n",
    "    model_path = os.path.join(model_folder, f\"checkpoint_{fold}.pth\")\n",
    "    model.load_state_dict(torch.load(model_path))\n",
    "\n",
    "    # Pegando o dataloader de teste para este fold\n",
    "    _, test_loader = dataloaders[fold]\n",
    "\n",
    "    # Avaliando o modelo neste fold\n",
    "    model.eval()\n",
    "    all_labels = []\n",
    "    all_preds = []\n",
    "    with torch.no_grad():\n",
    "        for inputs, labels in test_loader:\n",
    "            inputs = inputs.unsqueeze(1).to(device)\n",
    "            labels = labels.to(device)\n",
    "\n",
    "            outputs = model(inputs)\n",
    "            _, preds = torch.max(outputs, 1)\n",
    "\n",
    "            all_labels.extend(labels.cpu().numpy())\n",
    "            all_preds.extend(preds.cpu().numpy())\n",
    "\n",
    "    # Calculando a acurácia para este fold\n",
    "    fold_accuracy = np.mean(np.array(all_labels) == np.array(all_preds))\n",
    "    accuracy_list.append(fold_accuracy)\n",
    "\n",
    "    # Gerando o relatório de classificação para este fold\n",
    "    report = classification_report(all_labels, all_preds, output_dict=True)\n",
    "    classification_reports.append(report)\n",
    "\n",
    "# Calculando a média e desvio padrão das métricas para cada classe em todos os folds\n",
    "metrics_list = {\n",
    "    class_: {\"precision\": [], \"recall\": [], \"f1-score\": [], \"support\": []}\n",
    "    for class_ in range(num_classes)\n",
    "}\n",
    "\n",
    "avg_metrics = metrics_list\n",
    "\n",
    "\n",
    "for report in classification_reports:\n",
    "    for class_ in range(num_classes):\n",
    "        metrics_list[class_][\"precision\"].append(report[str(class_)][\"precision\"])\n",
    "        metrics_list[class_][\"recall\"].append(report[str(class_)][\"recall\"])\n",
    "        metrics_list[class_][\"f1-score\"].append(report[str(class_)][\"f1-score\"])\n",
    "        metrics_list[class_][\"support\"].append(report[str(class_)][\"support\"])\n",
    "\n",
    "for class_ in range(num_classes):\n",
    "    avg_metrics[class_][\"precision_std\"] = np.std(avg_metrics[class_][\"precision\"])\n",
    "    avg_metrics[class_][\"recall_std\"] = np.std(avg_metrics[class_][\"recall\"])\n",
    "    avg_metrics[class_][\"f1-score_std\"] = np.std(avg_metrics[class_][\"f1-score\"])\n",
    "    avg_metrics[class_][\"support_std\"] = np.round(\n",
    "        np.std(avg_metrics[class_][\"support\"])\n",
    "    ).astype(int)\n",
    "\n",
    "    avg_metrics[class_][\"precision\"] = np.mean(metrics_list[class_][\"precision\"])\n",
    "    avg_metrics[class_][\"recall\"] = np.mean(metrics_list[class_][\"recall\"])\n",
    "    avg_metrics[class_][\"f1-score\"] = np.mean(metrics_list[class_][\"f1-score\"])\n",
    "    avg_metrics[class_][\"support\"] = np.round(\n",
    "        np.mean(metrics_list[class_][\"support\"])\n",
    "    ).astype(int)\n",
    "\n",
    "# Média e desvio padrão da acurácia\n",
    "accuracy_mean = np.mean(accuracy_list)\n",
    "accuracy_std = np.std(accuracy_list)"
   ]
  },
  {
   "cell_type": "code",
   "execution_count": 9,
   "metadata": {},
   "outputs": [
    {
     "data": {
      "text/plain": [
       "[0.85012503473187,\n",
       " 0.8310641844956933,\n",
       " 0.8451792164490136,\n",
       " 0.8471712793153273,\n",
       " 0.8312215182838724]"
      ]
     },
     "execution_count": 9,
     "metadata": {},
     "output_type": "execute_result"
    }
   ],
   "source": [
    "accuracy_list"
   ]
  },
  {
   "cell_type": "code",
   "execution_count": 6,
   "metadata": {},
   "outputs": [],
   "source": [
    "def extract_metrics(data):\n",
    "    metrics = {}\n",
    "\n",
    "    for fold_index, fold in enumerate(data, start=1):\n",
    "        for class_label, class_scores in fold.items():\n",
    "            if class_label.isdigit():\n",
    "                for metric, value in class_scores.items():\n",
    "                    metric_key = f\"{metric}_classe{class_label}\"\n",
    "                    if metric_key not in metrics:\n",
    "                        metrics[metric_key] = [value]\n",
    "                    else:\n",
    "                        metrics[metric_key].append(value)\n",
    "\n",
    "    return metrics\n",
    "\n",
    "\n",
    "import csv\n",
    "\n",
    "\n",
    "def export_metrics_to_csv(metrics, filename, folder):\n",
    "    file_path = folder + \"/\" + filename\n",
    "\n",
    "    with open(file_path, \"w\", newline=\"\") as csvfile:\n",
    "        writer = csv.writer(csvfile)\n",
    "        headers = [\"Metrica\"] + [\n",
    "            \"Fold{}\".format(i) for i in range(1, len(metrics[next(iter(metrics))]) + 1)\n",
    "        ]\n",
    "        writer.writerow(headers)\n",
    "\n",
    "        for metric, values in metrics.items():\n",
    "            row = [metric] + values\n",
    "            writer.writerow(row)\n",
    "\n",
    "    print(f\"Arquivo CSV exportado com sucesso: {file_path}\")"
   ]
  },
  {
   "cell_type": "code",
   "execution_count": 7,
   "metadata": {},
   "outputs": [
    {
     "name": "stdout",
     "output_type": "stream",
     "text": [
      "Arquivo CSV exportado com sucesso: ./metrics_mobilenet.csv\n"
     ]
    }
   ],
   "source": [
    "metrics = extract_metrics(classification_reports)\n",
    "export_metrics_to_csv(metrics, \"metrics_mobilenet.csv\", \".\")"
   ]
  },
  {
   "cell_type": "code",
   "execution_count": 8,
   "metadata": {},
   "outputs": [
    {
     "name": "stdout",
     "output_type": "stream",
     "text": [
      "Acurácia média: 0.8409522466551552\n",
      "Desvio padrão da acurácia: 0.008162653121036938\n",
      "================================================================================\n",
      "Class: Nada\n",
      "Precision\t\tRecall\t\t\tF1-Score\t\tSupport\n",
      "0.8659 ± 0.0089\t\t0.8420 ± 0.0088\t\t0.8538 ± 0.0079\t\t9154\n",
      "================================================================================\n",
      "Class: Grito\n",
      "Precision\t\tRecall\t\t\tF1-Score\t\tSupport\n",
      "0.6648 ± 0.0150\t\t0.7562 ± 0.0091\t\t0.7074 ± 0.0085\t\t1457\n",
      "================================================================================\n",
      "Class: Violência Física\n",
      "Precision\t\tRecall\t\t\tF1-Score\t\tSupport\n",
      "0.8453 ± 0.0105\t\t0.8649 ± 0.0164\t\t0.8549 ± 0.0120\t\t6124\n",
      "================================================================================\n",
      "Class: Tiro\n",
      "Precision\t\tRecall\t\t\tF1-Score\t\tSupport\n",
      "0.8807 ± 0.0256\t\t0.8148 ± 0.0286\t\t0.8456 ± 0.0034\t\t1259\n",
      "================================================================================\n"
     ]
    }
   ],
   "source": [
    "annotation_dict = {\n",
    "    0: \"Nada\",\n",
    "    1: \"Grito\",\n",
    "    2: \"Violência Física\",\n",
    "    3: \"Tiro\",\n",
    "    4: \"Explosão\",\n",
    "    5: \"Grito de Esforço\",\n",
    "}\n",
    "\n",
    "\n",
    "print(\"Acurácia média:\", accuracy_mean)\n",
    "print(\"Desvio padrão da acurácia:\", accuracy_std)\n",
    "\n",
    "print(\n",
    "    \"================================================================================\"\n",
    ")\n",
    "\n",
    "for class_ in range(num_classes):\n",
    "    print(f\"Class: {annotation_dict[class_]}\")\n",
    "    print(\"Precision\\t\\tRecall\\t\\t\\tF1-Score\\t\\tSupport\")\n",
    "    print(\n",
    "        \"{:.4f} ± {:.4f}\\t\\t{:.4f} ± {:.4f}\\t\\t{:.4f} ± {:.4f}\\t\\t{}\".format(\n",
    "            avg_metrics[class_][\"precision\"],\n",
    "            avg_metrics[class_][\"precision_std\"],\n",
    "            avg_metrics[class_][\"recall\"],\n",
    "            avg_metrics[class_][\"recall_std\"],\n",
    "            avg_metrics[class_][\"f1-score\"],\n",
    "            avg_metrics[class_][\"f1-score_std\"],\n",
    "            avg_metrics[class_][\"support\"],\n",
    "        )\n",
    "    )\n",
    "    print(\n",
    "        \"================================================================================\"\n",
    "    )"
   ]
  }
 ],
 "metadata": {
  "kernelspec": {
   "display_name": ".venv",
   "language": "python",
   "name": "python3"
  },
  "language_info": {
   "codemirror_mode": {
    "name": "ipython",
    "version": 3
   },
   "file_extension": ".py",
   "mimetype": "text/x-python",
   "name": "python",
   "nbconvert_exporter": "python",
   "pygments_lexer": "ipython3",
   "version": "3.8.10"
  },
  "orig_nbformat": 4
 },
 "nbformat": 4,
 "nbformat_minor": 2
}
