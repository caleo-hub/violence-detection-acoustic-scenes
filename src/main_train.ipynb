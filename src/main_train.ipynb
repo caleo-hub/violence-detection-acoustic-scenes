{
 "cells": [
  {
   "cell_type": "code",
   "execution_count": 1,
   "metadata": {},
   "outputs": [],
   "source": [
    "\n",
    "from utils.dataloader import H5Dataset\n",
    "from utils.EarlyStopping import EarlyStopping\n",
    "import torch\n",
    "import torch.nn as nn\n",
    "import torch.optim as optim\n",
    "import torchvision.models as models\n",
    "from torch.utils.tensorboard import SummaryWriter\n",
    "from sklearn.metrics import classification_report\n",
    "from tqdm import tqdm\n",
    "from utils.dataloader import H5Dataset\n",
    "\n"
   ]
  },
  {
   "cell_type": "code",
   "execution_count": 2,
   "metadata": {},
   "outputs": [],
   "source": [
    "num_classes = 6\n",
    "k_folds = 10\n",
    "num_epochs = 20\n",
    "\n",
    "\n",
    "\n",
    "# Caminho para os arquivos h5\n",
    "h5_files = ['h5_files/GunshotForensic_feature.h5',\n",
    "            'h5_files/HEAR_Test_feature.h5',\n",
    "            'h5_files/MIVIA_test_features.h5',\n",
    "            'h5_files/MIVIA_train_features.h5',\n",
    "            'h5_files/SESA_feature.h5',\n",
    "            'h5_files/vsd_clipped_features.h5'\n",
    "]\n",
    "\n",
    "# Carregando os dataloaders\n",
    "dataset = H5Dataset(h5_files, exclude_classes=[6], n_splits=k_folds)\n",
    "dataloaders = dataset.get_k_fold_data_loaders(batch_size=32,\n",
    "                                               num_workers=4)\n"
   ]
  },
  {
   "cell_type": "code",
   "execution_count": 3,
   "metadata": {},
   "outputs": [
    {
     "name": "stdout",
     "output_type": "stream",
     "text": [
      "cuda\n"
     ]
    }
   ],
   "source": [
    "from torchvision.models import ResNet101_Weights\n",
    "\n",
    "\n",
    "device = torch.device('cuda' if torch.cuda.is_available() else 'cpu')\n",
    "print(device)\n",
    "\n",
    "criterion = nn.CrossEntropyLoss()\n",
    "\n",
    "# Configurando o TensorBoard\n",
    "writer = SummaryWriter()\n",
    "\n",
    "\n",
    "\n"
   ]
  },
  {
   "cell_type": "code",
   "execution_count": 4,
   "metadata": {},
   "outputs": [
    {
     "name": "stdout",
     "output_type": "stream",
     "text": [
      "Starting fold 1/10\n",
      "Starting epoch 1/20\n"
     ]
    },
    {
     "name": "stderr",
     "output_type": "stream",
     "text": [
      "100%|██████████| 1014/1014 [01:22<00:00, 12.24it/s]\n",
      "100%|██████████| 113/113 [01:02<00:00,  1.81it/s]\n"
     ]
    },
    {
     "name": "stdout",
     "output_type": "stream",
     "text": [
      "Train Loss: 0.5951 Train Acc: 0.7449\n",
      "Validation Loss: 1.3221 Validation Acc: 0.6310\n",
      "Validation loss decreased (inf --> 1.322066).  Saving model ...\n",
      "Starting epoch 2/20\n"
     ]
    },
    {
     "name": "stderr",
     "output_type": "stream",
     "text": [
      "100%|██████████| 1014/1014 [01:18<00:00, 12.98it/s]\n",
      "100%|██████████| 113/113 [01:01<00:00,  1.84it/s]\n"
     ]
    },
    {
     "name": "stdout",
     "output_type": "stream",
     "text": [
      "Train Loss: 0.5044 Train Acc: 0.7839\n",
      "Validation Loss: 1.6615 Validation Acc: 0.4969\n",
      "EarlyStopping counter: 1 out of 7\n",
      "Starting epoch 3/20\n"
     ]
    },
    {
     "name": "stderr",
     "output_type": "stream",
     "text": [
      "100%|██████████| 1014/1014 [01:18<00:00, 12.98it/s]\n",
      "100%|██████████| 113/113 [01:01<00:00,  1.84it/s]\n"
     ]
    },
    {
     "name": "stdout",
     "output_type": "stream",
     "text": [
      "Train Loss: 0.4756 Train Acc: 0.7978\n",
      "Validation Loss: 1.5090 Validation Acc: 0.7181\n",
      "EarlyStopping counter: 2 out of 7\n",
      "Starting epoch 4/20\n"
     ]
    },
    {
     "name": "stderr",
     "output_type": "stream",
     "text": [
      "100%|██████████| 1014/1014 [01:18<00:00, 12.97it/s]\n",
      "100%|██████████| 113/113 [01:01<00:00,  1.84it/s]\n"
     ]
    },
    {
     "name": "stdout",
     "output_type": "stream",
     "text": [
      "Train Loss: 0.4504 Train Acc: 0.8070\n",
      "Validation Loss: 1.4132 Validation Acc: 0.6804\n",
      "EarlyStopping counter: 3 out of 7\n",
      "Starting epoch 5/20\n"
     ]
    },
    {
     "name": "stderr",
     "output_type": "stream",
     "text": [
      "100%|██████████| 1014/1014 [01:18<00:00, 12.95it/s]\n",
      "100%|██████████| 113/113 [01:01<00:00,  1.84it/s]\n"
     ]
    },
    {
     "name": "stdout",
     "output_type": "stream",
     "text": [
      "Train Loss: 0.4282 Train Acc: 0.8183\n",
      "Validation Loss: 1.5008 Validation Acc: 0.6484\n",
      "EarlyStopping counter: 4 out of 7\n",
      "Starting epoch 6/20\n"
     ]
    },
    {
     "name": "stderr",
     "output_type": "stream",
     "text": [
      "100%|██████████| 1014/1014 [01:18<00:00, 12.98it/s]\n",
      "100%|██████████| 113/113 [01:01<00:00,  1.84it/s]\n"
     ]
    },
    {
     "name": "stdout",
     "output_type": "stream",
     "text": [
      "Train Loss: 0.4131 Train Acc: 0.8248\n",
      "Validation Loss: 1.2989 Validation Acc: 0.7395\n",
      "Validation loss decreased (1.322066 --> 1.298883).  Saving model ...\n",
      "Starting epoch 7/20\n"
     ]
    },
    {
     "name": "stderr",
     "output_type": "stream",
     "text": [
      "100%|██████████| 1014/1014 [01:18<00:00, 12.98it/s]\n",
      "100%|██████████| 113/113 [01:01<00:00,  1.84it/s]\n"
     ]
    },
    {
     "name": "stdout",
     "output_type": "stream",
     "text": [
      "Train Loss: 0.3913 Train Acc: 0.8338\n",
      "Validation Loss: 1.6920 Validation Acc: 0.7461\n",
      "EarlyStopping counter: 1 out of 7\n",
      "Starting epoch 8/20\n"
     ]
    },
    {
     "name": "stderr",
     "output_type": "stream",
     "text": [
      "100%|██████████| 1014/1014 [01:17<00:00, 13.00it/s]\n",
      "100%|██████████| 113/113 [01:01<00:00,  1.85it/s]\n"
     ]
    },
    {
     "name": "stdout",
     "output_type": "stream",
     "text": [
      "Train Loss: 0.3773 Train Acc: 0.8418\n",
      "Validation Loss: 2.3386 Validation Acc: 0.4925\n",
      "EarlyStopping counter: 2 out of 7\n",
      "Starting epoch 9/20\n"
     ]
    },
    {
     "name": "stderr",
     "output_type": "stream",
     "text": [
      "100%|██████████| 1014/1014 [01:17<00:00, 13.00it/s]\n",
      "100%|██████████| 113/113 [01:01<00:00,  1.84it/s]\n"
     ]
    },
    {
     "name": "stdout",
     "output_type": "stream",
     "text": [
      "Train Loss: 0.3597 Train Acc: 0.8477\n",
      "Validation Loss: 1.2602 Validation Acc: 0.7422\n",
      "Validation loss decreased (1.298883 --> 1.260193).  Saving model ...\n",
      "Starting epoch 10/20\n"
     ]
    },
    {
     "name": "stderr",
     "output_type": "stream",
     "text": [
      "100%|██████████| 1014/1014 [01:17<00:00, 13.03it/s]\n",
      "100%|██████████| 113/113 [01:01<00:00,  1.83it/s]\n"
     ]
    },
    {
     "name": "stdout",
     "output_type": "stream",
     "text": [
      "Train Loss: 0.3436 Train Acc: 0.8559\n",
      "Validation Loss: 1.6363 Validation Acc: 0.6892\n",
      "EarlyStopping counter: 1 out of 7\n",
      "Starting epoch 11/20\n"
     ]
    },
    {
     "name": "stderr",
     "output_type": "stream",
     "text": [
      "100%|██████████| 1014/1014 [01:18<00:00, 13.00it/s]\n",
      "100%|██████████| 113/113 [01:00<00:00,  1.85it/s]\n"
     ]
    },
    {
     "name": "stdout",
     "output_type": "stream",
     "text": [
      "Train Loss: 0.3249 Train Acc: 0.8641\n",
      "Validation Loss: 1.4710 Validation Acc: 0.7511\n",
      "EarlyStopping counter: 2 out of 7\n",
      "Starting epoch 12/20\n"
     ]
    },
    {
     "name": "stderr",
     "output_type": "stream",
     "text": [
      "100%|██████████| 1014/1014 [01:17<00:00, 13.01it/s]\n",
      "100%|██████████| 113/113 [01:00<00:00,  1.86it/s]\n"
     ]
    },
    {
     "name": "stdout",
     "output_type": "stream",
     "text": [
      "Train Loss: 0.3099 Train Acc: 0.8712\n",
      "Validation Loss: 2.1782 Validation Acc: 0.5991\n",
      "EarlyStopping counter: 3 out of 7\n",
      "Starting epoch 13/20\n"
     ]
    },
    {
     "name": "stderr",
     "output_type": "stream",
     "text": [
      "100%|██████████| 1014/1014 [01:17<00:00, 13.03it/s]\n",
      "100%|██████████| 113/113 [01:01<00:00,  1.84it/s]\n"
     ]
    },
    {
     "name": "stdout",
     "output_type": "stream",
     "text": [
      "Train Loss: 0.2943 Train Acc: 0.8773\n",
      "Validation Loss: 1.9247 Validation Acc: 0.7003\n",
      "EarlyStopping counter: 4 out of 7\n",
      "Starting epoch 14/20\n"
     ]
    },
    {
     "name": "stderr",
     "output_type": "stream",
     "text": [
      "100%|██████████| 1014/1014 [01:17<00:00, 13.03it/s]\n",
      "100%|██████████| 113/113 [01:00<00:00,  1.86it/s]\n"
     ]
    },
    {
     "name": "stdout",
     "output_type": "stream",
     "text": [
      "Train Loss: 0.2884 Train Acc: 0.8787\n",
      "Validation Loss: 2.0835 Validation Acc: 0.6251\n",
      "EarlyStopping counter: 5 out of 7\n",
      "Starting epoch 15/20\n"
     ]
    },
    {
     "name": "stderr",
     "output_type": "stream",
     "text": [
      "100%|██████████| 1014/1014 [01:17<00:00, 13.02it/s]\n",
      "100%|██████████| 113/113 [01:00<00:00,  1.87it/s]\n"
     ]
    },
    {
     "name": "stdout",
     "output_type": "stream",
     "text": [
      "Train Loss: 0.2739 Train Acc: 0.8871\n",
      "Validation Loss: 1.9194 Validation Acc: 0.6834\n",
      "EarlyStopping counter: 6 out of 7\n",
      "Starting epoch 16/20\n"
     ]
    },
    {
     "name": "stderr",
     "output_type": "stream",
     "text": [
      "100%|██████████| 1014/1014 [01:17<00:00, 13.03it/s]\n",
      "100%|██████████| 113/113 [01:00<00:00,  1.85it/s]\n"
     ]
    },
    {
     "name": "stdout",
     "output_type": "stream",
     "text": [
      "Train Loss: 0.2545 Train Acc: 0.8952\n",
      "Validation Loss: 2.3537 Validation Acc: 0.5957\n",
      "EarlyStopping counter: 7 out of 7\n",
      "Early stopping\n",
      "Finished fold 1/10\n",
      "Starting fold 2/10\n",
      "Starting epoch 1/20\n"
     ]
    },
    {
     "name": "stderr",
     "output_type": "stream",
     "text": [
      "100%|██████████| 1014/1014 [01:17<00:00, 13.00it/s]\n",
      "100%|██████████| 113/113 [01:00<00:00,  1.86it/s]\n"
     ]
    },
    {
     "name": "stdout",
     "output_type": "stream",
     "text": [
      "Train Loss: 0.6191 Train Acc: 0.7360\n",
      "Validation Loss: 0.7772 Validation Acc: 0.6029\n",
      "Validation loss decreased (inf --> 0.777233).  Saving model ...\n",
      "Starting epoch 2/20\n"
     ]
    },
    {
     "name": "stderr",
     "output_type": "stream",
     "text": [
      "100%|██████████| 1014/1014 [01:17<00:00, 13.00it/s]\n",
      "100%|██████████| 113/113 [01:00<00:00,  1.86it/s]\n"
     ]
    },
    {
     "name": "stdout",
     "output_type": "stream",
     "text": [
      "Train Loss: 0.5127 Train Acc: 0.7816\n",
      "Validation Loss: 0.6545 Validation Acc: 0.6853\n",
      "Validation loss decreased (0.777233 --> 0.654495).  Saving model ...\n",
      "Starting epoch 3/20\n"
     ]
    },
    {
     "name": "stderr",
     "output_type": "stream",
     "text": [
      "100%|██████████| 1014/1014 [01:18<00:00, 12.99it/s]\n",
      "100%|██████████| 113/113 [01:00<00:00,  1.86it/s]\n"
     ]
    },
    {
     "name": "stdout",
     "output_type": "stream",
     "text": [
      "Train Loss: 0.4833 Train Acc: 0.7943\n",
      "Validation Loss: 0.8819 Validation Acc: 0.5610\n",
      "EarlyStopping counter: 1 out of 7\n",
      "Starting epoch 4/20\n"
     ]
    },
    {
     "name": "stderr",
     "output_type": "stream",
     "text": [
      "100%|██████████| 1014/1014 [01:17<00:00, 13.04it/s]\n",
      "100%|██████████| 113/113 [01:02<00:00,  1.79it/s]\n"
     ]
    },
    {
     "name": "stdout",
     "output_type": "stream",
     "text": [
      "Train Loss: 0.4596 Train Acc: 0.8040\n",
      "Validation Loss: 0.7255 Validation Acc: 0.6759\n",
      "EarlyStopping counter: 2 out of 7\n",
      "Starting epoch 5/20\n"
     ]
    },
    {
     "name": "stderr",
     "output_type": "stream",
     "text": [
      "100%|██████████| 1014/1014 [01:17<00:00, 13.03it/s]\n",
      "100%|██████████| 113/113 [01:01<00:00,  1.83it/s]\n"
     ]
    },
    {
     "name": "stdout",
     "output_type": "stream",
     "text": [
      "Train Loss: 0.4373 Train Acc: 0.8134\n",
      "Validation Loss: 0.7882 Validation Acc: 0.6695\n",
      "EarlyStopping counter: 3 out of 7\n",
      "Starting epoch 6/20\n"
     ]
    },
    {
     "name": "stderr",
     "output_type": "stream",
     "text": [
      "100%|██████████| 1014/1014 [01:18<00:00, 13.00it/s]\n",
      "100%|██████████| 113/113 [01:02<00:00,  1.82it/s]\n"
     ]
    },
    {
     "name": "stdout",
     "output_type": "stream",
     "text": [
      "Train Loss: 0.4205 Train Acc: 0.8208\n",
      "Validation Loss: 1.0170 Validation Acc: 0.5574\n",
      "EarlyStopping counter: 4 out of 7\n",
      "Starting epoch 7/20\n"
     ]
    },
    {
     "name": "stderr",
     "output_type": "stream",
     "text": [
      "100%|██████████| 1014/1014 [01:18<00:00, 13.00it/s]\n",
      "100%|██████████| 113/113 [01:01<00:00,  1.83it/s]\n"
     ]
    },
    {
     "name": "stdout",
     "output_type": "stream",
     "text": [
      "Train Loss: 0.4025 Train Acc: 0.8285\n",
      "Validation Loss: 0.7175 Validation Acc: 0.6853\n",
      "EarlyStopping counter: 5 out of 7\n",
      "Starting epoch 8/20\n"
     ]
    },
    {
     "name": "stderr",
     "output_type": "stream",
     "text": [
      "100%|██████████| 1014/1014 [01:17<00:00, 13.01it/s]\n",
      "100%|██████████| 113/113 [01:01<00:00,  1.83it/s]\n"
     ]
    },
    {
     "name": "stdout",
     "output_type": "stream",
     "text": [
      "Train Loss: 0.3804 Train Acc: 0.8386\n",
      "Validation Loss: 0.7424 Validation Acc: 0.7081\n",
      "EarlyStopping counter: 6 out of 7\n",
      "Starting epoch 9/20\n"
     ]
    },
    {
     "name": "stderr",
     "output_type": "stream",
     "text": [
      "100%|██████████| 1014/1014 [01:17<00:00, 13.03it/s]\n",
      "100%|██████████| 113/113 [01:00<00:00,  1.87it/s]\n"
     ]
    },
    {
     "name": "stdout",
     "output_type": "stream",
     "text": [
      "Train Loss: 0.3650 Train Acc: 0.8432\n",
      "Validation Loss: 0.7999 Validation Acc: 0.6673\n",
      "EarlyStopping counter: 7 out of 7\n",
      "Early stopping\n",
      "Finished fold 2/10\n",
      "Starting fold 3/10\n",
      "Starting epoch 1/20\n"
     ]
    },
    {
     "name": "stderr",
     "output_type": "stream",
     "text": [
      "100%|██████████| 1014/1014 [01:17<00:00, 13.03it/s]\n",
      "100%|██████████| 113/113 [01:00<00:00,  1.86it/s]\n"
     ]
    },
    {
     "name": "stdout",
     "output_type": "stream",
     "text": [
      "Train Loss: 0.6148 Train Acc: 0.7337\n",
      "Validation Loss: 0.7752 Validation Acc: 0.7001\n",
      "Validation loss decreased (inf --> 0.775163).  Saving model ...\n",
      "Starting epoch 2/20\n"
     ]
    },
    {
     "name": "stderr",
     "output_type": "stream",
     "text": [
      "100%|██████████| 1014/1014 [01:17<00:00, 13.06it/s]\n",
      "100%|██████████| 113/113 [01:01<00:00,  1.85it/s]\n"
     ]
    },
    {
     "name": "stdout",
     "output_type": "stream",
     "text": [
      "Train Loss: 0.5216 Train Acc: 0.7738\n",
      "Validation Loss: 0.8016 Validation Acc: 0.7408\n",
      "EarlyStopping counter: 1 out of 7\n",
      "Starting epoch 3/20\n"
     ]
    },
    {
     "name": "stderr",
     "output_type": "stream",
     "text": [
      "100%|██████████| 1014/1014 [01:17<00:00, 13.05it/s]\n",
      "100%|██████████| 113/113 [01:00<00:00,  1.86it/s]\n"
     ]
    },
    {
     "name": "stdout",
     "output_type": "stream",
     "text": [
      "Train Loss: 0.4867 Train Acc: 0.7890\n",
      "Validation Loss: 0.7139 Validation Acc: 0.7292\n",
      "Validation loss decreased (0.775163 --> 0.713866).  Saving model ...\n",
      "Starting epoch 4/20\n"
     ]
    },
    {
     "name": "stderr",
     "output_type": "stream",
     "text": [
      "100%|██████████| 1014/1014 [01:17<00:00, 13.06it/s]\n",
      "100%|██████████| 113/113 [01:00<00:00,  1.86it/s]\n"
     ]
    },
    {
     "name": "stdout",
     "output_type": "stream",
     "text": [
      "Train Loss: 0.4651 Train Acc: 0.7997\n",
      "Validation Loss: 0.8444 Validation Acc: 0.6410\n",
      "EarlyStopping counter: 1 out of 7\n",
      "Starting epoch 5/20\n"
     ]
    },
    {
     "name": "stderr",
     "output_type": "stream",
     "text": [
      "100%|██████████| 1014/1014 [01:17<00:00, 13.07it/s]\n",
      "100%|██████████| 113/113 [01:00<00:00,  1.85it/s]\n"
     ]
    },
    {
     "name": "stdout",
     "output_type": "stream",
     "text": [
      "Train Loss: 0.4416 Train Acc: 0.8111\n",
      "Validation Loss: 1.0731 Validation Acc: 0.6959\n",
      "EarlyStopping counter: 2 out of 7\n",
      "Starting epoch 6/20\n"
     ]
    },
    {
     "name": "stderr",
     "output_type": "stream",
     "text": [
      "100%|██████████| 1014/1014 [01:17<00:00, 13.00it/s]\n",
      "100%|██████████| 113/113 [01:01<00:00,  1.85it/s]\n"
     ]
    },
    {
     "name": "stdout",
     "output_type": "stream",
     "text": [
      "Train Loss: 0.4219 Train Acc: 0.8201\n",
      "Validation Loss: 0.7958 Validation Acc: 0.7198\n",
      "EarlyStopping counter: 3 out of 7\n",
      "Starting epoch 7/20\n"
     ]
    },
    {
     "name": "stderr",
     "output_type": "stream",
     "text": [
      "100%|██████████| 1014/1014 [01:17<00:00, 13.02it/s]\n",
      "100%|██████████| 113/113 [01:01<00:00,  1.83it/s]\n"
     ]
    },
    {
     "name": "stdout",
     "output_type": "stream",
     "text": [
      "Train Loss: 0.4038 Train Acc: 0.8267\n",
      "Validation Loss: 0.8666 Validation Acc: 0.7342\n",
      "EarlyStopping counter: 4 out of 7\n",
      "Starting epoch 8/20\n"
     ]
    },
    {
     "name": "stderr",
     "output_type": "stream",
     "text": [
      "100%|██████████| 1014/1014 [01:17<00:00, 13.02it/s]\n",
      "100%|██████████| 113/113 [01:01<00:00,  1.84it/s]\n"
     ]
    },
    {
     "name": "stdout",
     "output_type": "stream",
     "text": [
      "Train Loss: 0.3886 Train Acc: 0.8367\n",
      "Validation Loss: 0.6969 Validation Acc: 0.7642\n",
      "Validation loss decreased (0.713866 --> 0.696880).  Saving model ...\n",
      "Starting epoch 9/20\n"
     ]
    },
    {
     "name": "stderr",
     "output_type": "stream",
     "text": [
      "100%|██████████| 1014/1014 [01:17<00:00, 13.05it/s]\n",
      "100%|██████████| 113/113 [01:01<00:00,  1.83it/s]\n"
     ]
    },
    {
     "name": "stdout",
     "output_type": "stream",
     "text": [
      "Train Loss: 0.3679 Train Acc: 0.8442\n",
      "Validation Loss: 0.8587 Validation Acc: 0.7259\n",
      "EarlyStopping counter: 1 out of 7\n",
      "Starting epoch 10/20\n"
     ]
    },
    {
     "name": "stderr",
     "output_type": "stream",
     "text": [
      "100%|██████████| 1014/1014 [01:17<00:00, 13.04it/s]\n",
      "100%|██████████| 113/113 [01:01<00:00,  1.84it/s]\n"
     ]
    },
    {
     "name": "stdout",
     "output_type": "stream",
     "text": [
      "Train Loss: 0.3485 Train Acc: 0.8517\n",
      "Validation Loss: 0.9407 Validation Acc: 0.7386\n",
      "EarlyStopping counter: 2 out of 7\n",
      "Starting epoch 11/20\n"
     ]
    },
    {
     "name": "stderr",
     "output_type": "stream",
     "text": [
      "100%|██████████| 1014/1014 [01:17<00:00, 13.03it/s]\n",
      "100%|██████████| 113/113 [01:01<00:00,  1.84it/s]\n"
     ]
    },
    {
     "name": "stdout",
     "output_type": "stream",
     "text": [
      "Train Loss: 0.3363 Train Acc: 0.8571\n",
      "Validation Loss: 0.8162 Validation Acc: 0.7536\n",
      "EarlyStopping counter: 3 out of 7\n",
      "Starting epoch 12/20\n"
     ]
    },
    {
     "name": "stderr",
     "output_type": "stream",
     "text": [
      "100%|██████████| 1014/1014 [01:17<00:00, 13.03it/s]\n",
      "100%|██████████| 113/113 [01:00<00:00,  1.87it/s]\n"
     ]
    },
    {
     "name": "stdout",
     "output_type": "stream",
     "text": [
      "Train Loss: 0.3230 Train Acc: 0.8629\n",
      "Validation Loss: 0.9885 Validation Acc: 0.7361\n",
      "EarlyStopping counter: 4 out of 7\n",
      "Starting epoch 13/20\n"
     ]
    },
    {
     "name": "stderr",
     "output_type": "stream",
     "text": [
      "100%|██████████| 1014/1014 [01:17<00:00, 13.07it/s]\n",
      "100%|██████████| 113/113 [01:01<00:00,  1.84it/s]\n"
     ]
    },
    {
     "name": "stdout",
     "output_type": "stream",
     "text": [
      "Train Loss: 0.3068 Train Acc: 0.8709\n",
      "Validation Loss: 1.0219 Validation Acc: 0.7303\n",
      "EarlyStopping counter: 5 out of 7\n",
      "Starting epoch 14/20\n"
     ]
    },
    {
     "name": "stderr",
     "output_type": "stream",
     "text": [
      "100%|██████████| 1014/1014 [01:17<00:00, 13.04it/s]\n",
      "100%|██████████| 113/113 [01:00<00:00,  1.86it/s]\n"
     ]
    },
    {
     "name": "stdout",
     "output_type": "stream",
     "text": [
      "Train Loss: 0.2927 Train Acc: 0.8757\n",
      "Validation Loss: 0.9896 Validation Acc: 0.7633\n",
      "EarlyStopping counter: 6 out of 7\n",
      "Starting epoch 15/20\n"
     ]
    },
    {
     "name": "stderr",
     "output_type": "stream",
     "text": [
      "100%|██████████| 1014/1014 [01:17<00:00, 13.03it/s]\n",
      "100%|██████████| 113/113 [01:00<00:00,  1.87it/s]\n"
     ]
    },
    {
     "name": "stdout",
     "output_type": "stream",
     "text": [
      "Train Loss: 0.2861 Train Acc: 0.8787\n",
      "Validation Loss: 0.9313 Validation Acc: 0.7272\n",
      "EarlyStopping counter: 7 out of 7\n",
      "Early stopping\n",
      "Finished fold 3/10\n",
      "Starting fold 4/10\n",
      "Starting epoch 1/20\n"
     ]
    },
    {
     "name": "stderr",
     "output_type": "stream",
     "text": [
      "100%|██████████| 1014/1014 [01:17<00:00, 13.06it/s]\n",
      "100%|██████████| 113/113 [01:00<00:00,  1.86it/s]\n"
     ]
    },
    {
     "name": "stdout",
     "output_type": "stream",
     "text": [
      "Train Loss: 0.6349 Train Acc: 0.7270\n",
      "Validation Loss: 0.4843 Validation Acc: 0.8133\n",
      "Validation loss decreased (inf --> 0.484326).  Saving model ...\n",
      "Starting epoch 2/20\n"
     ]
    },
    {
     "name": "stderr",
     "output_type": "stream",
     "text": [
      "100%|██████████| 1014/1014 [01:17<00:00, 13.05it/s]\n",
      "100%|██████████| 113/113 [01:00<00:00,  1.87it/s]\n"
     ]
    },
    {
     "name": "stdout",
     "output_type": "stream",
     "text": [
      "Train Loss: 0.5304 Train Acc: 0.7704\n",
      "Validation Loss: 0.4884 Validation Acc: 0.8202\n",
      "EarlyStopping counter: 1 out of 7\n",
      "Starting epoch 3/20\n"
     ]
    },
    {
     "name": "stderr",
     "output_type": "stream",
     "text": [
      "100%|██████████| 1014/1014 [01:17<00:00, 13.02it/s]\n",
      "100%|██████████| 113/113 [01:00<00:00,  1.86it/s]\n"
     ]
    },
    {
     "name": "stdout",
     "output_type": "stream",
     "text": [
      "Train Loss: 0.4957 Train Acc: 0.7831\n",
      "Validation Loss: 0.4503 Validation Acc: 0.8183\n",
      "Validation loss decreased (0.484326 --> 0.450309).  Saving model ...\n",
      "Starting epoch 4/20\n"
     ]
    },
    {
     "name": "stderr",
     "output_type": "stream",
     "text": [
      "100%|██████████| 1014/1014 [01:17<00:00, 13.06it/s]\n",
      "100%|██████████| 113/113 [01:00<00:00,  1.85it/s]\n"
     ]
    },
    {
     "name": "stdout",
     "output_type": "stream",
     "text": [
      "Train Loss: 0.4712 Train Acc: 0.7954\n",
      "Validation Loss: 0.5023 Validation Acc: 0.8205\n",
      "EarlyStopping counter: 1 out of 7\n",
      "Starting epoch 5/20\n"
     ]
    },
    {
     "name": "stderr",
     "output_type": "stream",
     "text": [
      "100%|██████████| 1014/1014 [01:17<00:00, 13.02it/s]\n",
      "100%|██████████| 113/113 [01:00<00:00,  1.86it/s]\n"
     ]
    },
    {
     "name": "stdout",
     "output_type": "stream",
     "text": [
      "Train Loss: 0.4492 Train Acc: 0.8056\n",
      "Validation Loss: 0.5891 Validation Acc: 0.8166\n",
      "EarlyStopping counter: 2 out of 7\n",
      "Starting epoch 6/20\n"
     ]
    },
    {
     "name": "stderr",
     "output_type": "stream",
     "text": [
      "100%|██████████| 1014/1014 [01:17<00:00, 13.03it/s]\n",
      "100%|██████████| 113/113 [01:00<00:00,  1.87it/s]\n"
     ]
    },
    {
     "name": "stdout",
     "output_type": "stream",
     "text": [
      "Train Loss: 0.4286 Train Acc: 0.8134\n",
      "Validation Loss: 0.5455 Validation Acc: 0.7950\n",
      "EarlyStopping counter: 3 out of 7\n",
      "Starting epoch 7/20\n"
     ]
    },
    {
     "name": "stderr",
     "output_type": "stream",
     "text": [
      "100%|██████████| 1014/1014 [01:17<00:00, 13.07it/s]\n",
      "100%|██████████| 113/113 [01:01<00:00,  1.85it/s]\n"
     ]
    },
    {
     "name": "stdout",
     "output_type": "stream",
     "text": [
      "Train Loss: 0.4064 Train Acc: 0.8248\n",
      "Validation Loss: 0.6042 Validation Acc: 0.8072\n",
      "EarlyStopping counter: 4 out of 7\n",
      "Starting epoch 8/20\n"
     ]
    },
    {
     "name": "stderr",
     "output_type": "stream",
     "text": [
      "100%|██████████| 1014/1014 [01:17<00:00, 13.06it/s]\n",
      "100%|██████████| 113/113 [01:01<00:00,  1.85it/s]\n"
     ]
    },
    {
     "name": "stdout",
     "output_type": "stream",
     "text": [
      "Train Loss: 0.3881 Train Acc: 0.8308\n",
      "Validation Loss: 0.5355 Validation Acc: 0.8238\n",
      "EarlyStopping counter: 5 out of 7\n",
      "Starting epoch 9/20\n"
     ]
    },
    {
     "name": "stderr",
     "output_type": "stream",
     "text": [
      "100%|██████████| 1014/1014 [01:17<00:00, 13.05it/s]\n",
      "100%|██████████| 113/113 [01:00<00:00,  1.85it/s]\n"
     ]
    },
    {
     "name": "stdout",
     "output_type": "stream",
     "text": [
      "Train Loss: 0.3694 Train Acc: 0.8390\n",
      "Validation Loss: 0.5666 Validation Acc: 0.8052\n",
      "EarlyStopping counter: 6 out of 7\n",
      "Starting epoch 10/20\n"
     ]
    },
    {
     "name": "stderr",
     "output_type": "stream",
     "text": [
      "100%|██████████| 1014/1014 [01:17<00:00, 13.05it/s]\n",
      "100%|██████████| 113/113 [01:01<00:00,  1.84it/s]\n"
     ]
    },
    {
     "name": "stdout",
     "output_type": "stream",
     "text": [
      "Train Loss: 0.3482 Train Acc: 0.8498\n",
      "Validation Loss: 0.5981 Validation Acc: 0.8016\n",
      "EarlyStopping counter: 7 out of 7\n",
      "Early stopping\n",
      "Finished fold 4/10\n",
      "Starting fold 5/10\n",
      "Starting epoch 1/20\n"
     ]
    },
    {
     "name": "stderr",
     "output_type": "stream",
     "text": [
      "100%|██████████| 1014/1014 [01:17<00:00, 13.04it/s]\n",
      "100%|██████████| 113/113 [01:00<00:00,  1.86it/s]\n"
     ]
    },
    {
     "name": "stdout",
     "output_type": "stream",
     "text": [
      "Train Loss: 0.6402 Train Acc: 0.7201\n",
      "Validation Loss: 0.4048 Validation Acc: 0.8327\n",
      "Validation loss decreased (inf --> 0.404798).  Saving model ...\n",
      "Starting epoch 2/20\n"
     ]
    },
    {
     "name": "stderr",
     "output_type": "stream",
     "text": [
      "100%|██████████| 1014/1014 [01:17<00:00, 13.02it/s]\n",
      "100%|██████████| 113/113 [01:01<00:00,  1.85it/s]\n"
     ]
    },
    {
     "name": "stdout",
     "output_type": "stream",
     "text": [
      "Train Loss: 0.5397 Train Acc: 0.7631\n",
      "Validation Loss: 0.3654 Validation Acc: 0.8646\n",
      "Validation loss decreased (0.404798 --> 0.365390).  Saving model ...\n",
      "Starting epoch 3/20\n"
     ]
    },
    {
     "name": "stderr",
     "output_type": "stream",
     "text": [
      "100%|██████████| 1014/1014 [01:17<00:00, 13.05it/s]\n",
      "100%|██████████| 113/113 [01:00<00:00,  1.86it/s]\n"
     ]
    },
    {
     "name": "stdout",
     "output_type": "stream",
     "text": [
      "Train Loss: 0.5051 Train Acc: 0.7782\n",
      "Validation Loss: 0.3476 Validation Acc: 0.8593\n",
      "Validation loss decreased (0.365390 --> 0.347602).  Saving model ...\n",
      "Starting epoch 4/20\n"
     ]
    },
    {
     "name": "stderr",
     "output_type": "stream",
     "text": [
      "100%|██████████| 1014/1014 [01:17<00:00, 13.06it/s]\n",
      "100%|██████████| 113/113 [01:00<00:00,  1.86it/s]\n"
     ]
    },
    {
     "name": "stdout",
     "output_type": "stream",
     "text": [
      "Train Loss: 0.4792 Train Acc: 0.7902\n",
      "Validation Loss: 0.4110 Validation Acc: 0.8396\n",
      "EarlyStopping counter: 1 out of 7\n",
      "Starting epoch 5/20\n"
     ]
    },
    {
     "name": "stderr",
     "output_type": "stream",
     "text": [
      "100%|██████████| 1014/1014 [01:17<00:00, 13.01it/s]\n",
      "100%|██████████| 113/113 [01:01<00:00,  1.84it/s]\n"
     ]
    },
    {
     "name": "stdout",
     "output_type": "stream",
     "text": [
      "Train Loss: 0.4544 Train Acc: 0.8030\n",
      "Validation Loss: 0.4662 Validation Acc: 0.8063\n",
      "EarlyStopping counter: 2 out of 7\n",
      "Starting epoch 6/20\n"
     ]
    },
    {
     "name": "stderr",
     "output_type": "stream",
     "text": [
      "100%|██████████| 1014/1014 [01:17<00:00, 13.03it/s]\n",
      "100%|██████████| 113/113 [01:00<00:00,  1.86it/s]\n"
     ]
    },
    {
     "name": "stdout",
     "output_type": "stream",
     "text": [
      "Train Loss: 0.4339 Train Acc: 0.8134\n",
      "Validation Loss: 0.4521 Validation Acc: 0.8138\n",
      "EarlyStopping counter: 3 out of 7\n",
      "Starting epoch 7/20\n"
     ]
    },
    {
     "name": "stderr",
     "output_type": "stream",
     "text": [
      "100%|██████████| 1014/1014 [01:17<00:00, 13.05it/s]\n",
      "100%|██████████| 113/113 [01:00<00:00,  1.87it/s]\n"
     ]
    },
    {
     "name": "stdout",
     "output_type": "stream",
     "text": [
      "Train Loss: 0.4133 Train Acc: 0.8223\n",
      "Validation Loss: 0.4602 Validation Acc: 0.8041\n",
      "EarlyStopping counter: 4 out of 7\n",
      "Starting epoch 8/20\n"
     ]
    },
    {
     "name": "stderr",
     "output_type": "stream",
     "text": [
      "100%|██████████| 1014/1014 [01:17<00:00, 13.06it/s]\n",
      "100%|██████████| 113/113 [01:00<00:00,  1.86it/s]\n"
     ]
    },
    {
     "name": "stdout",
     "output_type": "stream",
     "text": [
      "Train Loss: 0.3935 Train Acc: 0.8303\n",
      "Validation Loss: 0.4914 Validation Acc: 0.7974\n",
      "EarlyStopping counter: 5 out of 7\n",
      "Starting epoch 9/20\n"
     ]
    },
    {
     "name": "stderr",
     "output_type": "stream",
     "text": [
      "100%|██████████| 1014/1014 [01:17<00:00, 13.02it/s]\n",
      "100%|██████████| 113/113 [01:00<00:00,  1.87it/s]\n"
     ]
    },
    {
     "name": "stdout",
     "output_type": "stream",
     "text": [
      "Train Loss: 0.3742 Train Acc: 0.8403\n",
      "Validation Loss: 0.4759 Validation Acc: 0.8147\n",
      "EarlyStopping counter: 6 out of 7\n",
      "Starting epoch 10/20\n"
     ]
    },
    {
     "name": "stderr",
     "output_type": "stream",
     "text": [
      "100%|██████████| 1014/1014 [01:17<00:00, 13.05it/s]\n",
      "100%|██████████| 113/113 [01:00<00:00,  1.86it/s]\n"
     ]
    },
    {
     "name": "stdout",
     "output_type": "stream",
     "text": [
      "Train Loss: 0.3617 Train Acc: 0.8448\n",
      "Validation Loss: 0.5600 Validation Acc: 0.7805\n",
      "EarlyStopping counter: 7 out of 7\n",
      "Early stopping\n",
      "Finished fold 5/10\n",
      "Starting fold 6/10\n",
      "Starting epoch 1/20\n"
     ]
    },
    {
     "name": "stderr",
     "output_type": "stream",
     "text": [
      "100%|██████████| 1014/1014 [01:17<00:00, 13.05it/s]\n",
      "100%|██████████| 113/113 [01:01<00:00,  1.85it/s]\n"
     ]
    },
    {
     "name": "stdout",
     "output_type": "stream",
     "text": [
      "Train Loss: 0.6299 Train Acc: 0.7285\n",
      "Validation Loss: 0.4755 Validation Acc: 0.7958\n",
      "Validation loss decreased (inf --> 0.475459).  Saving model ...\n",
      "Starting epoch 2/20\n"
     ]
    },
    {
     "name": "stderr",
     "output_type": "stream",
     "text": [
      "100%|██████████| 1014/1014 [01:17<00:00, 13.05it/s]\n",
      "100%|██████████| 113/113 [01:00<00:00,  1.85it/s]\n"
     ]
    },
    {
     "name": "stdout",
     "output_type": "stream",
     "text": [
      "Train Loss: 0.5345 Train Acc: 0.7672\n",
      "Validation Loss: 0.4080 Validation Acc: 0.8393\n",
      "Validation loss decreased (0.475459 --> 0.408019).  Saving model ...\n",
      "Starting epoch 3/20\n"
     ]
    },
    {
     "name": "stderr",
     "output_type": "stream",
     "text": [
      "100%|██████████| 1014/1014 [01:17<00:00, 13.03it/s]\n",
      "100%|██████████| 113/113 [01:01<00:00,  1.84it/s]\n"
     ]
    },
    {
     "name": "stdout",
     "output_type": "stream",
     "text": [
      "Train Loss: 0.5025 Train Acc: 0.7821\n",
      "Validation Loss: 0.4487 Validation Acc: 0.8072\n",
      "EarlyStopping counter: 1 out of 7\n",
      "Starting epoch 4/20\n"
     ]
    },
    {
     "name": "stderr",
     "output_type": "stream",
     "text": [
      "100%|██████████| 1014/1014 [01:17<00:00, 13.07it/s]\n",
      "100%|██████████| 113/113 [01:00<00:00,  1.86it/s]\n"
     ]
    },
    {
     "name": "stdout",
     "output_type": "stream",
     "text": [
      "Train Loss: 0.4717 Train Acc: 0.7950\n",
      "Validation Loss: 0.4504 Validation Acc: 0.8174\n",
      "EarlyStopping counter: 2 out of 7\n",
      "Starting epoch 5/20\n"
     ]
    },
    {
     "name": "stderr",
     "output_type": "stream",
     "text": [
      "100%|██████████| 1014/1014 [01:17<00:00, 13.02it/s]\n",
      "100%|██████████| 113/113 [01:00<00:00,  1.86it/s]\n"
     ]
    },
    {
     "name": "stdout",
     "output_type": "stream",
     "text": [
      "Train Loss: 0.4487 Train Acc: 0.8077\n",
      "Validation Loss: 0.4087 Validation Acc: 0.8349\n",
      "EarlyStopping counter: 3 out of 7\n",
      "Starting epoch 6/20\n"
     ]
    },
    {
     "name": "stderr",
     "output_type": "stream",
     "text": [
      "100%|██████████| 1014/1014 [01:17<00:00, 13.01it/s]\n",
      "100%|██████████| 113/113 [01:01<00:00,  1.85it/s]\n"
     ]
    },
    {
     "name": "stdout",
     "output_type": "stream",
     "text": [
      "Train Loss: 0.4262 Train Acc: 0.8178\n",
      "Validation Loss: 0.5344 Validation Acc: 0.7936\n",
      "EarlyStopping counter: 4 out of 7\n",
      "Starting epoch 7/20\n"
     ]
    },
    {
     "name": "stderr",
     "output_type": "stream",
     "text": [
      "100%|██████████| 1014/1014 [01:17<00:00, 13.04it/s]\n",
      "100%|██████████| 113/113 [01:00<00:00,  1.87it/s]\n"
     ]
    },
    {
     "name": "stdout",
     "output_type": "stream",
     "text": [
      "Train Loss: 0.4051 Train Acc: 0.8242\n",
      "Validation Loss: 0.4212 Validation Acc: 0.8332\n",
      "EarlyStopping counter: 5 out of 7\n",
      "Starting epoch 8/20\n"
     ]
    },
    {
     "name": "stderr",
     "output_type": "stream",
     "text": [
      "100%|██████████| 1014/1014 [01:17<00:00, 13.02it/s]\n",
      "100%|██████████| 113/113 [01:00<00:00,  1.86it/s]\n"
     ]
    },
    {
     "name": "stdout",
     "output_type": "stream",
     "text": [
      "Train Loss: 0.3834 Train Acc: 0.8358\n",
      "Validation Loss: 0.4590 Validation Acc: 0.8169\n",
      "EarlyStopping counter: 6 out of 7\n",
      "Starting epoch 9/20\n"
     ]
    },
    {
     "name": "stderr",
     "output_type": "stream",
     "text": [
      "100%|██████████| 1014/1014 [01:17<00:00, 13.02it/s]\n",
      "100%|██████████| 113/113 [01:00<00:00,  1.85it/s]\n"
     ]
    },
    {
     "name": "stdout",
     "output_type": "stream",
     "text": [
      "Train Loss: 0.3716 Train Acc: 0.8385\n",
      "Validation Loss: 0.4478 Validation Acc: 0.8335\n",
      "EarlyStopping counter: 7 out of 7\n",
      "Early stopping\n",
      "Finished fold 6/10\n",
      "Starting fold 7/10\n",
      "Starting epoch 1/20\n"
     ]
    },
    {
     "name": "stderr",
     "output_type": "stream",
     "text": [
      "100%|██████████| 1014/1014 [01:17<00:00, 13.05it/s]\n",
      "100%|██████████| 113/113 [01:00<00:00,  1.86it/s]\n"
     ]
    },
    {
     "name": "stdout",
     "output_type": "stream",
     "text": [
      "Train Loss: 0.6075 Train Acc: 0.7414\n",
      "Validation Loss: 0.7030 Validation Acc: 0.6762\n",
      "Validation loss decreased (inf --> 0.702955).  Saving model ...\n",
      "Starting epoch 2/20\n"
     ]
    },
    {
     "name": "stderr",
     "output_type": "stream",
     "text": [
      "100%|██████████| 1014/1014 [01:17<00:00, 13.01it/s]\n",
      "100%|██████████| 113/113 [01:00<00:00,  1.87it/s]\n"
     ]
    },
    {
     "name": "stdout",
     "output_type": "stream",
     "text": [
      "Train Loss: 0.5015 Train Acc: 0.7901\n",
      "Validation Loss: 1.0336 Validation Acc: 0.5477\n",
      "EarlyStopping counter: 1 out of 7\n",
      "Starting epoch 3/20\n"
     ]
    },
    {
     "name": "stderr",
     "output_type": "stream",
     "text": [
      "100%|██████████| 1014/1014 [01:17<00:00, 13.03it/s]\n",
      "100%|██████████| 113/113 [01:00<00:00,  1.87it/s]\n"
     ]
    },
    {
     "name": "stdout",
     "output_type": "stream",
     "text": [
      "Train Loss: 0.4669 Train Acc: 0.8048\n",
      "Validation Loss: 1.0370 Validation Acc: 0.5863\n",
      "EarlyStopping counter: 2 out of 7\n",
      "Starting epoch 4/20\n"
     ]
    },
    {
     "name": "stderr",
     "output_type": "stream",
     "text": [
      "100%|██████████| 1014/1014 [01:17<00:00, 13.04it/s]\n",
      "100%|██████████| 113/113 [01:00<00:00,  1.87it/s]\n"
     ]
    },
    {
     "name": "stdout",
     "output_type": "stream",
     "text": [
      "Train Loss: 0.4410 Train Acc: 0.8165\n",
      "Validation Loss: 1.0225 Validation Acc: 0.5635\n",
      "EarlyStopping counter: 3 out of 7\n",
      "Starting epoch 5/20\n"
     ]
    },
    {
     "name": "stderr",
     "output_type": "stream",
     "text": [
      "100%|██████████| 1014/1014 [01:17<00:00, 13.04it/s]\n",
      "100%|██████████| 113/113 [01:00<00:00,  1.86it/s]\n"
     ]
    },
    {
     "name": "stdout",
     "output_type": "stream",
     "text": [
      "Train Loss: 0.4147 Train Acc: 0.8263\n",
      "Validation Loss: 0.9511 Validation Acc: 0.6246\n",
      "EarlyStopping counter: 4 out of 7\n",
      "Starting epoch 6/20\n"
     ]
    },
    {
     "name": "stderr",
     "output_type": "stream",
     "text": [
      "100%|██████████| 1014/1014 [01:17<00:00, 13.02it/s]\n",
      "100%|██████████| 113/113 [01:00<00:00,  1.86it/s]\n"
     ]
    },
    {
     "name": "stdout",
     "output_type": "stream",
     "text": [
      "Train Loss: 0.3960 Train Acc: 0.8351\n",
      "Validation Loss: 1.7320 Validation Acc: 0.4867\n",
      "EarlyStopping counter: 5 out of 7\n",
      "Starting epoch 7/20\n"
     ]
    },
    {
     "name": "stderr",
     "output_type": "stream",
     "text": [
      "100%|██████████| 1014/1014 [01:17<00:00, 13.04it/s]\n",
      "100%|██████████| 113/113 [01:00<00:00,  1.85it/s]\n"
     ]
    },
    {
     "name": "stdout",
     "output_type": "stream",
     "text": [
      "Train Loss: 0.3730 Train Acc: 0.8425\n",
      "Validation Loss: 1.6518 Validation Acc: 0.5610\n",
      "EarlyStopping counter: 6 out of 7\n",
      "Starting epoch 8/20\n"
     ]
    },
    {
     "name": "stderr",
     "output_type": "stream",
     "text": [
      "100%|██████████| 1014/1014 [01:17<00:00, 13.05it/s]\n",
      "100%|██████████| 113/113 [01:01<00:00,  1.83it/s]\n"
     ]
    },
    {
     "name": "stdout",
     "output_type": "stream",
     "text": [
      "Train Loss: 0.3552 Train Acc: 0.8537\n",
      "Validation Loss: 1.9034 Validation Acc: 0.5061\n",
      "EarlyStopping counter: 7 out of 7\n",
      "Early stopping\n",
      "Finished fold 7/10\n",
      "Starting fold 8/10\n",
      "Starting epoch 1/20\n"
     ]
    },
    {
     "name": "stderr",
     "output_type": "stream",
     "text": [
      "100%|██████████| 1014/1014 [01:17<00:00, 13.04it/s]\n",
      "100%|██████████| 113/113 [01:00<00:00,  1.85it/s]\n"
     ]
    },
    {
     "name": "stdout",
     "output_type": "stream",
     "text": [
      "Train Loss: 0.6193 Train Acc: 0.7299\n",
      "Validation Loss: 0.6179 Validation Acc: 0.7320\n",
      "Validation loss decreased (inf --> 0.617895).  Saving model ...\n",
      "Starting epoch 2/20\n"
     ]
    },
    {
     "name": "stderr",
     "output_type": "stream",
     "text": [
      "100%|██████████| 1014/1014 [01:17<00:00, 13.03it/s]\n",
      "100%|██████████| 113/113 [01:00<00:00,  1.87it/s]\n"
     ]
    },
    {
     "name": "stdout",
     "output_type": "stream",
     "text": [
      "Train Loss: 0.5209 Train Acc: 0.7721\n",
      "Validation Loss: 0.6007 Validation Acc: 0.7259\n",
      "Validation loss decreased (0.617895 --> 0.600731).  Saving model ...\n",
      "Starting epoch 3/20\n"
     ]
    },
    {
     "name": "stderr",
     "output_type": "stream",
     "text": [
      "100%|██████████| 1014/1014 [01:17<00:00, 13.05it/s]\n",
      "100%|██████████| 113/113 [01:01<00:00,  1.85it/s]\n"
     ]
    },
    {
     "name": "stdout",
     "output_type": "stream",
     "text": [
      "Train Loss: 0.4840 Train Acc: 0.7896\n",
      "Validation Loss: 0.5677 Validation Acc: 0.7653\n",
      "Validation loss decreased (0.600731 --> 0.567676).  Saving model ...\n",
      "Starting epoch 4/20\n"
     ]
    },
    {
     "name": "stderr",
     "output_type": "stream",
     "text": [
      "100%|██████████| 1014/1014 [01:17<00:00, 13.02it/s]\n",
      "100%|██████████| 113/113 [01:00<00:00,  1.86it/s]\n"
     ]
    },
    {
     "name": "stdout",
     "output_type": "stream",
     "text": [
      "Train Loss: 0.4592 Train Acc: 0.8039\n",
      "Validation Loss: 0.5584 Validation Acc: 0.7342\n",
      "Validation loss decreased (0.567676 --> 0.558366).  Saving model ...\n",
      "Starting epoch 5/20\n"
     ]
    },
    {
     "name": "stderr",
     "output_type": "stream",
     "text": [
      "100%|██████████| 1014/1014 [01:17<00:00, 13.02it/s]\n",
      "100%|██████████| 113/113 [01:00<00:00,  1.87it/s]\n"
     ]
    },
    {
     "name": "stdout",
     "output_type": "stream",
     "text": [
      "Train Loss: 0.4406 Train Acc: 0.8134\n",
      "Validation Loss: 0.6422 Validation Acc: 0.6937\n",
      "EarlyStopping counter: 1 out of 7\n",
      "Starting epoch 6/20\n"
     ]
    },
    {
     "name": "stderr",
     "output_type": "stream",
     "text": [
      "100%|██████████| 1014/1014 [01:17<00:00, 13.04it/s]\n",
      "100%|██████████| 113/113 [01:00<00:00,  1.86it/s]\n"
     ]
    },
    {
     "name": "stdout",
     "output_type": "stream",
     "text": [
      "Train Loss: 0.4197 Train Acc: 0.8200\n",
      "Validation Loss: 0.6714 Validation Acc: 0.7001\n",
      "EarlyStopping counter: 2 out of 7\n",
      "Starting epoch 7/20\n"
     ]
    },
    {
     "name": "stderr",
     "output_type": "stream",
     "text": [
      "100%|██████████| 1014/1014 [01:17<00:00, 13.00it/s]\n",
      "100%|██████████| 113/113 [01:02<00:00,  1.82it/s]\n"
     ]
    },
    {
     "name": "stdout",
     "output_type": "stream",
     "text": [
      "Train Loss: 0.3987 Train Acc: 0.8299\n",
      "Validation Loss: 0.7739 Validation Acc: 0.6915\n",
      "EarlyStopping counter: 3 out of 7\n",
      "Starting epoch 8/20\n"
     ]
    },
    {
     "name": "stderr",
     "output_type": "stream",
     "text": [
      "100%|██████████| 1014/1014 [01:17<00:00, 13.04it/s]\n",
      "100%|██████████| 113/113 [01:01<00:00,  1.85it/s]\n"
     ]
    },
    {
     "name": "stdout",
     "output_type": "stream",
     "text": [
      "Train Loss: 0.3810 Train Acc: 0.8391\n",
      "Validation Loss: 0.7388 Validation Acc: 0.6992\n",
      "EarlyStopping counter: 4 out of 7\n",
      "Starting epoch 9/20\n"
     ]
    },
    {
     "name": "stderr",
     "output_type": "stream",
     "text": [
      "100%|██████████| 1014/1014 [01:17<00:00, 13.01it/s]\n",
      "100%|██████████| 113/113 [01:00<00:00,  1.86it/s]\n"
     ]
    },
    {
     "name": "stdout",
     "output_type": "stream",
     "text": [
      "Train Loss: 0.3603 Train Acc: 0.8472\n",
      "Validation Loss: 0.6906 Validation Acc: 0.7098\n",
      "EarlyStopping counter: 5 out of 7\n",
      "Starting epoch 10/20\n"
     ]
    },
    {
     "name": "stderr",
     "output_type": "stream",
     "text": [
      "100%|██████████| 1014/1014 [01:17<00:00, 13.06it/s]\n",
      "100%|██████████| 113/113 [01:00<00:00,  1.87it/s]\n"
     ]
    },
    {
     "name": "stdout",
     "output_type": "stream",
     "text": [
      "Train Loss: 0.3478 Train Acc: 0.8539\n",
      "Validation Loss: 0.6994 Validation Acc: 0.7178\n",
      "EarlyStopping counter: 6 out of 7\n",
      "Starting epoch 11/20\n"
     ]
    },
    {
     "name": "stderr",
     "output_type": "stream",
     "text": [
      "100%|██████████| 1014/1014 [01:17<00:00, 13.02it/s]\n",
      "100%|██████████| 113/113 [01:00<00:00,  1.86it/s]\n"
     ]
    },
    {
     "name": "stdout",
     "output_type": "stream",
     "text": [
      "Train Loss: 0.3307 Train Acc: 0.8601\n",
      "Validation Loss: 0.5922 Validation Acc: 0.7558\n",
      "EarlyStopping counter: 7 out of 7\n",
      "Early stopping\n",
      "Finished fold 8/10\n",
      "Starting fold 9/10\n",
      "Starting epoch 1/20\n"
     ]
    },
    {
     "name": "stderr",
     "output_type": "stream",
     "text": [
      "100%|██████████| 1014/1014 [01:17<00:00, 13.02it/s]\n",
      "100%|██████████| 113/113 [01:01<00:00,  1.85it/s]\n"
     ]
    },
    {
     "name": "stdout",
     "output_type": "stream",
     "text": [
      "Train Loss: 0.6110 Train Acc: 0.7336\n",
      "Validation Loss: 0.5806 Validation Acc: 0.7605\n",
      "Validation loss decreased (inf --> 0.580640).  Saving model ...\n",
      "Starting epoch 2/20\n"
     ]
    },
    {
     "name": "stderr",
     "output_type": "stream",
     "text": [
      "100%|██████████| 1014/1014 [01:17<00:00, 13.05it/s]\n",
      "100%|██████████| 113/113 [01:01<00:00,  1.85it/s]\n"
     ]
    },
    {
     "name": "stdout",
     "output_type": "stream",
     "text": [
      "Train Loss: 0.5155 Train Acc: 0.7739\n",
      "Validation Loss: 0.5381 Validation Acc: 0.7785\n",
      "Validation loss decreased (0.580640 --> 0.538145).  Saving model ...\n",
      "Starting epoch 3/20\n"
     ]
    },
    {
     "name": "stderr",
     "output_type": "stream",
     "text": [
      "100%|██████████| 1014/1014 [01:17<00:00, 13.06it/s]\n",
      "100%|██████████| 113/113 [01:01<00:00,  1.83it/s]\n"
     ]
    },
    {
     "name": "stdout",
     "output_type": "stream",
     "text": [
      "Train Loss: 0.4791 Train Acc: 0.7936\n",
      "Validation Loss: 0.6809 Validation Acc: 0.6886\n",
      "EarlyStopping counter: 1 out of 7\n",
      "Starting epoch 4/20\n"
     ]
    },
    {
     "name": "stderr",
     "output_type": "stream",
     "text": [
      "100%|██████████| 1014/1014 [01:17<00:00, 13.03it/s]\n",
      "100%|██████████| 113/113 [01:01<00:00,  1.85it/s]\n"
     ]
    },
    {
     "name": "stdout",
     "output_type": "stream",
     "text": [
      "Train Loss: 0.4507 Train Acc: 0.8063\n",
      "Validation Loss: 0.5414 Validation Acc: 0.7566\n",
      "EarlyStopping counter: 2 out of 7\n",
      "Starting epoch 5/20\n"
     ]
    },
    {
     "name": "stderr",
     "output_type": "stream",
     "text": [
      "100%|██████████| 1014/1014 [01:17<00:00, 13.05it/s]\n",
      "100%|██████████| 113/113 [01:00<00:00,  1.86it/s]\n"
     ]
    },
    {
     "name": "stdout",
     "output_type": "stream",
     "text": [
      "Train Loss: 0.4276 Train Acc: 0.8172\n",
      "Validation Loss: 0.5388 Validation Acc: 0.7735\n",
      "EarlyStopping counter: 3 out of 7\n",
      "Starting epoch 6/20\n"
     ]
    },
    {
     "name": "stderr",
     "output_type": "stream",
     "text": [
      "100%|██████████| 1014/1014 [01:17<00:00, 13.03it/s]\n",
      "100%|██████████| 113/113 [01:06<00:00,  1.71it/s]\n"
     ]
    },
    {
     "name": "stdout",
     "output_type": "stream",
     "text": [
      "Train Loss: 0.3998 Train Acc: 0.8288\n",
      "Validation Loss: 0.6052 Validation Acc: 0.7208\n",
      "EarlyStopping counter: 4 out of 7\n",
      "Starting epoch 7/20\n"
     ]
    },
    {
     "name": "stderr",
     "output_type": "stream",
     "text": [
      "100%|██████████| 1014/1014 [01:17<00:00, 13.06it/s]\n",
      "100%|██████████| 113/113 [01:01<00:00,  1.83it/s]\n"
     ]
    },
    {
     "name": "stdout",
     "output_type": "stream",
     "text": [
      "Train Loss: 0.3796 Train Acc: 0.8385\n",
      "Validation Loss: 0.6055 Validation Acc: 0.7355\n",
      "EarlyStopping counter: 5 out of 7\n",
      "Starting epoch 8/20\n"
     ]
    },
    {
     "name": "stderr",
     "output_type": "stream",
     "text": [
      "100%|██████████| 1014/1014 [01:17<00:00, 13.04it/s]\n",
      "100%|██████████| 113/113 [01:01<00:00,  1.85it/s]\n"
     ]
    },
    {
     "name": "stdout",
     "output_type": "stream",
     "text": [
      "Train Loss: 0.3576 Train Acc: 0.8475\n",
      "Validation Loss: 0.7612 Validation Acc: 0.6955\n",
      "EarlyStopping counter: 6 out of 7\n",
      "Starting epoch 9/20\n"
     ]
    },
    {
     "name": "stderr",
     "output_type": "stream",
     "text": [
      "100%|██████████| 1014/1014 [01:17<00:00, 13.06it/s]\n",
      "100%|██████████| 113/113 [01:01<00:00,  1.84it/s]\n"
     ]
    },
    {
     "name": "stdout",
     "output_type": "stream",
     "text": [
      "Train Loss: 0.3422 Train Acc: 0.8548\n",
      "Validation Loss: 0.6278 Validation Acc: 0.7430\n",
      "EarlyStopping counter: 7 out of 7\n",
      "Early stopping\n",
      "Finished fold 9/10\n",
      "Starting fold 10/10\n",
      "Starting epoch 1/20\n"
     ]
    },
    {
     "name": "stderr",
     "output_type": "stream",
     "text": [
      "100%|██████████| 1014/1014 [01:17<00:00, 13.05it/s]\n",
      "100%|██████████| 113/113 [01:00<00:00,  1.86it/s]\n"
     ]
    },
    {
     "name": "stdout",
     "output_type": "stream",
     "text": [
      "Train Loss: 0.5928 Train Acc: 0.7346\n",
      "Validation Loss: 0.9371 Validation Acc: 0.7397\n",
      "Validation loss decreased (inf --> 0.937126).  Saving model ...\n",
      "Starting epoch 2/20\n"
     ]
    },
    {
     "name": "stderr",
     "output_type": "stream",
     "text": [
      "100%|██████████| 1014/1014 [01:17<00:00, 13.03it/s]\n",
      "100%|██████████| 113/113 [01:00<00:00,  1.86it/s]\n"
     ]
    },
    {
     "name": "stdout",
     "output_type": "stream",
     "text": [
      "Train Loss: 0.4937 Train Acc: 0.7776\n",
      "Validation Loss: 0.9409 Validation Acc: 0.7194\n",
      "EarlyStopping counter: 1 out of 7\n",
      "Starting epoch 3/20\n"
     ]
    },
    {
     "name": "stderr",
     "output_type": "stream",
     "text": [
      "100%|██████████| 1014/1014 [01:17<00:00, 13.05it/s]\n",
      "100%|██████████| 113/113 [01:00<00:00,  1.87it/s]\n"
     ]
    },
    {
     "name": "stdout",
     "output_type": "stream",
     "text": [
      "Train Loss: 0.4581 Train Acc: 0.7996\n",
      "Validation Loss: 0.9813 Validation Acc: 0.7269\n",
      "EarlyStopping counter: 2 out of 7\n",
      "Starting epoch 4/20\n"
     ]
    },
    {
     "name": "stderr",
     "output_type": "stream",
     "text": [
      "100%|██████████| 1014/1014 [01:17<00:00, 13.05it/s]\n",
      "100%|██████████| 113/113 [01:00<00:00,  1.86it/s]\n"
     ]
    },
    {
     "name": "stdout",
     "output_type": "stream",
     "text": [
      "Train Loss: 0.4309 Train Acc: 0.8106\n",
      "Validation Loss: 1.0663 Validation Acc: 0.6922\n",
      "EarlyStopping counter: 3 out of 7\n",
      "Starting epoch 5/20\n"
     ]
    },
    {
     "name": "stderr",
     "output_type": "stream",
     "text": [
      "100%|██████████| 1014/1014 [01:17<00:00, 13.04it/s]\n",
      "100%|██████████| 113/113 [01:01<00:00,  1.85it/s]\n"
     ]
    },
    {
     "name": "stdout",
     "output_type": "stream",
     "text": [
      "Train Loss: 0.4107 Train Acc: 0.8206\n",
      "Validation Loss: 0.9843 Validation Acc: 0.7405\n",
      "EarlyStopping counter: 4 out of 7\n",
      "Starting epoch 6/20\n"
     ]
    },
    {
     "name": "stderr",
     "output_type": "stream",
     "text": [
      "100%|██████████| 1014/1014 [01:17<00:00, 13.05it/s]\n",
      "100%|██████████| 113/113 [01:00<00:00,  1.85it/s]\n"
     ]
    },
    {
     "name": "stdout",
     "output_type": "stream",
     "text": [
      "Train Loss: 0.3889 Train Acc: 0.8270\n",
      "Validation Loss: 0.9684 Validation Acc: 0.7580\n",
      "EarlyStopping counter: 5 out of 7\n",
      "Starting epoch 7/20\n"
     ]
    },
    {
     "name": "stderr",
     "output_type": "stream",
     "text": [
      "100%|██████████| 1014/1014 [01:17<00:00, 13.06it/s]\n",
      "100%|██████████| 113/113 [01:01<00:00,  1.84it/s]\n"
     ]
    },
    {
     "name": "stdout",
     "output_type": "stream",
     "text": [
      "Train Loss: 0.3707 Train Acc: 0.8382\n",
      "Validation Loss: 0.9742 Validation Acc: 0.7510\n",
      "EarlyStopping counter: 6 out of 7\n",
      "Starting epoch 8/20\n"
     ]
    },
    {
     "name": "stderr",
     "output_type": "stream",
     "text": [
      "100%|██████████| 1014/1014 [01:17<00:00, 13.05it/s]\n",
      "100%|██████████| 113/113 [01:01<00:00,  1.83it/s]\n"
     ]
    },
    {
     "name": "stdout",
     "output_type": "stream",
     "text": [
      "Train Loss: 0.3554 Train Acc: 0.8448\n",
      "Validation Loss: 1.0228 Validation Acc: 0.7319\n",
      "EarlyStopping counter: 7 out of 7\n",
      "Early stopping\n",
      "Finished fold 10/10\n",
      "Finished Training\n"
     ]
    }
   ],
   "source": [
    "# Loop de treinamento\n",
    "for fold, (train_loader, val_loader) in enumerate(dataloaders):\n",
    "    print(f'Starting fold {fold + 1}/{len(dataloaders)}')\n",
    "    \n",
    "    # Ajustando a ResNet101\n",
    "    model = models.resnet101(weights=ResNet101_Weights.IMAGENET1K_V1)\n",
    "    num_ftrs = model.fc.in_features\n",
    "    model.fc = nn.Linear(num_ftrs, num_classes)  # ajustar a última camada para 6 classes\n",
    "    model.conv1 = nn.Conv2d(1,\n",
    "                            64,\n",
    "                            kernel_size=(7, 7),\n",
    "                            stride=(2, 2),\n",
    "                            padding=(3, 3),\n",
    "                            bias=False)  # ajustar a primeira camada para 1 canal\n",
    "    model = model.to(device)\n",
    "    optimizer = optim.SGD(model.parameters(), lr=0.001, momentum=0.9)\n",
    "    # initialize the early_stopping object\n",
    "    early_stopping = EarlyStopping(patience=7, verbose=True, fold = fold)\n",
    "    \n",
    "    for epoch in range(num_epochs):  # número de épocas\n",
    "        print(f'Starting epoch {epoch + 1}/{num_epochs}')\n",
    "\n",
    "        # Treinamento\n",
    "        model.train()\n",
    "        running_loss_train = 0.0\n",
    "        running_corrects_train = 0\n",
    "        for i, (inputs, labels) in tqdm(enumerate(train_loader), total=len(train_loader)):\n",
    "            inputs = inputs.unsqueeze(1).to(device)  # Adiciona um canal extra\n",
    "            labels = labels.to(device)\n",
    "\n",
    "            optimizer.zero_grad()\n",
    "\n",
    "            outputs = model(inputs)\n",
    "            _, preds = torch.max(outputs, 1)\n",
    "            running_corrects_train += torch.sum(preds == labels.data)\n",
    "            loss = criterion(outputs, labels)\n",
    "\n",
    "            loss.backward()\n",
    "            optimizer.step()\n",
    "\n",
    "            running_loss_train += loss.item() * inputs.size(0)\n",
    "\n",
    "        epoch_loss_train = running_loss_train / len(train_loader.dataset)\n",
    "        epoch_acc_train = running_corrects_train.double() / len(train_loader.dataset)\n",
    "\n",
    "        # Validação\n",
    "        model.eval()\n",
    "        running_loss_val = 0.0\n",
    "        running_corrects_val = 0\n",
    "        all_labels = []\n",
    "        all_preds = []\n",
    "        with torch.no_grad():\n",
    "            for inputs, labels in tqdm(val_loader):\n",
    "                inputs = inputs.unsqueeze(1).to(device)\n",
    "                labels = labels.to(device)\n",
    "\n",
    "                outputs = model(inputs)\n",
    "                _, preds = torch.max(outputs, 1)\n",
    "                running_corrects_val += torch.sum(preds == labels.data)\n",
    "                loss = criterion(outputs, labels)\n",
    "\n",
    "                running_loss_val += loss.item() * inputs.size(0)\n",
    "\n",
    "                all_labels.extend(labels.data.cpu().numpy())\n",
    "                all_preds.extend(preds.cpu().numpy())\n",
    "\n",
    "        epoch_loss_val = running_loss_val / len(val_loader.dataset)\n",
    "        epoch_acc_val = running_corrects_val.double() / len(val_loader.dataset)\n",
    "\n",
    "        report = classification_report(all_labels, all_preds, output_dict=True)\n",
    "\n",
    "        print(f'Train Loss: {epoch_loss_train:.4f} Train Acc: {epoch_acc_train:.4f}')\n",
    "        print(f'Validation Loss: {epoch_loss_val:.4f} Validation Acc: {epoch_acc_val:.4f}')\n",
    "\n",
    "        f1_scores = {}\n",
    "        precisions = {}\n",
    "        recalls = {}\n",
    "        for class_index in range(num_classes):\n",
    "            f1_scores[f'class_{class_index}'] = report[str(class_index)]['f1-score']\n",
    "            precisions[f'class_{class_index}'] = report[str(class_index)]['precision']\n",
    "            recalls[f'class_{class_index}'] = report[str(class_index)]['recall']\n",
    "\n",
    "        writer.add_scalars(f'F1 scores_{fold}', f1_scores, epoch)\n",
    "        writer.add_scalars(f'Precisions_{fold}', precisions, epoch)\n",
    "        writer.add_scalars(f'Recalls_{fold}', recalls, epoch)\n",
    "\n",
    "        writer.add_scalar(f'training loss_{fold}', epoch_loss_train, epoch)\n",
    "        writer.add_scalar(f'training accuracy_{fold}', epoch_acc_train, epoch)\n",
    "        writer.add_scalar(f'validation loss_{fold}', epoch_loss_val, epoch)\n",
    "        writer.add_scalar(f'validation accuracy_{fold}', epoch_acc_val, epoch)\n",
    "        \n",
    "        early_stopping(epoch_loss_val, model)\n",
    "        \n",
    "        if early_stopping.early_stop:\n",
    "            print(\"Early stopping\")\n",
    "            break\n",
    "\n",
    "    print(f'Finished fold {fold + 1}/{len(dataloaders)}')\n",
    "    \n",
    "# Salvando o modelo treinado\n",
    "torch.save(model.state_dict(), f'models/model_resnet101_{k_folds}_Folds.pth')\n",
    "\n",
    "# Fechando o TensorBoard writer\n",
    "writer.close()\n",
    "\n",
    "print('Finished Training')\n"
   ]
  },
  {
   "cell_type": "code",
   "execution_count": 5,
   "metadata": {},
   "outputs": [],
   "source": [
    "import numpy as np \n",
    "import os\n",
    "# Dicionário para armazenar os relatórios de classificação para cada fold\n",
    "classification_reports = []\n",
    "\n",
    "# Caminho para a pasta com os modelos\n",
    "model_folder = 'models/checkpoint'\n",
    "\n",
    "# Loop através de cada fold\n",
    "for fold in range(k_folds):\n",
    "    # Carregando o modelo\n",
    "    model_path = os.path.join(model_folder, f'checkpoint_{fold}.pth')\n",
    "    model.load_state_dict(torch.load(model_path))\n",
    "\n",
    "    # Pegando o dataloader de teste para este fold\n",
    "    _, test_loader = dataloaders[fold]\n",
    "\n",
    "    # Avaliando o modelo neste fold\n",
    "    model.eval()\n",
    "    all_labels = []\n",
    "    all_preds = []\n",
    "    with torch.no_grad():\n",
    "        for inputs, labels in test_loader:\n",
    "            inputs = inputs.unsqueeze(1).to(device)\n",
    "            labels = labels.to(device)\n",
    "\n",
    "            outputs = model(inputs)\n",
    "            _, preds = torch.max(outputs, 1)\n",
    "\n",
    "            all_labels.extend(labels.cpu().numpy())\n",
    "            all_preds.extend(preds.cpu().numpy())\n",
    "\n",
    "    # Gerando o relatório de classificação para este fold\n",
    "    report = classification_report(all_labels, all_preds, output_dict=True)\n",
    "    classification_reports.append(report)\n",
    "\n",
    "# Calculando a média das métricas para cada classe em todos os folds\n",
    "avg_metrics = {class_: {'precision': 0, 'recall': 0, 'f1-score': 0, 'support': 0} for class_ in range(num_classes)}\n",
    "for report in classification_reports:\n",
    "    for class_ in range(num_classes):\n",
    "        avg_metrics[class_]['precision'] += report[str(class_)]['precision']\n",
    "        avg_metrics[class_]['recall'] += report[str(class_)]['recall']\n",
    "        avg_metrics[class_]['f1-score'] += report[str(class_)]['f1-score']\n",
    "        avg_metrics[class_]['support'] += report[str(class_)]['support']\n",
    "\n",
    "for class_ in range(num_classes):\n",
    "    avg_metrics[class_]['precision'] /= k_folds\n",
    "    avg_metrics[class_]['recall'] /= k_folds\n",
    "    avg_metrics[class_]['f1-score'] /= k_folds\n",
    "    avg_metrics[class_]['support'] = np.round(avg_metrics[class_]['support'] / k_folds).astype"
   ]
  },
  {
   "cell_type": "code",
   "execution_count": 6,
   "metadata": {},
   "outputs": [
    {
     "name": "stdout",
     "output_type": "stream",
     "text": [
      "Class: Nada\n",
      "Precision\tRecall\tF1-Score\tSupport\n",
      "0.8514\t\t0.8733\t0.8605\t\t2084\n",
      "===============================================\n",
      "Class: Grito\n",
      "Precision\tRecall\tF1-Score\tSupport\n",
      "0.3443\t\t0.2287\t0.2321\t\t324\n",
      "===============================================\n",
      "Class: Violência Física\n",
      "Precision\tRecall\tF1-Score\tSupport\n",
      "0.8769\t\t0.8298\t0.8406\t\t500\n",
      "===============================================\n",
      "Class: Tiro\n",
      "Precision\tRecall\tF1-Score\tSupport\n",
      "0.9026\t\t0.7844\t0.7942\t\t315\n",
      "===============================================\n",
      "Class: Explosão\n",
      "Precision\tRecall\tF1-Score\tSupport\n",
      "0.6562\t\t0.3295\t0.3825\t\t65\n",
      "===============================================\n",
      "Class: Grito de Esforço\n",
      "Precision\tRecall\tF1-Score\tSupport\n",
      "0.5792\t\t0.5530\t0.4863\t\t316\n",
      "===============================================\n"
     ]
    }
   ],
   "source": [
    "annotation_dict = {0: 'Nada',\n",
    "                   1: 'Grito',\n",
    "                   2: 'Violência Física',\n",
    "                   3: 'Tiro',\n",
    "                   4: 'Explosão',\n",
    "                   5: 'Grito de Esforço'}\n",
    "\n",
    "for class_ in range(num_classes):\n",
    "    print(f\"Class: {annotation_dict[class_]}\")\n",
    "    print('Precision\\tRecall\\tF1-Score\\tSupport')\n",
    "    print('{:.4f}\\t\\t{:.4f}\\t{:.4f}\\t\\t{}'.format(avg_metrics[class_]['precision'], \n",
    "                                                  avg_metrics[class_]['recall'], \n",
    "                                                  avg_metrics[class_]['f1-score'], \n",
    "                                                  avg_metrics[class_]['support'](int)))\n",
    "    print('===============================================')"
   ]
  },
  {
   "cell_type": "code",
   "execution_count": null,
   "metadata": {},
   "outputs": [],
   "source": []
  },
  {
   "cell_type": "code",
   "execution_count": null,
   "metadata": {},
   "outputs": [],
   "source": []
  }
 ],
 "metadata": {
  "kernelspec": {
   "display_name": ".venv",
   "language": "python",
   "name": "python3"
  },
  "language_info": {
   "codemirror_mode": {
    "name": "ipython",
    "version": 3
   },
   "file_extension": ".py",
   "mimetype": "text/x-python",
   "name": "python",
   "nbconvert_exporter": "python",
   "pygments_lexer": "ipython3",
   "version": "3.8.10"
  },
  "orig_nbformat": 4
 },
 "nbformat": 4,
 "nbformat_minor": 2
}
