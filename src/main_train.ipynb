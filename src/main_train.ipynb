{
 "cells": [
  {
   "cell_type": "code",
   "execution_count": 1,
   "metadata": {},
   "outputs": [],
   "source": [
    "from utils.dataloader import H5Dataset\n",
    "import torch\n",
    "import torch.nn as nn\n",
    "import torch.optim as optim\n",
    "import torchvision.models as models\n",
    "from torch.utils.tensorboard import SummaryWriter\n",
    "from sklearn.metrics import classification_report\n",
    "from tqdm import tqdm\n",
    "from utils.dataloader import H5Dataset"
   ]
  },
  {
   "cell_type": "code",
   "execution_count": 2,
   "metadata": {},
   "outputs": [],
   "source": [
    "num_classes = 6\n",
    "k_folds = 10\n",
    "\n",
    "\n",
    "\n",
    "# Caminho para os arquivos h5\n",
    "h5_files = ['h5_files/GunshotForensic_feature.h5',\n",
    "            'h5_files/HEAR_Test_feature.h5',\n",
    "            'h5_files/MIVIA_test_feature.h5',\n",
    "            'h5_files/MIVIA_train_feature.h5',\n",
    "            'h5_files/SESA_feature.h5',\n",
    "            'h5_files/vsd_clipped_features.h5'\n",
    "]\n",
    "\n",
    "# Carregando os dataloaders\n",
    "dataset = H5Dataset(h5_files, exclude_classes=[6], n_splits=k_folds)\n",
    "dataloaders = dataset.get_k_fold_data_loaders(batch_size=32,\n",
    "                                               num_workers=4)\n"
   ]
  },
  {
   "cell_type": "code",
   "execution_count": 3,
   "metadata": {},
   "outputs": [
    {
     "name": "stdout",
     "output_type": "stream",
     "text": [
      "cuda\n"
     ]
    }
   ],
   "source": [
    "from torchvision.models import ResNet101_Weights\n",
    "\n",
    "\n",
    "device = torch.device('cuda' if torch.cuda.is_available() else 'cpu')\n",
    "print(device)\n",
    "\n",
    "# Ajustando a ResNet101\n",
    "model = models.resnet101(weights=ResNet101_Weights.IMAGENET1K_V1)\n",
    "num_ftrs = model.fc.in_features\n",
    "model.fc = nn.Linear(num_ftrs, num_classes)  # ajustar a última camada para 6 classes\n",
    "model.conv1 = nn.Conv2d(1,\n",
    "                        64,\n",
    "                        kernel_size=(7, 7),\n",
    "                        stride=(2, 2),\n",
    "                        padding=(3, 3),\n",
    "                        bias=False)  # ajustar a primeira camada para 1 canal\n",
    "model = model.to(device)\n",
    "\n",
    "criterion = nn.CrossEntropyLoss()\n",
    "optimizer = optim.SGD(model.parameters(), lr=0.001, momentum=0.9)\n",
    "\n",
    "# Configurando o TensorBoard\n",
    "writer = SummaryWriter()"
   ]
  },
  {
   "cell_type": "code",
   "execution_count": 4,
   "metadata": {},
   "outputs": [
    {
     "name": "stdout",
     "output_type": "stream",
     "text": [
      "Starting fold 1/10\n",
      "Starting epoch 1/10\n"
     ]
    },
    {
     "name": "stderr",
     "output_type": "stream",
     "text": [
      "100%|██████████| 1014/1014 [01:19<00:00, 12.69it/s]\n",
      "100%|██████████| 113/113 [00:57<00:00,  1.98it/s]\n"
     ]
    },
    {
     "name": "stdout",
     "output_type": "stream",
     "text": [
      "Train Loss: 0.6400 Train Acc: 0.7087\n",
      "Validation Loss: 1.4701 Validation Acc: 0.5461\n",
      "Starting epoch 2/10\n"
     ]
    },
    {
     "name": "stderr",
     "output_type": "stream",
     "text": [
      "100%|██████████| 1014/1014 [01:16<00:00, 13.19it/s]\n",
      "100%|██████████| 113/113 [00:56<00:00,  1.99it/s]\n"
     ]
    },
    {
     "name": "stdout",
     "output_type": "stream",
     "text": [
      "Train Loss: 0.5559 Train Acc: 0.7502\n",
      "Validation Loss: 1.4246 Validation Acc: 0.5605\n",
      "Starting epoch 3/10\n"
     ]
    },
    {
     "name": "stderr",
     "output_type": "stream",
     "text": [
      "100%|██████████| 1014/1014 [01:16<00:00, 13.19it/s]\n",
      "100%|██████████| 113/113 [00:57<00:00,  1.98it/s]\n"
     ]
    },
    {
     "name": "stdout",
     "output_type": "stream",
     "text": [
      "Train Loss: 0.5224 Train Acc: 0.7697\n",
      "Validation Loss: 1.9049 Validation Acc: 0.3976\n",
      "Starting epoch 4/10\n"
     ]
    },
    {
     "name": "stderr",
     "output_type": "stream",
     "text": [
      "100%|██████████| 1014/1014 [01:16<00:00, 13.21it/s]\n",
      "100%|██████████| 113/113 [00:58<00:00,  1.94it/s]\n"
     ]
    },
    {
     "name": "stdout",
     "output_type": "stream",
     "text": [
      "Train Loss: 0.4826 Train Acc: 0.7923\n",
      "Validation Loss: 1.8397 Validation Acc: 0.3954\n",
      "Starting epoch 5/10\n"
     ]
    },
    {
     "name": "stderr",
     "output_type": "stream",
     "text": [
      "100%|██████████| 1014/1014 [01:16<00:00, 13.25it/s]\n",
      "100%|██████████| 113/113 [00:57<00:00,  1.98it/s]\n"
     ]
    },
    {
     "name": "stdout",
     "output_type": "stream",
     "text": [
      "Train Loss: 0.4547 Train Acc: 0.8060\n",
      "Validation Loss: 1.7662 Validation Acc: 0.5200\n",
      "Starting epoch 6/10\n"
     ]
    },
    {
     "name": "stderr",
     "output_type": "stream",
     "text": [
      "100%|██████████| 1014/1014 [01:16<00:00, 13.23it/s]\n",
      "100%|██████████| 113/113 [00:57<00:00,  1.97it/s]\n"
     ]
    },
    {
     "name": "stdout",
     "output_type": "stream",
     "text": [
      "Train Loss: 0.4352 Train Acc: 0.8146\n",
      "Validation Loss: 1.5575 Validation Acc: 0.6726\n",
      "Starting epoch 7/10\n"
     ]
    },
    {
     "name": "stderr",
     "output_type": "stream",
     "text": [
      "100%|██████████| 1014/1014 [01:16<00:00, 13.27it/s]\n",
      "100%|██████████| 113/113 [00:58<00:00,  1.93it/s]\n"
     ]
    },
    {
     "name": "stdout",
     "output_type": "stream",
     "text": [
      "Train Loss: 0.4146 Train Acc: 0.8220\n",
      "Validation Loss: 1.5377 Validation Acc: 0.7725\n",
      "Starting epoch 8/10\n"
     ]
    },
    {
     "name": "stderr",
     "output_type": "stream",
     "text": [
      "100%|██████████| 1014/1014 [01:16<00:00, 13.27it/s]\n",
      "100%|██████████| 113/113 [00:57<00:00,  1.97it/s]\n"
     ]
    },
    {
     "name": "stdout",
     "output_type": "stream",
     "text": [
      "Train Loss: 0.3922 Train Acc: 0.8338\n",
      "Validation Loss: 1.3646 Validation Acc: 0.7367\n",
      "Starting epoch 9/10\n"
     ]
    },
    {
     "name": "stderr",
     "output_type": "stream",
     "text": [
      "100%|██████████| 1014/1014 [01:16<00:00, 13.29it/s]\n",
      "100%|██████████| 113/113 [00:57<00:00,  1.96it/s]\n"
     ]
    },
    {
     "name": "stdout",
     "output_type": "stream",
     "text": [
      "Train Loss: 0.3725 Train Acc: 0.8408\n",
      "Validation Loss: 1.5536 Validation Acc: 0.7863\n",
      "Starting epoch 10/10\n"
     ]
    },
    {
     "name": "stderr",
     "output_type": "stream",
     "text": [
      "100%|██████████| 1014/1014 [01:16<00:00, 13.27it/s]\n",
      "100%|██████████| 113/113 [00:57<00:00,  1.98it/s]\n"
     ]
    },
    {
     "name": "stdout",
     "output_type": "stream",
     "text": [
      "Train Loss: 0.3518 Train Acc: 0.8495\n",
      "Validation Loss: 1.8398 Validation Acc: 0.6543\n",
      "Finished fold 1/10\n",
      "Starting fold 2/10\n",
      "Starting epoch 1/10\n"
     ]
    },
    {
     "name": "stderr",
     "output_type": "stream",
     "text": [
      "100%|██████████| 1014/1014 [01:16<00:00, 13.30it/s]\n",
      "100%|██████████| 113/113 [00:57<00:00,  1.97it/s]\n"
     ]
    },
    {
     "name": "stdout",
     "output_type": "stream",
     "text": [
      "Train Loss: 0.3667 Train Acc: 0.8450\n",
      "Validation Loss: 0.4559 Validation Acc: 0.7894\n",
      "Starting epoch 2/10\n"
     ]
    },
    {
     "name": "stderr",
     "output_type": "stream",
     "text": [
      "100%|██████████| 1014/1014 [01:16<00:00, 13.29it/s]\n",
      "100%|██████████| 113/113 [00:57<00:00,  1.95it/s]\n"
     ]
    },
    {
     "name": "stdout",
     "output_type": "stream",
     "text": [
      "Train Loss: 0.3381 Train Acc: 0.8556\n",
      "Validation Loss: 0.3899 Validation Acc: 0.8305\n",
      "Starting epoch 3/10\n"
     ]
    },
    {
     "name": "stderr",
     "output_type": "stream",
     "text": [
      "100%|██████████| 1014/1014 [01:16<00:00, 13.27it/s]\n",
      "100%|██████████| 113/113 [00:57<00:00,  1.98it/s]\n"
     ]
    },
    {
     "name": "stdout",
     "output_type": "stream",
     "text": [
      "Train Loss: 0.3218 Train Acc: 0.8630\n",
      "Validation Loss: 0.4271 Validation Acc: 0.8183\n",
      "Starting epoch 4/10\n"
     ]
    },
    {
     "name": "stderr",
     "output_type": "stream",
     "text": [
      "100%|██████████| 1014/1014 [01:16<00:00, 13.29it/s]\n",
      "100%|██████████| 113/113 [00:57<00:00,  1.98it/s]\n"
     ]
    },
    {
     "name": "stdout",
     "output_type": "stream",
     "text": [
      "Train Loss: 0.3039 Train Acc: 0.8696\n",
      "Validation Loss: 0.6555 Validation Acc: 0.7095\n",
      "Starting epoch 5/10\n"
     ]
    },
    {
     "name": "stderr",
     "output_type": "stream",
     "text": [
      "100%|██████████| 1014/1014 [01:16<00:00, 13.27it/s]\n",
      "100%|██████████| 113/113 [00:56<00:00,  1.99it/s]\n"
     ]
    },
    {
     "name": "stdout",
     "output_type": "stream",
     "text": [
      "Train Loss: 0.2862 Train Acc: 0.8773\n",
      "Validation Loss: 0.5671 Validation Acc: 0.8133\n",
      "Starting epoch 6/10\n"
     ]
    },
    {
     "name": "stderr",
     "output_type": "stream",
     "text": [
      "100%|██████████| 1014/1014 [01:16<00:00, 13.29it/s]\n",
      "100%|██████████| 113/113 [00:57<00:00,  1.97it/s]\n"
     ]
    },
    {
     "name": "stdout",
     "output_type": "stream",
     "text": [
      "Train Loss: 0.2733 Train Acc: 0.8817\n",
      "Validation Loss: 0.4199 Validation Acc: 0.8302\n",
      "Starting epoch 7/10\n"
     ]
    },
    {
     "name": "stderr",
     "output_type": "stream",
     "text": [
      "100%|██████████| 1014/1014 [01:16<00:00, 13.28it/s]\n",
      "100%|██████████| 113/113 [00:56<00:00,  1.99it/s]\n"
     ]
    },
    {
     "name": "stdout",
     "output_type": "stream",
     "text": [
      "Train Loss: 0.2585 Train Acc: 0.8900\n",
      "Validation Loss: 0.4876 Validation Acc: 0.8077\n",
      "Starting epoch 8/10\n"
     ]
    },
    {
     "name": "stderr",
     "output_type": "stream",
     "text": [
      "100%|██████████| 1014/1014 [01:16<00:00, 13.29it/s]\n",
      "100%|██████████| 113/113 [00:57<00:00,  1.98it/s]\n"
     ]
    },
    {
     "name": "stdout",
     "output_type": "stream",
     "text": [
      "Train Loss: 0.2477 Train Acc: 0.8958\n",
      "Validation Loss: 0.4354 Validation Acc: 0.8357\n",
      "Starting epoch 9/10\n"
     ]
    },
    {
     "name": "stderr",
     "output_type": "stream",
     "text": [
      "100%|██████████| 1014/1014 [01:16<00:00, 13.29it/s]\n",
      "100%|██████████| 113/113 [00:57<00:00,  1.97it/s]\n"
     ]
    },
    {
     "name": "stdout",
     "output_type": "stream",
     "text": [
      "Train Loss: 0.2270 Train Acc: 0.9032\n",
      "Validation Loss: 0.4802 Validation Acc: 0.8310\n",
      "Starting epoch 10/10\n"
     ]
    },
    {
     "name": "stderr",
     "output_type": "stream",
     "text": [
      "100%|██████████| 1014/1014 [01:16<00:00, 13.29it/s]\n",
      "100%|██████████| 113/113 [00:57<00:00,  1.97it/s]\n"
     ]
    },
    {
     "name": "stdout",
     "output_type": "stream",
     "text": [
      "Train Loss: 0.2151 Train Acc: 0.9088\n",
      "Validation Loss: 0.6104 Validation Acc: 0.8074\n",
      "Finished fold 2/10\n",
      "Starting fold 3/10\n",
      "Starting epoch 1/10\n"
     ]
    },
    {
     "name": "stderr",
     "output_type": "stream",
     "text": [
      "100%|██████████| 1014/1014 [01:16<00:00, 13.30it/s]\n",
      "100%|██████████| 113/113 [00:57<00:00,  1.95it/s]\n"
     ]
    },
    {
     "name": "stdout",
     "output_type": "stream",
     "text": [
      "Train Loss: 0.2547 Train Acc: 0.8955\n",
      "Validation Loss: 0.1460 Validation Acc: 0.9434\n",
      "Starting epoch 2/10\n"
     ]
    },
    {
     "name": "stderr",
     "output_type": "stream",
     "text": [
      "100%|██████████| 1014/1014 [01:16<00:00, 13.29it/s]\n",
      "100%|██████████| 113/113 [00:57<00:00,  1.98it/s]\n"
     ]
    },
    {
     "name": "stdout",
     "output_type": "stream",
     "text": [
      "Train Loss: 0.2174 Train Acc: 0.9098\n",
      "Validation Loss: 0.2355 Validation Acc: 0.9076\n",
      "Starting epoch 3/10\n"
     ]
    },
    {
     "name": "stderr",
     "output_type": "stream",
     "text": [
      "100%|██████████| 1014/1014 [01:16<00:00, 13.28it/s]\n",
      "100%|██████████| 113/113 [00:56<00:00,  1.98it/s]\n"
     ]
    },
    {
     "name": "stdout",
     "output_type": "stream",
     "text": [
      "Train Loss: 0.1959 Train Acc: 0.9168\n",
      "Validation Loss: 0.1859 Validation Acc: 0.9248\n",
      "Starting epoch 4/10\n"
     ]
    },
    {
     "name": "stderr",
     "output_type": "stream",
     "text": [
      "100%|██████████| 1014/1014 [01:16<00:00, 13.27it/s]\n",
      "100%|██████████| 113/113 [00:57<00:00,  1.96it/s]\n"
     ]
    },
    {
     "name": "stdout",
     "output_type": "stream",
     "text": [
      "Train Loss: 0.1834 Train Acc: 0.9213\n",
      "Validation Loss: 0.2514 Validation Acc: 0.9026\n",
      "Starting epoch 5/10\n"
     ]
    },
    {
     "name": "stderr",
     "output_type": "stream",
     "text": [
      "100%|██████████| 1014/1014 [01:16<00:00, 13.28it/s]\n",
      "100%|██████████| 113/113 [00:57<00:00,  1.98it/s]\n"
     ]
    },
    {
     "name": "stdout",
     "output_type": "stream",
     "text": [
      "Train Loss: 0.1831 Train Acc: 0.9222\n",
      "Validation Loss: 0.2409 Validation Acc: 0.9090\n",
      "Starting epoch 6/10\n"
     ]
    },
    {
     "name": "stderr",
     "output_type": "stream",
     "text": [
      "100%|██████████| 1014/1014 [01:16<00:00, 13.29it/s]\n",
      "100%|██████████| 113/113 [00:56<00:00,  2.00it/s]\n"
     ]
    },
    {
     "name": "stdout",
     "output_type": "stream",
     "text": [
      "Train Loss: 0.1688 Train Acc: 0.9303\n",
      "Validation Loss: 0.2707 Validation Acc: 0.9012\n",
      "Starting epoch 7/10\n"
     ]
    },
    {
     "name": "stderr",
     "output_type": "stream",
     "text": [
      "100%|██████████| 1014/1014 [01:16<00:00, 13.28it/s]\n",
      "100%|██████████| 113/113 [00:56<00:00,  1.99it/s]\n"
     ]
    },
    {
     "name": "stdout",
     "output_type": "stream",
     "text": [
      "Train Loss: 0.1527 Train Acc: 0.9370\n",
      "Validation Loss: 0.2526 Validation Acc: 0.8973\n",
      "Starting epoch 8/10\n"
     ]
    },
    {
     "name": "stderr",
     "output_type": "stream",
     "text": [
      "100%|██████████| 1014/1014 [01:16<00:00, 13.29it/s]\n",
      "100%|██████████| 113/113 [00:57<00:00,  1.97it/s]\n"
     ]
    },
    {
     "name": "stdout",
     "output_type": "stream",
     "text": [
      "Train Loss: 0.1444 Train Acc: 0.9386\n",
      "Validation Loss: 0.2966 Validation Acc: 0.8923\n",
      "Starting epoch 9/10\n"
     ]
    },
    {
     "name": "stderr",
     "output_type": "stream",
     "text": [
      "100%|██████████| 1014/1014 [01:16<00:00, 13.28it/s]\n",
      "100%|██████████| 113/113 [00:56<00:00,  1.99it/s]\n"
     ]
    },
    {
     "name": "stdout",
     "output_type": "stream",
     "text": [
      "Train Loss: 0.1359 Train Acc: 0.9426\n",
      "Validation Loss: 0.3677 Validation Acc: 0.8860\n",
      "Starting epoch 10/10\n"
     ]
    },
    {
     "name": "stderr",
     "output_type": "stream",
     "text": [
      "100%|██████████| 1014/1014 [01:16<00:00, 13.29it/s]\n",
      "100%|██████████| 113/113 [00:56<00:00,  1.99it/s]\n"
     ]
    },
    {
     "name": "stdout",
     "output_type": "stream",
     "text": [
      "Train Loss: 0.1268 Train Acc: 0.9482\n",
      "Validation Loss: 0.4294 Validation Acc: 0.8663\n",
      "Finished fold 3/10\n",
      "Starting fold 4/10\n",
      "Starting epoch 1/10\n"
     ]
    },
    {
     "name": "stderr",
     "output_type": "stream",
     "text": [
      "100%|██████████| 1014/1014 [01:16<00:00, 13.29it/s]\n",
      "100%|██████████| 113/113 [00:56<00:00,  1.99it/s]\n"
     ]
    },
    {
     "name": "stdout",
     "output_type": "stream",
     "text": [
      "Train Loss: 0.1546 Train Acc: 0.9374\n",
      "Validation Loss: 0.0929 Validation Acc: 0.9631\n",
      "Starting epoch 2/10\n"
     ]
    },
    {
     "name": "stderr",
     "output_type": "stream",
     "text": [
      "100%|██████████| 1014/1014 [01:16<00:00, 13.30it/s]\n",
      "100%|██████████| 113/113 [00:56<00:00,  1.99it/s]\n"
     ]
    },
    {
     "name": "stdout",
     "output_type": "stream",
     "text": [
      "Train Loss: 0.1278 Train Acc: 0.9483\n",
      "Validation Loss: 0.1252 Validation Acc: 0.9492\n",
      "Starting epoch 3/10\n"
     ]
    },
    {
     "name": "stderr",
     "output_type": "stream",
     "text": [
      "100%|██████████| 1014/1014 [01:16<00:00, 13.29it/s]\n",
      "100%|██████████| 113/113 [00:56<00:00,  1.99it/s]\n"
     ]
    },
    {
     "name": "stdout",
     "output_type": "stream",
     "text": [
      "Train Loss: 0.1147 Train Acc: 0.9537\n",
      "Validation Loss: 0.1591 Validation Acc: 0.9367\n",
      "Starting epoch 4/10\n"
     ]
    },
    {
     "name": "stderr",
     "output_type": "stream",
     "text": [
      "100%|██████████| 1014/1014 [01:16<00:00, 13.28it/s]\n",
      "100%|██████████| 113/113 [00:56<00:00,  1.99it/s]\n"
     ]
    },
    {
     "name": "stdout",
     "output_type": "stream",
     "text": [
      "Train Loss: 0.1140 Train Acc: 0.9537\n",
      "Validation Loss: 0.1724 Validation Acc: 0.9306\n",
      "Starting epoch 5/10\n"
     ]
    },
    {
     "name": "stderr",
     "output_type": "stream",
     "text": [
      "100%|██████████| 1014/1014 [01:16<00:00, 13.30it/s]\n",
      "100%|██████████| 113/113 [00:56<00:00,  1.99it/s]\n"
     ]
    },
    {
     "name": "stdout",
     "output_type": "stream",
     "text": [
      "Train Loss: 0.0956 Train Acc: 0.9605\n",
      "Validation Loss: 0.1392 Validation Acc: 0.9453\n",
      "Starting epoch 6/10\n"
     ]
    },
    {
     "name": "stderr",
     "output_type": "stream",
     "text": [
      "100%|██████████| 1014/1014 [01:16<00:00, 13.29it/s]\n",
      "100%|██████████| 113/113 [00:56<00:00,  1.98it/s]\n"
     ]
    },
    {
     "name": "stdout",
     "output_type": "stream",
     "text": [
      "Train Loss: 0.0882 Train Acc: 0.9629\n",
      "Validation Loss: 0.2579 Validation Acc: 0.9159\n",
      "Starting epoch 7/10\n"
     ]
    },
    {
     "name": "stderr",
     "output_type": "stream",
     "text": [
      "100%|██████████| 1014/1014 [01:16<00:00, 13.27it/s]\n",
      "100%|██████████| 113/113 [00:56<00:00,  1.99it/s]\n"
     ]
    },
    {
     "name": "stdout",
     "output_type": "stream",
     "text": [
      "Train Loss: 0.0856 Train Acc: 0.9662\n",
      "Validation Loss: 0.2289 Validation Acc: 0.9176\n",
      "Starting epoch 8/10\n"
     ]
    },
    {
     "name": "stderr",
     "output_type": "stream",
     "text": [
      "100%|██████████| 1014/1014 [01:16<00:00, 13.29it/s]\n",
      "100%|██████████| 113/113 [00:56<00:00,  1.99it/s]\n"
     ]
    },
    {
     "name": "stdout",
     "output_type": "stream",
     "text": [
      "Train Loss: 0.0783 Train Acc: 0.9683\n",
      "Validation Loss: 0.4203 Validation Acc: 0.8757\n",
      "Starting epoch 9/10\n"
     ]
    },
    {
     "name": "stderr",
     "output_type": "stream",
     "text": [
      "100%|██████████| 1014/1014 [01:16<00:00, 13.29it/s]\n",
      "100%|██████████| 113/113 [00:56<00:00,  2.00it/s]\n"
     ]
    },
    {
     "name": "stdout",
     "output_type": "stream",
     "text": [
      "Train Loss: 0.0770 Train Acc: 0.9684\n",
      "Validation Loss: 0.2296 Validation Acc: 0.9256\n",
      "Starting epoch 10/10\n"
     ]
    },
    {
     "name": "stderr",
     "output_type": "stream",
     "text": [
      "100%|██████████| 1014/1014 [01:16<00:00, 13.29it/s]\n",
      "100%|██████████| 113/113 [00:56<00:00,  1.99it/s]\n"
     ]
    },
    {
     "name": "stdout",
     "output_type": "stream",
     "text": [
      "Train Loss: 0.0747 Train Acc: 0.9693\n",
      "Validation Loss: 0.2621 Validation Acc: 0.9151\n",
      "Finished fold 4/10\n",
      "Starting fold 5/10\n",
      "Starting epoch 1/10\n"
     ]
    },
    {
     "name": "stderr",
     "output_type": "stream",
     "text": [
      "100%|██████████| 1014/1014 [01:16<00:00, 13.27it/s]\n",
      "100%|██████████| 113/113 [00:56<00:00,  1.99it/s]\n"
     ]
    },
    {
     "name": "stdout",
     "output_type": "stream",
     "text": [
      "Train Loss: 0.0881 Train Acc: 0.9651\n",
      "Validation Loss: 0.0539 Validation Acc: 0.9795\n",
      "Starting epoch 2/10\n"
     ]
    },
    {
     "name": "stderr",
     "output_type": "stream",
     "text": [
      "100%|██████████| 1014/1014 [01:16<00:00, 13.29it/s]\n",
      "100%|██████████| 113/113 [00:57<00:00,  1.95it/s]\n"
     ]
    },
    {
     "name": "stdout",
     "output_type": "stream",
     "text": [
      "Train Loss: 0.0685 Train Acc: 0.9709\n",
      "Validation Loss: 0.1182 Validation Acc: 0.9609\n",
      "Starting epoch 3/10\n"
     ]
    },
    {
     "name": "stderr",
     "output_type": "stream",
     "text": [
      "100%|██████████| 1014/1014 [01:16<00:00, 13.29it/s]\n",
      "100%|██████████| 113/113 [00:57<00:00,  1.98it/s]\n"
     ]
    },
    {
     "name": "stdout",
     "output_type": "stream",
     "text": [
      "Train Loss: 0.0665 Train Acc: 0.9727\n",
      "Validation Loss: 0.0788 Validation Acc: 0.9689\n",
      "Starting epoch 4/10\n"
     ]
    },
    {
     "name": "stderr",
     "output_type": "stream",
     "text": [
      "100%|██████████| 1014/1014 [01:16<00:00, 13.28it/s]\n",
      "100%|██████████| 113/113 [00:56<00:00,  1.98it/s]\n"
     ]
    },
    {
     "name": "stdout",
     "output_type": "stream",
     "text": [
      "Train Loss: 0.0598 Train Acc: 0.9756\n",
      "Validation Loss: 0.1010 Validation Acc: 0.9642\n",
      "Starting epoch 5/10\n"
     ]
    },
    {
     "name": "stderr",
     "output_type": "stream",
     "text": [
      "100%|██████████| 1014/1014 [01:16<00:00, 13.29it/s]\n",
      "100%|██████████| 113/113 [00:56<00:00,  1.99it/s]\n"
     ]
    },
    {
     "name": "stdout",
     "output_type": "stream",
     "text": [
      "Train Loss: 0.0679 Train Acc: 0.9724\n",
      "Validation Loss: 0.0956 Validation Acc: 0.9681\n",
      "Starting epoch 6/10\n"
     ]
    },
    {
     "name": "stderr",
     "output_type": "stream",
     "text": [
      "100%|██████████| 1014/1014 [01:16<00:00, 13.29it/s]\n",
      "100%|██████████| 113/113 [00:56<00:00,  2.00it/s]\n"
     ]
    },
    {
     "name": "stdout",
     "output_type": "stream",
     "text": [
      "Train Loss: 0.0616 Train Acc: 0.9741\n",
      "Validation Loss: 0.0762 Validation Acc: 0.9695\n",
      "Starting epoch 7/10\n"
     ]
    },
    {
     "name": "stderr",
     "output_type": "stream",
     "text": [
      "100%|██████████| 1014/1014 [01:16<00:00, 13.27it/s]\n",
      "100%|██████████| 113/113 [00:57<00:00,  1.97it/s]\n"
     ]
    },
    {
     "name": "stdout",
     "output_type": "stream",
     "text": [
      "Train Loss: 0.0535 Train Acc: 0.9774\n",
      "Validation Loss: 0.1289 Validation Acc: 0.9539\n",
      "Starting epoch 8/10\n"
     ]
    },
    {
     "name": "stderr",
     "output_type": "stream",
     "text": [
      "100%|██████████| 1014/1014 [01:16<00:00, 13.29it/s]\n",
      "100%|██████████| 113/113 [00:56<00:00,  1.99it/s]\n"
     ]
    },
    {
     "name": "stdout",
     "output_type": "stream",
     "text": [
      "Train Loss: 0.0582 Train Acc: 0.9758\n",
      "Validation Loss: 0.1179 Validation Acc: 0.9562\n",
      "Starting epoch 9/10\n"
     ]
    },
    {
     "name": "stderr",
     "output_type": "stream",
     "text": [
      "100%|██████████| 1014/1014 [01:16<00:00, 13.26it/s]\n",
      "100%|██████████| 113/113 [00:56<00:00,  2.00it/s]\n"
     ]
    },
    {
     "name": "stdout",
     "output_type": "stream",
     "text": [
      "Train Loss: 0.0462 Train Acc: 0.9816\n",
      "Validation Loss: 0.0988 Validation Acc: 0.9650\n",
      "Starting epoch 10/10\n"
     ]
    },
    {
     "name": "stderr",
     "output_type": "stream",
     "text": [
      "100%|██████████| 1014/1014 [01:16<00:00, 13.30it/s]\n",
      "100%|██████████| 113/113 [00:56<00:00,  1.98it/s]\n"
     ]
    },
    {
     "name": "stdout",
     "output_type": "stream",
     "text": [
      "Train Loss: 0.0428 Train Acc: 0.9812\n",
      "Validation Loss: 0.1354 Validation Acc: 0.9575\n",
      "Finished fold 5/10\n",
      "Starting fold 6/10\n",
      "Starting epoch 1/10\n"
     ]
    },
    {
     "name": "stderr",
     "output_type": "stream",
     "text": [
      "100%|██████████| 1014/1014 [01:16<00:00, 13.27it/s]\n",
      "100%|██████████| 113/113 [00:56<00:00,  1.99it/s]\n"
     ]
    },
    {
     "name": "stdout",
     "output_type": "stream",
     "text": [
      "Train Loss: 0.0549 Train Acc: 0.9778\n",
      "Validation Loss: 0.0260 Validation Acc: 0.9925\n",
      "Starting epoch 2/10\n"
     ]
    },
    {
     "name": "stderr",
     "output_type": "stream",
     "text": [
      "100%|██████████| 1014/1014 [01:16<00:00, 13.28it/s]\n",
      "100%|██████████| 113/113 [00:57<00:00,  1.98it/s]\n"
     ]
    },
    {
     "name": "stdout",
     "output_type": "stream",
     "text": [
      "Train Loss: 0.0488 Train Acc: 0.9791\n",
      "Validation Loss: 0.0477 Validation Acc: 0.9828\n",
      "Starting epoch 3/10\n"
     ]
    },
    {
     "name": "stderr",
     "output_type": "stream",
     "text": [
      "100%|██████████| 1014/1014 [01:16<00:00, 13.28it/s]\n",
      "100%|██████████| 113/113 [00:56<00:00,  1.99it/s]\n"
     ]
    },
    {
     "name": "stdout",
     "output_type": "stream",
     "text": [
      "Train Loss: 0.0481 Train Acc: 0.9801\n",
      "Validation Loss: 0.0256 Validation Acc: 0.9903\n",
      "Starting epoch 4/10\n"
     ]
    },
    {
     "name": "stderr",
     "output_type": "stream",
     "text": [
      "100%|██████████| 1014/1014 [01:16<00:00, 13.27it/s]\n",
      "100%|██████████| 113/113 [00:56<00:00,  2.00it/s]\n"
     ]
    },
    {
     "name": "stdout",
     "output_type": "stream",
     "text": [
      "Train Loss: 0.0417 Train Acc: 0.9821\n",
      "Validation Loss: 0.0393 Validation Acc: 0.9850\n",
      "Starting epoch 5/10\n"
     ]
    },
    {
     "name": "stderr",
     "output_type": "stream",
     "text": [
      "100%|██████████| 1014/1014 [01:16<00:00, 13.28it/s]\n",
      "100%|██████████| 113/113 [00:56<00:00,  1.99it/s]\n"
     ]
    },
    {
     "name": "stdout",
     "output_type": "stream",
     "text": [
      "Train Loss: 0.0477 Train Acc: 0.9804\n",
      "Validation Loss: 0.0604 Validation Acc: 0.9748\n",
      "Starting epoch 6/10\n"
     ]
    },
    {
     "name": "stderr",
     "output_type": "stream",
     "text": [
      "100%|██████████| 1014/1014 [01:16<00:00, 13.28it/s]\n",
      "100%|██████████| 113/113 [00:56<00:00,  2.00it/s]\n"
     ]
    },
    {
     "name": "stdout",
     "output_type": "stream",
     "text": [
      "Train Loss: 0.0397 Train Acc: 0.9833\n",
      "Validation Loss: 0.0384 Validation Acc: 0.9878\n",
      "Starting epoch 7/10\n"
     ]
    },
    {
     "name": "stderr",
     "output_type": "stream",
     "text": [
      "100%|██████████| 1014/1014 [01:16<00:00, 13.29it/s]\n",
      "100%|██████████| 113/113 [00:57<00:00,  1.97it/s]\n"
     ]
    },
    {
     "name": "stdout",
     "output_type": "stream",
     "text": [
      "Train Loss: 0.0365 Train Acc: 0.9841\n",
      "Validation Loss: 0.0506 Validation Acc: 0.9814\n",
      "Starting epoch 8/10\n"
     ]
    },
    {
     "name": "stderr",
     "output_type": "stream",
     "text": [
      "100%|██████████| 1014/1014 [01:16<00:00, 13.28it/s]\n",
      "100%|██████████| 113/113 [00:56<00:00,  1.99it/s]\n"
     ]
    },
    {
     "name": "stdout",
     "output_type": "stream",
     "text": [
      "Train Loss: 0.0383 Train Acc: 0.9837\n",
      "Validation Loss: 0.0522 Validation Acc: 0.9817\n",
      "Starting epoch 9/10\n"
     ]
    },
    {
     "name": "stderr",
     "output_type": "stream",
     "text": [
      "100%|██████████| 1014/1014 [01:16<00:00, 13.28it/s]\n",
      "100%|██████████| 113/113 [00:57<00:00,  1.98it/s]\n"
     ]
    },
    {
     "name": "stdout",
     "output_type": "stream",
     "text": [
      "Train Loss: 0.0322 Train Acc: 0.9859\n",
      "Validation Loss: 0.0915 Validation Acc: 0.9717\n",
      "Starting epoch 10/10\n"
     ]
    },
    {
     "name": "stderr",
     "output_type": "stream",
     "text": [
      "100%|██████████| 1014/1014 [01:16<00:00, 13.28it/s]\n",
      "100%|██████████| 113/113 [00:56<00:00,  1.99it/s]\n"
     ]
    },
    {
     "name": "stdout",
     "output_type": "stream",
     "text": [
      "Train Loss: 0.0358 Train Acc: 0.9845\n",
      "Validation Loss: 0.0461 Validation Acc: 0.9839\n",
      "Finished fold 6/10\n",
      "Starting fold 7/10\n",
      "Starting epoch 1/10\n"
     ]
    },
    {
     "name": "stderr",
     "output_type": "stream",
     "text": [
      "100%|██████████| 1014/1014 [01:16<00:00, 13.25it/s]\n",
      "100%|██████████| 113/113 [00:56<00:00,  1.99it/s]\n"
     ]
    },
    {
     "name": "stdout",
     "output_type": "stream",
     "text": [
      "Train Loss: 0.0377 Train Acc: 0.9845\n",
      "Validation Loss: 0.0657 Validation Acc: 0.9606\n",
      "Starting epoch 2/10\n"
     ]
    },
    {
     "name": "stderr",
     "output_type": "stream",
     "text": [
      "100%|██████████| 1014/1014 [01:16<00:00, 13.29it/s]\n",
      "100%|██████████| 113/113 [00:57<00:00,  1.97it/s]\n"
     ]
    },
    {
     "name": "stdout",
     "output_type": "stream",
     "text": [
      "Train Loss: 0.0307 Train Acc: 0.9863\n",
      "Validation Loss: 0.0664 Validation Acc: 0.9592\n",
      "Starting epoch 3/10\n"
     ]
    },
    {
     "name": "stderr",
     "output_type": "stream",
     "text": [
      "100%|██████████| 1014/1014 [01:16<00:00, 13.29it/s]\n",
      "100%|██████████| 113/113 [00:56<00:00,  1.99it/s]\n"
     ]
    },
    {
     "name": "stdout",
     "output_type": "stream",
     "text": [
      "Train Loss: 0.0290 Train Acc: 0.9875\n",
      "Validation Loss: 0.0906 Validation Acc: 0.9575\n",
      "Starting epoch 4/10\n"
     ]
    },
    {
     "name": "stderr",
     "output_type": "stream",
     "text": [
      "100%|██████████| 1014/1014 [01:16<00:00, 13.28it/s]\n",
      "100%|██████████| 113/113 [00:57<00:00,  1.98it/s]\n"
     ]
    },
    {
     "name": "stdout",
     "output_type": "stream",
     "text": [
      "Train Loss: 0.0284 Train Acc: 0.9878\n",
      "Validation Loss: 0.1333 Validation Acc: 0.9537\n",
      "Starting epoch 5/10\n"
     ]
    },
    {
     "name": "stderr",
     "output_type": "stream",
     "text": [
      "100%|██████████| 1014/1014 [01:16<00:00, 13.28it/s]\n",
      "100%|██████████| 113/113 [00:56<00:00,  1.99it/s]\n"
     ]
    },
    {
     "name": "stdout",
     "output_type": "stream",
     "text": [
      "Train Loss: 0.0297 Train Acc: 0.9876\n",
      "Validation Loss: 0.1186 Validation Acc: 0.9528\n",
      "Starting epoch 6/10\n"
     ]
    },
    {
     "name": "stderr",
     "output_type": "stream",
     "text": [
      "100%|██████████| 1014/1014 [01:16<00:00, 13.28it/s]\n",
      "100%|██████████| 113/113 [00:56<00:00,  1.99it/s]\n"
     ]
    },
    {
     "name": "stdout",
     "output_type": "stream",
     "text": [
      "Train Loss: 0.0235 Train Acc: 0.9897\n",
      "Validation Loss: 0.1160 Validation Acc: 0.9545\n",
      "Starting epoch 7/10\n"
     ]
    },
    {
     "name": "stderr",
     "output_type": "stream",
     "text": [
      "100%|██████████| 1014/1014 [01:16<00:00, 13.29it/s]\n",
      "100%|██████████| 113/113 [00:57<00:00,  1.97it/s]\n"
     ]
    },
    {
     "name": "stdout",
     "output_type": "stream",
     "text": [
      "Train Loss: 0.0203 Train Acc: 0.9906\n",
      "Validation Loss: 0.1483 Validation Acc: 0.9495\n",
      "Starting epoch 8/10\n"
     ]
    },
    {
     "name": "stderr",
     "output_type": "stream",
     "text": [
      "100%|██████████| 1014/1014 [01:16<00:00, 13.27it/s]\n",
      "100%|██████████| 113/113 [00:56<00:00,  1.98it/s]\n"
     ]
    },
    {
     "name": "stdout",
     "output_type": "stream",
     "text": [
      "Train Loss: 0.0174 Train Acc: 0.9916\n",
      "Validation Loss: 0.1743 Validation Acc: 0.9537\n",
      "Starting epoch 9/10\n"
     ]
    },
    {
     "name": "stderr",
     "output_type": "stream",
     "text": [
      "100%|██████████| 1014/1014 [01:16<00:00, 13.28it/s]\n",
      "100%|██████████| 113/113 [00:56<00:00,  1.99it/s]\n"
     ]
    },
    {
     "name": "stdout",
     "output_type": "stream",
     "text": [
      "Train Loss: 0.0207 Train Acc: 0.9905\n",
      "Validation Loss: 0.1447 Validation Acc: 0.9528\n",
      "Starting epoch 10/10\n"
     ]
    },
    {
     "name": "stderr",
     "output_type": "stream",
     "text": [
      "100%|██████████| 1014/1014 [01:16<00:00, 13.27it/s]\n",
      "100%|██████████| 113/113 [00:56<00:00,  1.98it/s]\n"
     ]
    },
    {
     "name": "stdout",
     "output_type": "stream",
     "text": [
      "Train Loss: 0.0281 Train Acc: 0.9883\n",
      "Validation Loss: 0.1600 Validation Acc: 0.9517\n",
      "Finished fold 7/10\n",
      "Starting fold 8/10\n",
      "Starting epoch 1/10\n"
     ]
    },
    {
     "name": "stderr",
     "output_type": "stream",
     "text": [
      "100%|██████████| 1014/1014 [01:16<00:00, 13.29it/s]\n",
      "100%|██████████| 113/113 [00:56<00:00,  1.99it/s]\n"
     ]
    },
    {
     "name": "stdout",
     "output_type": "stream",
     "text": [
      "Train Loss: 0.0330 Train Acc: 0.9863\n",
      "Validation Loss: 0.0384 Validation Acc: 0.9711\n",
      "Starting epoch 2/10\n"
     ]
    },
    {
     "name": "stderr",
     "output_type": "stream",
     "text": [
      "100%|██████████| 1014/1014 [01:16<00:00, 13.27it/s]\n",
      "100%|██████████| 113/113 [00:57<00:00,  1.96it/s]\n"
     ]
    },
    {
     "name": "stdout",
     "output_type": "stream",
     "text": [
      "Train Loss: 0.0294 Train Acc: 0.9878\n",
      "Validation Loss: 0.0708 Validation Acc: 0.9598\n",
      "Starting epoch 3/10\n"
     ]
    },
    {
     "name": "stderr",
     "output_type": "stream",
     "text": [
      "100%|██████████| 1014/1014 [01:16<00:00, 13.26it/s]\n",
      "100%|██████████| 113/113 [00:56<00:00,  1.99it/s]\n"
     ]
    },
    {
     "name": "stdout",
     "output_type": "stream",
     "text": [
      "Train Loss: 0.0276 Train Acc: 0.9888\n",
      "Validation Loss: 0.0790 Validation Acc: 0.9573\n",
      "Starting epoch 4/10\n"
     ]
    },
    {
     "name": "stderr",
     "output_type": "stream",
     "text": [
      "100%|██████████| 1014/1014 [01:16<00:00, 13.27it/s]\n",
      "100%|██████████| 113/113 [00:56<00:00,  1.99it/s]\n"
     ]
    },
    {
     "name": "stdout",
     "output_type": "stream",
     "text": [
      "Train Loss: 0.0231 Train Acc: 0.9902\n",
      "Validation Loss: 0.0562 Validation Acc: 0.9667\n",
      "Starting epoch 5/10\n"
     ]
    },
    {
     "name": "stderr",
     "output_type": "stream",
     "text": [
      "100%|██████████| 1014/1014 [01:16<00:00, 13.28it/s]\n",
      "100%|██████████| 113/113 [00:57<00:00,  1.98it/s]\n"
     ]
    },
    {
     "name": "stdout",
     "output_type": "stream",
     "text": [
      "Train Loss: 0.0224 Train Acc: 0.9904\n",
      "Validation Loss: 0.0498 Validation Acc: 0.9692\n",
      "Starting epoch 6/10\n"
     ]
    },
    {
     "name": "stderr",
     "output_type": "stream",
     "text": [
      "100%|██████████| 1014/1014 [01:16<00:00, 13.29it/s]\n",
      "100%|██████████| 113/113 [00:56<00:00,  1.99it/s]\n"
     ]
    },
    {
     "name": "stdout",
     "output_type": "stream",
     "text": [
      "Train Loss: 0.0250 Train Acc: 0.9901\n",
      "Validation Loss: 0.0785 Validation Acc: 0.9575\n",
      "Starting epoch 7/10\n"
     ]
    },
    {
     "name": "stderr",
     "output_type": "stream",
     "text": [
      "100%|██████████| 1014/1014 [01:16<00:00, 13.25it/s]\n",
      "100%|██████████| 113/113 [00:56<00:00,  1.99it/s]\n"
     ]
    },
    {
     "name": "stdout",
     "output_type": "stream",
     "text": [
      "Train Loss: 0.0233 Train Acc: 0.9903\n",
      "Validation Loss: 0.0592 Validation Acc: 0.9667\n",
      "Starting epoch 8/10\n"
     ]
    },
    {
     "name": "stderr",
     "output_type": "stream",
     "text": [
      "100%|██████████| 1014/1014 [01:16<00:00, 13.27it/s]\n",
      "100%|██████████| 113/113 [00:56<00:00,  1.99it/s]\n"
     ]
    },
    {
     "name": "stdout",
     "output_type": "stream",
     "text": [
      "Train Loss: 0.0223 Train Acc: 0.9905\n",
      "Validation Loss: 0.0692 Validation Acc: 0.9587\n",
      "Starting epoch 9/10\n"
     ]
    },
    {
     "name": "stderr",
     "output_type": "stream",
     "text": [
      "100%|██████████| 1014/1014 [01:16<00:00, 13.28it/s]\n",
      "100%|██████████| 113/113 [00:56<00:00,  1.99it/s]\n"
     ]
    },
    {
     "name": "stdout",
     "output_type": "stream",
     "text": [
      "Train Loss: 0.0208 Train Acc: 0.9911\n",
      "Validation Loss: 0.0639 Validation Acc: 0.9603\n",
      "Starting epoch 10/10\n"
     ]
    },
    {
     "name": "stderr",
     "output_type": "stream",
     "text": [
      "100%|██████████| 1014/1014 [01:16<00:00, 13.28it/s]\n",
      "100%|██████████| 113/113 [00:57<00:00,  1.97it/s]\n"
     ]
    },
    {
     "name": "stdout",
     "output_type": "stream",
     "text": [
      "Train Loss: 0.0216 Train Acc: 0.9909\n",
      "Validation Loss: 0.0665 Validation Acc: 0.9609\n",
      "Finished fold 8/10\n",
      "Starting fold 9/10\n",
      "Starting epoch 1/10\n"
     ]
    },
    {
     "name": "stderr",
     "output_type": "stream",
     "text": [
      "100%|██████████| 1014/1014 [01:16<00:00, 13.27it/s]\n",
      "100%|██████████| 113/113 [00:56<00:00,  1.99it/s]\n"
     ]
    },
    {
     "name": "stdout",
     "output_type": "stream",
     "text": [
      "Train Loss: 0.0230 Train Acc: 0.9898\n",
      "Validation Loss: 0.0420 Validation Acc: 0.9684\n",
      "Starting epoch 2/10\n"
     ]
    },
    {
     "name": "stderr",
     "output_type": "stream",
     "text": [
      "100%|██████████| 1014/1014 [01:16<00:00, 13.27it/s]\n",
      "100%|██████████| 113/113 [00:56<00:00,  1.99it/s]\n"
     ]
    },
    {
     "name": "stdout",
     "output_type": "stream",
     "text": [
      "Train Loss: 0.0209 Train Acc: 0.9910\n",
      "Validation Loss: 0.0449 Validation Acc: 0.9678\n",
      "Starting epoch 3/10\n"
     ]
    },
    {
     "name": "stderr",
     "output_type": "stream",
     "text": [
      "100%|██████████| 1014/1014 [01:16<00:00, 13.27it/s]\n",
      "100%|██████████| 113/113 [00:56<00:00,  1.99it/s]\n"
     ]
    },
    {
     "name": "stdout",
     "output_type": "stream",
     "text": [
      "Train Loss: 0.0215 Train Acc: 0.9901\n",
      "Validation Loss: 0.0332 Validation Acc: 0.9870\n",
      "Starting epoch 4/10\n"
     ]
    },
    {
     "name": "stderr",
     "output_type": "stream",
     "text": [
      "100%|██████████| 1014/1014 [01:16<00:00, 13.27it/s]\n",
      "100%|██████████| 113/113 [00:57<00:00,  1.98it/s]\n"
     ]
    },
    {
     "name": "stdout",
     "output_type": "stream",
     "text": [
      "Train Loss: 0.0239 Train Acc: 0.9895\n",
      "Validation Loss: 0.0455 Validation Acc: 0.9739\n",
      "Starting epoch 5/10\n"
     ]
    },
    {
     "name": "stderr",
     "output_type": "stream",
     "text": [
      "100%|██████████| 1014/1014 [01:16<00:00, 13.28it/s]\n",
      "100%|██████████| 113/113 [00:57<00:00,  1.96it/s]\n"
     ]
    },
    {
     "name": "stdout",
     "output_type": "stream",
     "text": [
      "Train Loss: 0.0210 Train Acc: 0.9902\n",
      "Validation Loss: 0.0458 Validation Acc: 0.9786\n",
      "Starting epoch 6/10\n"
     ]
    },
    {
     "name": "stderr",
     "output_type": "stream",
     "text": [
      "100%|██████████| 1014/1014 [01:16<00:00, 13.28it/s]\n",
      "100%|██████████| 113/113 [00:57<00:00,  1.98it/s]\n"
     ]
    },
    {
     "name": "stdout",
     "output_type": "stream",
     "text": [
      "Train Loss: 0.0231 Train Acc: 0.9899\n",
      "Validation Loss: 0.0429 Validation Acc: 0.9711\n",
      "Starting epoch 7/10\n"
     ]
    },
    {
     "name": "stderr",
     "output_type": "stream",
     "text": [
      "100%|██████████| 1014/1014 [01:16<00:00, 13.28it/s]\n",
      "100%|██████████| 113/113 [00:57<00:00,  1.97it/s]\n"
     ]
    },
    {
     "name": "stdout",
     "output_type": "stream",
     "text": [
      "Train Loss: 0.0195 Train Acc: 0.9907\n",
      "Validation Loss: 0.0538 Validation Acc: 0.9623\n",
      "Starting epoch 8/10\n"
     ]
    },
    {
     "name": "stderr",
     "output_type": "stream",
     "text": [
      "100%|██████████| 1014/1014 [01:16<00:00, 13.27it/s]\n",
      "100%|██████████| 113/113 [00:57<00:00,  1.98it/s]\n"
     ]
    },
    {
     "name": "stdout",
     "output_type": "stream",
     "text": [
      "Train Loss: 0.0193 Train Acc: 0.9910\n",
      "Validation Loss: 0.0453 Validation Acc: 0.9670\n",
      "Starting epoch 9/10\n"
     ]
    },
    {
     "name": "stderr",
     "output_type": "stream",
     "text": [
      "100%|██████████| 1014/1014 [01:16<00:00, 13.28it/s]\n",
      "100%|██████████| 113/113 [00:57<00:00,  1.98it/s]\n"
     ]
    },
    {
     "name": "stdout",
     "output_type": "stream",
     "text": [
      "Train Loss: 0.0184 Train Acc: 0.9912\n",
      "Validation Loss: 0.0412 Validation Acc: 0.9653\n",
      "Starting epoch 10/10\n"
     ]
    },
    {
     "name": "stderr",
     "output_type": "stream",
     "text": [
      "100%|██████████| 1014/1014 [01:16<00:00, 13.25it/s]\n",
      "100%|██████████| 113/113 [00:57<00:00,  1.96it/s]\n"
     ]
    },
    {
     "name": "stdout",
     "output_type": "stream",
     "text": [
      "Train Loss: 0.0202 Train Acc: 0.9909\n",
      "Validation Loss: 0.0492 Validation Acc: 0.9672\n",
      "Finished fold 9/10\n",
      "Starting fold 10/10\n",
      "Starting epoch 1/10\n"
     ]
    },
    {
     "name": "stderr",
     "output_type": "stream",
     "text": [
      "100%|██████████| 1014/1014 [01:16<00:00, 13.27it/s]\n",
      "100%|██████████| 113/113 [00:57<00:00,  1.98it/s]\n"
     ]
    },
    {
     "name": "stdout",
     "output_type": "stream",
     "text": [
      "Train Loss: 0.0287 Train Acc: 0.9869\n",
      "Validation Loss: 0.0103 Validation Acc: 0.9961\n",
      "Starting epoch 2/10\n"
     ]
    },
    {
     "name": "stderr",
     "output_type": "stream",
     "text": [
      "100%|██████████| 1014/1014 [01:16<00:00, 13.27it/s]\n",
      "100%|██████████| 113/113 [00:57<00:00,  1.98it/s]\n"
     ]
    },
    {
     "name": "stdout",
     "output_type": "stream",
     "text": [
      "Train Loss: 0.0248 Train Acc: 0.9883\n",
      "Validation Loss: 0.0416 Validation Acc: 0.9847\n",
      "Starting epoch 3/10\n"
     ]
    },
    {
     "name": "stderr",
     "output_type": "stream",
     "text": [
      "100%|██████████| 1014/1014 [01:16<00:00, 13.29it/s]\n",
      "100%|██████████| 113/113 [00:57<00:00,  1.97it/s]\n"
     ]
    },
    {
     "name": "stdout",
     "output_type": "stream",
     "text": [
      "Train Loss: 0.0257 Train Acc: 0.9878\n",
      "Validation Loss: 0.0125 Validation Acc: 0.9947\n",
      "Starting epoch 4/10\n"
     ]
    },
    {
     "name": "stderr",
     "output_type": "stream",
     "text": [
      "100%|██████████| 1014/1014 [01:16<00:00, 13.28it/s]\n",
      "100%|██████████| 113/113 [00:57<00:00,  1.98it/s]\n"
     ]
    },
    {
     "name": "stdout",
     "output_type": "stream",
     "text": [
      "Train Loss: 0.0229 Train Acc: 0.9887\n",
      "Validation Loss: 0.0466 Validation Acc: 0.9836\n",
      "Starting epoch 5/10\n"
     ]
    },
    {
     "name": "stderr",
     "output_type": "stream",
     "text": [
      "100%|██████████| 1014/1014 [01:16<00:00, 13.25it/s]\n",
      "100%|██████████| 113/113 [00:57<00:00,  1.96it/s]\n"
     ]
    },
    {
     "name": "stdout",
     "output_type": "stream",
     "text": [
      "Train Loss: 0.0280 Train Acc: 0.9874\n",
      "Validation Loss: 0.0221 Validation Acc: 0.9922\n",
      "Starting epoch 6/10\n"
     ]
    },
    {
     "name": "stderr",
     "output_type": "stream",
     "text": [
      "100%|██████████| 1014/1014 [01:16<00:00, 13.28it/s]\n",
      "100%|██████████| 113/113 [00:57<00:00,  1.96it/s]\n"
     ]
    },
    {
     "name": "stdout",
     "output_type": "stream",
     "text": [
      "Train Loss: 0.0240 Train Acc: 0.9887\n",
      "Validation Loss: 0.0253 Validation Acc: 0.9914\n",
      "Starting epoch 7/10\n"
     ]
    },
    {
     "name": "stderr",
     "output_type": "stream",
     "text": [
      "100%|██████████| 1014/1014 [01:16<00:00, 13.28it/s]\n",
      "100%|██████████| 113/113 [00:56<00:00,  1.99it/s]\n"
     ]
    },
    {
     "name": "stdout",
     "output_type": "stream",
     "text": [
      "Train Loss: 0.0210 Train Acc: 0.9898\n",
      "Validation Loss: 0.0234 Validation Acc: 0.9917\n",
      "Starting epoch 8/10\n"
     ]
    },
    {
     "name": "stderr",
     "output_type": "stream",
     "text": [
      "100%|██████████| 1014/1014 [01:16<00:00, 13.29it/s]\n",
      "100%|██████████| 113/113 [00:56<00:00,  1.99it/s]\n"
     ]
    },
    {
     "name": "stdout",
     "output_type": "stream",
     "text": [
      "Train Loss: 0.0172 Train Acc: 0.9907\n",
      "Validation Loss: 0.0127 Validation Acc: 0.9956\n",
      "Starting epoch 9/10\n"
     ]
    },
    {
     "name": "stderr",
     "output_type": "stream",
     "text": [
      "100%|██████████| 1014/1014 [01:16<00:00, 13.28it/s]\n",
      "100%|██████████| 113/113 [00:56<00:00,  1.98it/s]\n"
     ]
    },
    {
     "name": "stdout",
     "output_type": "stream",
     "text": [
      "Train Loss: 0.0173 Train Acc: 0.9910\n",
      "Validation Loss: 0.0101 Validation Acc: 0.9972\n",
      "Starting epoch 10/10\n"
     ]
    },
    {
     "name": "stderr",
     "output_type": "stream",
     "text": [
      "100%|██████████| 1014/1014 [01:16<00:00, 13.28it/s]\n",
      "100%|██████████| 113/113 [00:56<00:00,  1.98it/s]\n"
     ]
    },
    {
     "name": "stdout",
     "output_type": "stream",
     "text": [
      "Train Loss: 0.0160 Train Acc: 0.9916\n",
      "Validation Loss: 0.0109 Validation Acc: 0.9969\n",
      "Finished fold 10/10\n",
      "Finished Training\n"
     ]
    }
   ],
   "source": [
    "# Loop de treinamento\n",
    "for fold, (train_loader, val_loader) in enumerate(dataloaders):\n",
    "    print(f'Starting fold {fold + 1}/{len(dataloaders)}')\n",
    "    for epoch in range(10):  # número de épocas\n",
    "        print(f'Starting epoch {epoch + 1}/10')\n",
    "\n",
    "        # Treinamento\n",
    "        model.train()\n",
    "        running_loss_train = 0.0\n",
    "        running_corrects_train = 0\n",
    "        for i, (inputs, labels) in tqdm(enumerate(train_loader), total=len(train_loader)):\n",
    "            inputs = inputs.unsqueeze(1).to(device)  # Adiciona um canal extra\n",
    "            labels = labels.to(device)\n",
    "\n",
    "            optimizer.zero_grad()\n",
    "\n",
    "            outputs = model(inputs)\n",
    "            _, preds = torch.max(outputs, 1)\n",
    "            running_corrects_train += torch.sum(preds == labels.data)\n",
    "            loss = criterion(outputs, labels)\n",
    "\n",
    "            loss.backward()\n",
    "            optimizer.step()\n",
    "\n",
    "            running_loss_train += loss.item() * inputs.size(0)\n",
    "\n",
    "        epoch_loss_train = running_loss_train / len(train_loader.dataset)\n",
    "        epoch_acc_train = running_corrects_train.double() / len(train_loader.dataset)\n",
    "\n",
    "        # Validação\n",
    "        model.eval()\n",
    "        running_loss_val = 0.0\n",
    "        running_corrects_val = 0\n",
    "        all_labels = []\n",
    "        all_preds = []\n",
    "        with torch.no_grad():\n",
    "            for inputs, labels in tqdm(val_loader):\n",
    "                inputs = inputs.unsqueeze(1).to(device)\n",
    "                labels = labels.to(device)\n",
    "\n",
    "                outputs = model(inputs)\n",
    "                _, preds = torch.max(outputs, 1)\n",
    "                running_corrects_val += torch.sum(preds == labels.data)\n",
    "                loss = criterion(outputs, labels)\n",
    "\n",
    "                running_loss_val += loss.item() * inputs.size(0)\n",
    "\n",
    "                all_labels.extend(labels.data.cpu().numpy())\n",
    "                all_preds.extend(preds.cpu().numpy())\n",
    "\n",
    "        epoch_loss_val = running_loss_val / len(val_loader.dataset)\n",
    "        epoch_acc_val = running_corrects_val.double() / len(val_loader.dataset)\n",
    "\n",
    "        report = classification_report(all_labels, all_preds, output_dict=True)\n",
    "\n",
    "        print(f'Train Loss: {epoch_loss_train:.4f} Train Acc: {epoch_acc_train:.4f}')\n",
    "        print(f'Validation Loss: {epoch_loss_val:.4f} Validation Acc: {epoch_acc_val:.4f}')\n",
    "\n",
    "        f1_scores = {}\n",
    "        precisions = {}\n",
    "        recalls = {}\n",
    "        for class_index in range(num_classes):\n",
    "            f1_scores[f'class_{class_index}'] = report[str(class_index)]['f1-score']\n",
    "            precisions[f'class_{class_index}'] = report[str(class_index)]['precision']\n",
    "            recalls[f'class_{class_index}'] = report[str(class_index)]['recall']\n",
    "\n",
    "        writer.add_scalars('F1 scores', f1_scores, epoch)\n",
    "        writer.add_scalars('Precisions', precisions, epoch)\n",
    "        writer.add_scalars('Recalls', recalls, epoch)\n",
    "\n",
    "        writer.add_scalar('training loss', epoch_loss_train, epoch)\n",
    "        writer.add_scalar('training accuracy', epoch_acc_train, epoch)\n",
    "        writer.add_scalar('validation loss', epoch_loss_val, epoch)\n",
    "        writer.add_scalar('validation accuracy', epoch_acc_val, epoch)\n",
    "\n",
    "    print(f'Finished fold {fold + 1}/{len(dataloaders)}')\n",
    "    \n",
    "# Salvando o modelo treinado\n",
    "torch.save(model.state_dict(), 'models/model_resnet101.pth')\n",
    "\n",
    "# Fechando o TensorBoard writer\n",
    "writer.close()\n",
    "\n",
    "print('Finished Training')\n"
   ]
  },
  {
   "cell_type": "code",
   "execution_count": 6,
   "metadata": {},
   "outputs": [
    {
     "name": "stdout",
     "output_type": "stream",
     "text": [
      "Processing fold 1/10\n"
     ]
    },
    {
     "name": "stderr",
     "output_type": "stream",
     "text": [
      "100%|██████████| 113/113 [01:04<00:00,  1.74it/s]\n"
     ]
    },
    {
     "name": "stdout",
     "output_type": "stream",
     "text": [
      "              precision    recall  f1-score   support\n",
      "\n",
      "           0       1.00      1.00      1.00      2084\n",
      "           1       1.00      0.71      0.83       324\n",
      "           2       1.00      1.00      1.00       500\n",
      "           3       0.77      1.00      0.87       315\n",
      "           4       1.00      1.00      1.00        65\n",
      "           5       1.00      1.00      1.00       316\n",
      "\n",
      "    accuracy                           0.97      3604\n",
      "   macro avg       0.96      0.95      0.95      3604\n",
      "weighted avg       0.98      0.97      0.97      3604\n",
      "\n",
      "Processing fold 2/10\n"
     ]
    },
    {
     "name": "stderr",
     "output_type": "stream",
     "text": [
      "100%|██████████| 113/113 [01:21<00:00,  1.39it/s]\n"
     ]
    },
    {
     "name": "stdout",
     "output_type": "stream",
     "text": [
      "              precision    recall  f1-score   support\n",
      "\n",
      "           0       1.00      1.00      1.00      2084\n",
      "           1       1.00      1.00      1.00       324\n",
      "           2       1.00      1.00      1.00       500\n",
      "           3       1.00      1.00      1.00       315\n",
      "           4       1.00      1.00      1.00        65\n",
      "           5       1.00      1.00      1.00       316\n",
      "\n",
      "    accuracy                           1.00      3604\n",
      "   macro avg       1.00      1.00      1.00      3604\n",
      "weighted avg       1.00      1.00      1.00      3604\n",
      "\n",
      "Processing fold 3/10\n"
     ]
    },
    {
     "name": "stderr",
     "output_type": "stream",
     "text": [
      "100%|██████████| 113/113 [01:23<00:00,  1.36it/s]\n"
     ]
    },
    {
     "name": "stdout",
     "output_type": "stream",
     "text": [
      "              precision    recall  f1-score   support\n",
      "\n",
      "           0       1.00      1.00      1.00      2084\n",
      "           1       1.00      1.00      1.00       324\n",
      "           2       1.00      1.00      1.00       500\n",
      "           3       1.00      1.00      1.00       315\n",
      "           4       1.00      1.00      1.00        65\n",
      "           5       1.00      1.00      1.00       316\n",
      "\n",
      "    accuracy                           1.00      3604\n",
      "   macro avg       1.00      1.00      1.00      3604\n",
      "weighted avg       1.00      1.00      1.00      3604\n",
      "\n",
      "Processing fold 4/10\n"
     ]
    },
    {
     "name": "stderr",
     "output_type": "stream",
     "text": [
      "100%|██████████| 113/113 [01:25<00:00,  1.32it/s]\n"
     ]
    },
    {
     "name": "stdout",
     "output_type": "stream",
     "text": [
      "              precision    recall  f1-score   support\n",
      "\n",
      "           0       1.00      1.00      1.00      2084\n",
      "           1       1.00      1.00      1.00       324\n",
      "           2       1.00      1.00      1.00       500\n",
      "           3       1.00      1.00      1.00       315\n",
      "           4       1.00      1.00      1.00        65\n",
      "           5       1.00      1.00      1.00       316\n",
      "\n",
      "    accuracy                           1.00      3604\n",
      "   macro avg       1.00      1.00      1.00      3604\n",
      "weighted avg       1.00      1.00      1.00      3604\n",
      "\n",
      "Processing fold 5/10\n"
     ]
    },
    {
     "name": "stderr",
     "output_type": "stream",
     "text": [
      "100%|██████████| 113/113 [01:24<00:00,  1.33it/s]\n"
     ]
    },
    {
     "name": "stdout",
     "output_type": "stream",
     "text": [
      "              precision    recall  f1-score   support\n",
      "\n",
      "           0       1.00      1.00      1.00      2084\n",
      "           1       1.00      1.00      1.00       324\n",
      "           2       1.00      1.00      1.00       500\n",
      "           3       1.00      1.00      1.00       315\n",
      "           4       1.00      1.00      1.00        64\n",
      "           5       1.00      1.00      1.00       317\n",
      "\n",
      "    accuracy                           1.00      3604\n",
      "   macro avg       1.00      1.00      1.00      3604\n",
      "weighted avg       1.00      1.00      1.00      3604\n",
      "\n",
      "Processing fold 6/10\n"
     ]
    },
    {
     "name": "stderr",
     "output_type": "stream",
     "text": [
      "100%|██████████| 113/113 [01:24<00:00,  1.35it/s]\n"
     ]
    },
    {
     "name": "stdout",
     "output_type": "stream",
     "text": [
      "              precision    recall  f1-score   support\n",
      "\n",
      "           0       1.00      1.00      1.00      2084\n",
      "           1       1.00      1.00      1.00       323\n",
      "           2       1.00      1.00      1.00       500\n",
      "           3       1.00      1.00      1.00       315\n",
      "           4       1.00      1.00      1.00        65\n",
      "           5       1.00      1.00      1.00       317\n",
      "\n",
      "    accuracy                           1.00      3604\n",
      "   macro avg       1.00      1.00      1.00      3604\n",
      "weighted avg       1.00      1.00      1.00      3604\n",
      "\n",
      "Processing fold 7/10\n"
     ]
    },
    {
     "name": "stderr",
     "output_type": "stream",
     "text": [
      "100%|██████████| 113/113 [01:12<00:00,  1.56it/s]\n"
     ]
    },
    {
     "name": "stdout",
     "output_type": "stream",
     "text": [
      "              precision    recall  f1-score   support\n",
      "\n",
      "           0       1.00      1.00      1.00      2084\n",
      "           1       0.90      1.00      0.95       324\n",
      "           2       1.00      1.00      1.00       500\n",
      "           3       1.00      0.89      0.94       314\n",
      "           4       1.00      1.00      1.00        65\n",
      "           5       1.00      1.00      1.00       317\n",
      "\n",
      "    accuracy                           0.99      3604\n",
      "   macro avg       0.98      0.98      0.98      3604\n",
      "weighted avg       0.99      0.99      0.99      3604\n",
      "\n",
      "Processing fold 8/10\n"
     ]
    },
    {
     "name": "stderr",
     "output_type": "stream",
     "text": [
      "100%|██████████| 113/113 [00:59<00:00,  1.89it/s]\n"
     ]
    },
    {
     "name": "stdout",
     "output_type": "stream",
     "text": [
      "              precision    recall  f1-score   support\n",
      "\n",
      "           0       1.00      1.00      1.00      2084\n",
      "           1       0.82      1.00      0.90       324\n",
      "           2       1.00      1.00      1.00       500\n",
      "           3       1.00      0.78      0.88       314\n",
      "           4       1.00      1.00      1.00        65\n",
      "           5       1.00      1.00      1.00       317\n",
      "\n",
      "    accuracy                           0.98      3604\n",
      "   macro avg       0.97      0.96      0.96      3604\n",
      "weighted avg       0.98      0.98      0.98      3604\n",
      "\n",
      "Processing fold 9/10\n"
     ]
    },
    {
     "name": "stderr",
     "output_type": "stream",
     "text": [
      "100%|██████████| 113/113 [01:01<00:00,  1.84it/s]\n"
     ]
    },
    {
     "name": "stdout",
     "output_type": "stream",
     "text": [
      "              precision    recall  f1-score   support\n",
      "\n",
      "           0       1.00      1.00      1.00      2084\n",
      "           1       0.85      1.00      0.92       324\n",
      "           2       1.00      1.00      1.00       500\n",
      "           3       1.00      0.83      0.91       314\n",
      "           4       1.00      1.00      1.00        65\n",
      "           5       1.00      1.00      1.00       316\n",
      "\n",
      "    accuracy                           0.98      3603\n",
      "   macro avg       0.98      0.97      0.97      3603\n",
      "weighted avg       0.99      0.98      0.98      3603\n",
      "\n",
      "Processing fold 10/10\n"
     ]
    },
    {
     "name": "stderr",
     "output_type": "stream",
     "text": [
      "100%|██████████| 113/113 [01:14<00:00,  1.52it/s]"
     ]
    },
    {
     "name": "stdout",
     "output_type": "stream",
     "text": [
      "              precision    recall  f1-score   support\n",
      "\n",
      "           0       1.00      1.00      1.00      2084\n",
      "           1       0.99      1.00      1.00       324\n",
      "           2       1.00      1.00      1.00       500\n",
      "           3       1.00      0.98      0.99       314\n",
      "           4       1.00      1.00      1.00        65\n",
      "           5       0.99      1.00      1.00       316\n",
      "\n",
      "    accuracy                           1.00      3603\n",
      "   macro avg       1.00      1.00      1.00      3603\n",
      "weighted avg       1.00      1.00      1.00      3603\n",
      "\n",
      "Finished Processing\n"
     ]
    },
    {
     "name": "stderr",
     "output_type": "stream",
     "text": [
      "\n"
     ]
    }
   ],
   "source": [
    "for fold, (train_loader, val_loader) in enumerate(dataloaders):\n",
    "    print(f'Processing fold {fold + 1}/{len(dataloaders)}')\n",
    "\n",
    "    # Carregando o modelo treinado\n",
    "    model.load_state_dict(torch.load(f'models/model_resnet101.pth'))\n",
    "    model.to(device)\n",
    "    model.eval()\n",
    "\n",
    "    all_labels = []\n",
    "    all_preds = []\n",
    "    with torch.no_grad():\n",
    "        for inputs, labels in tqdm(val_loader):\n",
    "            inputs = inputs.unsqueeze(1).to(device)\n",
    "            labels = labels.to(device)\n",
    "\n",
    "            outputs = model(inputs)\n",
    "            _, preds = torch.max(outputs, 1)\n",
    "\n",
    "            all_labels.extend(labels.data.cpu().numpy())\n",
    "            all_preds.extend(preds.cpu().numpy())\n",
    "\n",
    "    report = classification_report(all_labels, all_preds)\n",
    "    print(report)\n",
    "\n",
    "print('Finished Processing')"
   ]
  },
  {
   "cell_type": "code",
   "execution_count": null,
   "metadata": {},
   "outputs": [],
   "source": []
  }
 ],
 "metadata": {
  "kernelspec": {
   "display_name": ".venv",
   "language": "python",
   "name": "python3"
  },
  "language_info": {
   "codemirror_mode": {
    "name": "ipython",
    "version": 3
   },
   "file_extension": ".py",
   "mimetype": "text/x-python",
   "name": "python",
   "nbconvert_exporter": "python",
   "pygments_lexer": "ipython3",
   "version": "3.8.10"
  },
  "orig_nbformat": 4
 },
 "nbformat": 4,
 "nbformat_minor": 2
}
