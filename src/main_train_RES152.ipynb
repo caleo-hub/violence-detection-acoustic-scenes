{
 "cells": [
  {
   "cell_type": "code",
   "execution_count": 1,
   "metadata": {},
   "outputs": [],
   "source": [
    "from utils.dataloader import H5Dataset\n",
    "from utils.EarlyStopping import EarlyStopping\n",
    "\n",
    "import torch\n",
    "import torch.nn as nn\n",
    "import torch.optim as optim\n",
    "import torchvision.models as models\n",
    "from sklearn.metrics import classification_report\n",
    "from tqdm import tqdm\n",
    "\n",
    "from torchvision.models import ResNet152_Weights\n",
    "\n",
    "import numpy as np\n",
    "import os"
   ]
  },
  {
   "cell_type": "code",
   "execution_count": 2,
   "metadata": {},
   "outputs": [],
   "source": [
    "num_classes = 4\n",
    "k_folds = 5\n",
    "num_epochs = 15\n",
    "batch_size = 32\n",
    "patience = 2\n",
    "random_state = 21\n",
    "checkpoint_folder = \"resnet152\"\n",
    "\n",
    "\n",
    "# Caminho para os arquivos h5\n",
    "h5_files = [\n",
    "    \"h5_files/GunshotForensic_feature.h5\",\n",
    "    \"h5_files/HEAR_Train_feature.h5\",\n",
    "    \"h5_files/MIVIA_test_feature.h5\",\n",
    "    \"h5_files/MIVIA_train_feature.h5\",\n",
    "    \"h5_files/SESA_feature.h5\",\n",
    "    \"h5_files/vsd_clipped_feature.h5\",\n",
    "    \"h5_files/Audioset_feature.h5\",\n",
    "]\n",
    "\n",
    "# Carregando os dataloaders\n",
    "dataset = H5Dataset(\n",
    "    h5_files,\n",
    "    exclude_classes=[4, 5, 6],\n",
    "    n_splits=k_folds,\n",
    "    random_state=random_state,\n",
    ")\n",
    "dataloaders = dataset.get_k_fold_data_loaders(batch_size=batch_size, num_workers=4)"
   ]
  },
  {
   "cell_type": "code",
   "execution_count": 3,
   "metadata": {},
   "outputs": [
    {
     "name": "stdout",
     "output_type": "stream",
     "text": [
      "Treinamento realizado no dispositivo: cuda\n"
     ]
    }
   ],
   "source": [
    "device = torch.device(\"cuda\" if torch.cuda.is_available() else \"cpu\")\n",
    "print(\"Treinamento realizado no dispositivo:\", device)\n",
    "\n",
    "criterion = nn.CrossEntropyLoss()"
   ]
  },
  {
   "cell_type": "code",
   "execution_count": 4,
   "metadata": {},
   "outputs": [
    {
     "name": "stdout",
     "output_type": "stream",
     "text": [
      "Starting fold 1/5\n",
      "Starting epoch 1/15\n"
     ]
    },
    {
     "name": "stderr",
     "output_type": "stream",
     "text": [
      "100%|██████████| 2250/2250 [04:07<00:00,  9.08it/s]\n",
      "100%|██████████| 563/563 [01:17<00:00,  7.24it/s]\n"
     ]
    },
    {
     "name": "stdout",
     "output_type": "stream",
     "text": [
      "Train Loss: 0.8794 Train Acc: 0.5988\n",
      "Validation Loss: 0.6865 Validation Acc: 0.6909\n",
      "Validation loss decreased (inf --> 0.686457).  Saving model ...\n",
      "Starting epoch 2/15\n"
     ]
    },
    {
     "name": "stderr",
     "output_type": "stream",
     "text": [
      "100%|██████████| 2250/2250 [04:07<00:00,  9.10it/s]\n",
      "100%|██████████| 563/563 [01:20<00:00,  7.01it/s]\n"
     ]
    },
    {
     "name": "stdout",
     "output_type": "stream",
     "text": [
      "Train Loss: 0.6451 Train Acc: 0.7132\n",
      "Validation Loss: 0.5822 Validation Acc: 0.7474\n",
      "Validation loss decreased (0.686457 --> 0.582248).  Saving model ...\n",
      "Starting epoch 3/15\n"
     ]
    },
    {
     "name": "stderr",
     "output_type": "stream",
     "text": [
      "100%|██████████| 2250/2250 [04:02<00:00,  9.28it/s]\n",
      "100%|██████████| 563/563 [01:19<00:00,  7.09it/s]\n"
     ]
    },
    {
     "name": "stdout",
     "output_type": "stream",
     "text": [
      "Train Loss: 0.5817 Train Acc: 0.7449\n",
      "Validation Loss: 0.5454 Validation Acc: 0.7676\n",
      "Validation loss decreased (0.582248 --> 0.545395).  Saving model ...\n",
      "Starting epoch 4/15\n"
     ]
    },
    {
     "name": "stderr",
     "output_type": "stream",
     "text": [
      "100%|██████████| 2250/2250 [04:07<00:00,  9.08it/s]\n",
      "100%|██████████| 563/563 [01:18<00:00,  7.19it/s]\n"
     ]
    },
    {
     "name": "stdout",
     "output_type": "stream",
     "text": [
      "Train Loss: 0.5415 Train Acc: 0.7655\n",
      "Validation Loss: 0.5150 Validation Acc: 0.7769\n",
      "Validation loss decreased (0.545395 --> 0.514974).  Saving model ...\n",
      "Starting epoch 5/15\n"
     ]
    },
    {
     "name": "stderr",
     "output_type": "stream",
     "text": [
      "100%|██████████| 2250/2250 [04:12<00:00,  8.93it/s]\n",
      "100%|██████████| 563/563 [01:21<00:00,  6.90it/s]\n"
     ]
    },
    {
     "name": "stdout",
     "output_type": "stream",
     "text": [
      "Train Loss: 0.5111 Train Acc: 0.7778\n",
      "Validation Loss: 0.4923 Validation Acc: 0.7872\n",
      "Validation loss decreased (0.514974 --> 0.492344).  Saving model ...\n",
      "Starting epoch 6/15\n"
     ]
    },
    {
     "name": "stderr",
     "output_type": "stream",
     "text": [
      "100%|██████████| 2250/2250 [04:08<00:00,  9.06it/s]\n",
      "100%|██████████| 563/563 [01:18<00:00,  7.14it/s]\n"
     ]
    },
    {
     "name": "stdout",
     "output_type": "stream",
     "text": [
      "Train Loss: 0.4877 Train Acc: 0.7902\n",
      "Validation Loss: 0.4862 Validation Acc: 0.7928\n",
      "Validation loss decreased (0.492344 --> 0.486153).  Saving model ...\n",
      "Starting epoch 7/15\n"
     ]
    },
    {
     "name": "stderr",
     "output_type": "stream",
     "text": [
      "100%|██████████| 2250/2250 [04:09<00:00,  9.00it/s]\n",
      "100%|██████████| 563/563 [01:19<00:00,  7.08it/s]\n"
     ]
    },
    {
     "name": "stdout",
     "output_type": "stream",
     "text": [
      "Train Loss: 0.4603 Train Acc: 0.8037\n",
      "Validation Loss: 0.4523 Validation Acc: 0.8098\n",
      "Validation loss decreased (0.486153 --> 0.452312).  Saving model ...\n",
      "Starting epoch 8/15\n"
     ]
    },
    {
     "name": "stderr",
     "output_type": "stream",
     "text": [
      "100%|██████████| 2250/2250 [04:11<00:00,  8.95it/s]\n",
      "100%|██████████| 563/563 [01:19<00:00,  7.06it/s]\n"
     ]
    },
    {
     "name": "stdout",
     "output_type": "stream",
     "text": [
      "Train Loss: 0.4376 Train Acc: 0.8145\n",
      "Validation Loss: 0.4495 Validation Acc: 0.8091\n",
      "Validation loss decreased (0.452312 --> 0.449512).  Saving model ...\n",
      "Starting epoch 9/15\n"
     ]
    },
    {
     "name": "stderr",
     "output_type": "stream",
     "text": [
      "100%|██████████| 2250/2250 [04:15<00:00,  8.82it/s]\n",
      "100%|██████████| 563/563 [01:19<00:00,  7.08it/s]\n"
     ]
    },
    {
     "name": "stdout",
     "output_type": "stream",
     "text": [
      "Train Loss: 0.4168 Train Acc: 0.8235\n",
      "Validation Loss: 0.4303 Validation Acc: 0.8217\n",
      "Validation loss decreased (0.449512 --> 0.430310).  Saving model ...\n",
      "Starting epoch 10/15\n"
     ]
    },
    {
     "name": "stderr",
     "output_type": "stream",
     "text": [
      "100%|██████████| 2250/2250 [04:07<00:00,  9.08it/s]\n",
      "100%|██████████| 563/563 [01:18<00:00,  7.15it/s]\n"
     ]
    },
    {
     "name": "stdout",
     "output_type": "stream",
     "text": [
      "Train Loss: 0.3988 Train Acc: 0.8333\n",
      "Validation Loss: 0.4159 Validation Acc: 0.8251\n",
      "Validation loss decreased (0.430310 --> 0.415916).  Saving model ...\n",
      "Starting epoch 11/15\n"
     ]
    },
    {
     "name": "stderr",
     "output_type": "stream",
     "text": [
      "100%|██████████| 2250/2250 [04:06<00:00,  9.13it/s]\n",
      "100%|██████████| 563/563 [01:18<00:00,  7.17it/s]\n"
     ]
    },
    {
     "name": "stdout",
     "output_type": "stream",
     "text": [
      "Train Loss: 0.3810 Train Acc: 0.8409\n",
      "Validation Loss: 0.4100 Validation Acc: 0.8308\n",
      "Validation loss decreased (0.415916 --> 0.409967).  Saving model ...\n",
      "Starting epoch 12/15\n"
     ]
    },
    {
     "name": "stderr",
     "output_type": "stream",
     "text": [
      "100%|██████████| 2250/2250 [04:07<00:00,  9.10it/s]\n",
      "100%|██████████| 563/563 [01:20<00:00,  6.95it/s]\n"
     ]
    },
    {
     "name": "stdout",
     "output_type": "stream",
     "text": [
      "Train Loss: 0.3655 Train Acc: 0.8488\n",
      "Validation Loss: 0.3871 Validation Acc: 0.8397\n",
      "Validation loss decreased (0.409967 --> 0.387109).  Saving model ...\n",
      "Starting epoch 13/15\n"
     ]
    },
    {
     "name": "stderr",
     "output_type": "stream",
     "text": [
      "100%|██████████| 2250/2250 [04:03<00:00,  9.22it/s]\n",
      "100%|██████████| 563/563 [01:17<00:00,  7.22it/s]\n"
     ]
    },
    {
     "name": "stdout",
     "output_type": "stream",
     "text": [
      "Train Loss: 0.3507 Train Acc: 0.8529\n",
      "Validation Loss: 0.3894 Validation Acc: 0.8385\n",
      "EarlyStopping counter: 1 out of 2\n",
      "Starting epoch 14/15\n"
     ]
    },
    {
     "name": "stderr",
     "output_type": "stream",
     "text": [
      "100%|██████████| 2250/2250 [04:04<00:00,  9.21it/s]\n",
      "100%|██████████| 563/563 [01:18<00:00,  7.21it/s]\n"
     ]
    },
    {
     "name": "stdout",
     "output_type": "stream",
     "text": [
      "Train Loss: 0.3350 Train Acc: 0.8598\n",
      "Validation Loss: 0.3729 Validation Acc: 0.8475\n",
      "Validation loss decreased (0.387109 --> 0.372886).  Saving model ...\n",
      "Starting epoch 15/15\n"
     ]
    },
    {
     "name": "stderr",
     "output_type": "stream",
     "text": [
      "100%|██████████| 2250/2250 [04:02<00:00,  9.27it/s]\n",
      "100%|██████████| 563/563 [01:18<00:00,  7.18it/s]\n"
     ]
    },
    {
     "name": "stdout",
     "output_type": "stream",
     "text": [
      "Train Loss: 0.3212 Train Acc: 0.8653\n",
      "Validation Loss: 0.3786 Validation Acc: 0.8434\n",
      "EarlyStopping counter: 1 out of 2\n",
      "Finished fold 1/5\n",
      "Starting fold 2/5\n",
      "Starting epoch 1/15\n"
     ]
    },
    {
     "name": "stderr",
     "output_type": "stream",
     "text": [
      "100%|██████████| 2250/2250 [04:07<00:00,  9.09it/s]\n",
      "100%|██████████| 563/563 [01:17<00:00,  7.26it/s]\n"
     ]
    },
    {
     "name": "stdout",
     "output_type": "stream",
     "text": [
      "Train Loss: 0.9044 Train Acc: 0.5972\n",
      "Validation Loss: 0.7652 Validation Acc: 0.6581\n",
      "Validation loss decreased (inf --> 0.765176).  Saving model ...\n",
      "Starting epoch 2/15\n"
     ]
    },
    {
     "name": "stderr",
     "output_type": "stream",
     "text": [
      "100%|██████████| 2250/2250 [04:07<00:00,  9.09it/s]\n",
      "100%|██████████| 563/563 [01:22<00:00,  6.80it/s] \n"
     ]
    },
    {
     "name": "stdout",
     "output_type": "stream",
     "text": [
      "Train Loss: 0.7009 Train Acc: 0.6994\n",
      "Validation Loss: 0.6602 Validation Acc: 0.7203\n",
      "Validation loss decreased (0.765176 --> 0.660191).  Saving model ...\n",
      "Starting epoch 3/15\n"
     ]
    },
    {
     "name": "stderr",
     "output_type": "stream",
     "text": [
      "100%|██████████| 2250/2250 [04:08<00:00,  9.06it/s]\n",
      "100%|██████████| 563/563 [01:19<00:00,  7.09it/s]\n"
     ]
    },
    {
     "name": "stdout",
     "output_type": "stream",
     "text": [
      "Train Loss: 0.6232 Train Acc: 0.7323\n",
      "Validation Loss: 0.6025 Validation Acc: 0.7434\n",
      "Validation loss decreased (0.660191 --> 0.602466).  Saving model ...\n",
      "Starting epoch 4/15\n"
     ]
    },
    {
     "name": "stderr",
     "output_type": "stream",
     "text": [
      "100%|██████████| 2250/2250 [04:06<00:00,  9.13it/s]\n",
      "100%|██████████| 563/563 [01:19<00:00,  7.12it/s]\n"
     ]
    },
    {
     "name": "stdout",
     "output_type": "stream",
     "text": [
      "Train Loss: 0.5780 Train Acc: 0.7519\n",
      "Validation Loss: 0.5758 Validation Acc: 0.7563\n",
      "Validation loss decreased (0.602466 --> 0.575800).  Saving model ...\n",
      "Starting epoch 5/15\n"
     ]
    },
    {
     "name": "stderr",
     "output_type": "stream",
     "text": [
      "100%|██████████| 2250/2250 [04:11<00:00,  8.94it/s]\n",
      "100%|██████████| 563/563 [01:20<00:00,  7.00it/s]\n"
     ]
    },
    {
     "name": "stdout",
     "output_type": "stream",
     "text": [
      "Train Loss: 0.5514 Train Acc: 0.7646\n",
      "Validation Loss: 0.5397 Validation Acc: 0.7697\n",
      "Validation loss decreased (0.575800 --> 0.539656).  Saving model ...\n",
      "Starting epoch 6/15\n"
     ]
    },
    {
     "name": "stderr",
     "output_type": "stream",
     "text": [
      "100%|██████████| 2250/2250 [04:09<00:00,  9.02it/s]\n",
      "100%|██████████| 563/563 [01:19<00:00,  7.09it/s]\n"
     ]
    },
    {
     "name": "stdout",
     "output_type": "stream",
     "text": [
      "Train Loss: 0.5275 Train Acc: 0.7751\n",
      "Validation Loss: 0.5209 Validation Acc: 0.7787\n",
      "Validation loss decreased (0.539656 --> 0.520917).  Saving model ...\n",
      "Starting epoch 7/15\n"
     ]
    },
    {
     "name": "stderr",
     "output_type": "stream",
     "text": [
      "100%|██████████| 2250/2250 [04:12<00:00,  8.93it/s]\n",
      "100%|██████████| 563/563 [01:18<00:00,  7.19it/s]\n"
     ]
    },
    {
     "name": "stdout",
     "output_type": "stream",
     "text": [
      "Train Loss: 0.5078 Train Acc: 0.7839\n",
      "Validation Loss: 0.5306 Validation Acc: 0.7717\n",
      "EarlyStopping counter: 1 out of 2\n",
      "Starting epoch 8/15\n"
     ]
    },
    {
     "name": "stderr",
     "output_type": "stream",
     "text": [
      "100%|██████████| 2250/2250 [04:11<00:00,  8.96it/s]\n",
      "100%|██████████| 563/563 [01:20<00:00,  7.04it/s]\n"
     ]
    },
    {
     "name": "stdout",
     "output_type": "stream",
     "text": [
      "Train Loss: 0.4876 Train Acc: 0.7924\n",
      "Validation Loss: 0.4913 Validation Acc: 0.7895\n",
      "Validation loss decreased (0.520917 --> 0.491254).  Saving model ...\n",
      "Starting epoch 9/15\n"
     ]
    },
    {
     "name": "stderr",
     "output_type": "stream",
     "text": [
      "100%|██████████| 2250/2250 [04:11<00:00,  8.95it/s]\n",
      "100%|██████████| 563/563 [01:21<00:00,  6.88it/s]\n"
     ]
    },
    {
     "name": "stdout",
     "output_type": "stream",
     "text": [
      "Train Loss: 0.4660 Train Acc: 0.8027\n",
      "Validation Loss: 0.4702 Validation Acc: 0.7979\n",
      "Validation loss decreased (0.491254 --> 0.470238).  Saving model ...\n",
      "Starting epoch 10/15\n"
     ]
    },
    {
     "name": "stderr",
     "output_type": "stream",
     "text": [
      "100%|██████████| 2250/2250 [04:12<00:00,  8.92it/s]\n",
      "100%|██████████| 563/563 [01:19<00:00,  7.06it/s]\n"
     ]
    },
    {
     "name": "stdout",
     "output_type": "stream",
     "text": [
      "Train Loss: 0.4516 Train Acc: 0.8091\n",
      "Validation Loss: 0.4541 Validation Acc: 0.8047\n",
      "Validation loss decreased (0.470238 --> 0.454129).  Saving model ...\n",
      "Starting epoch 11/15\n"
     ]
    },
    {
     "name": "stderr",
     "output_type": "stream",
     "text": [
      "100%|██████████| 2250/2250 [04:02<00:00,  9.30it/s]\n",
      "100%|██████████| 563/563 [01:17<00:00,  7.26it/s]\n"
     ]
    },
    {
     "name": "stdout",
     "output_type": "stream",
     "text": [
      "Train Loss: 0.4349 Train Acc: 0.8157\n",
      "Validation Loss: 0.4633 Validation Acc: 0.7968\n",
      "EarlyStopping counter: 1 out of 2\n",
      "Starting epoch 12/15\n"
     ]
    },
    {
     "name": "stderr",
     "output_type": "stream",
     "text": [
      "100%|██████████| 2250/2250 [04:01<00:00,  9.30it/s]\n",
      "100%|██████████| 563/563 [01:17<00:00,  7.24it/s]\n"
     ]
    },
    {
     "name": "stdout",
     "output_type": "stream",
     "text": [
      "Train Loss: 0.4218 Train Acc: 0.8220\n",
      "Validation Loss: 0.4360 Validation Acc: 0.8127\n",
      "Validation loss decreased (0.454129 --> 0.436022).  Saving model ...\n",
      "Starting epoch 13/15\n"
     ]
    },
    {
     "name": "stderr",
     "output_type": "stream",
     "text": [
      "100%|██████████| 2250/2250 [04:01<00:00,  9.30it/s]\n",
      "100%|██████████| 563/563 [01:17<00:00,  7.27it/s]\n"
     ]
    },
    {
     "name": "stdout",
     "output_type": "stream",
     "text": [
      "Train Loss: 0.4059 Train Acc: 0.8294\n",
      "Validation Loss: 0.4255 Validation Acc: 0.8192\n",
      "Validation loss decreased (0.436022 --> 0.425465).  Saving model ...\n",
      "Starting epoch 14/15\n"
     ]
    },
    {
     "name": "stderr",
     "output_type": "stream",
     "text": [
      "100%|██████████| 2250/2250 [04:01<00:00,  9.30it/s]\n",
      "100%|██████████| 563/563 [01:17<00:00,  7.28it/s]\n"
     ]
    },
    {
     "name": "stdout",
     "output_type": "stream",
     "text": [
      "Train Loss: 0.3904 Train Acc: 0.8355\n",
      "Validation Loss: 0.4148 Validation Acc: 0.8227\n",
      "Validation loss decreased (0.425465 --> 0.414831).  Saving model ...\n",
      "Starting epoch 15/15\n"
     ]
    },
    {
     "name": "stderr",
     "output_type": "stream",
     "text": [
      "100%|██████████| 2250/2250 [04:01<00:00,  9.31it/s]\n",
      "100%|██████████| 563/563 [01:17<00:00,  7.31it/s]\n"
     ]
    },
    {
     "name": "stdout",
     "output_type": "stream",
     "text": [
      "Train Loss: 0.3806 Train Acc: 0.8395\n",
      "Validation Loss: 0.4013 Validation Acc: 0.8295\n",
      "Validation loss decreased (0.414831 --> 0.401277).  Saving model ...\n",
      "Finished fold 2/5\n",
      "Starting fold 3/5\n",
      "Starting epoch 1/15\n"
     ]
    },
    {
     "name": "stderr",
     "output_type": "stream",
     "text": [
      "100%|██████████| 2250/2250 [04:01<00:00,  9.33it/s]\n",
      "100%|██████████| 563/563 [01:17<00:00,  7.28it/s]\n"
     ]
    },
    {
     "name": "stdout",
     "output_type": "stream",
     "text": [
      "Train Loss: 0.8856 Train Acc: 0.6030\n",
      "Validation Loss: 0.7431 Validation Acc: 0.6699\n",
      "Validation loss decreased (inf --> 0.743081).  Saving model ...\n",
      "Starting epoch 2/15\n"
     ]
    },
    {
     "name": "stderr",
     "output_type": "stream",
     "text": [
      "100%|██████████| 2250/2250 [04:01<00:00,  9.33it/s]\n",
      "100%|██████████| 563/563 [01:17<00:00,  7.26it/s]\n"
     ]
    },
    {
     "name": "stdout",
     "output_type": "stream",
     "text": [
      "Train Loss: 0.6847 Train Acc: 0.7032\n",
      "Validation Loss: 0.6316 Validation Acc: 0.7356\n",
      "Validation loss decreased (0.743081 --> 0.631590).  Saving model ...\n",
      "Starting epoch 3/15\n"
     ]
    },
    {
     "name": "stderr",
     "output_type": "stream",
     "text": [
      "100%|██████████| 2250/2250 [04:01<00:00,  9.32it/s]\n",
      "100%|██████████| 563/563 [01:17<00:00,  7.29it/s]\n"
     ]
    },
    {
     "name": "stdout",
     "output_type": "stream",
     "text": [
      "Train Loss: 0.6046 Train Acc: 0.7392\n",
      "Validation Loss: 0.5692 Validation Acc: 0.7554\n",
      "Validation loss decreased (0.631590 --> 0.569200).  Saving model ...\n",
      "Starting epoch 4/15\n"
     ]
    },
    {
     "name": "stderr",
     "output_type": "stream",
     "text": [
      "100%|██████████| 2250/2250 [04:01<00:00,  9.33it/s]\n",
      "100%|██████████| 563/563 [01:17<00:00,  7.28it/s]\n"
     ]
    },
    {
     "name": "stdout",
     "output_type": "stream",
     "text": [
      "Train Loss: 0.5587 Train Acc: 0.7588\n",
      "Validation Loss: 0.5312 Validation Acc: 0.7774\n",
      "Validation loss decreased (0.569200 --> 0.531153).  Saving model ...\n",
      "Starting epoch 5/15\n"
     ]
    },
    {
     "name": "stderr",
     "output_type": "stream",
     "text": [
      "100%|██████████| 2250/2250 [04:01<00:00,  9.32it/s]\n",
      "100%|██████████| 563/563 [01:17<00:00,  7.31it/s]\n"
     ]
    },
    {
     "name": "stdout",
     "output_type": "stream",
     "text": [
      "Train Loss: 0.5251 Train Acc: 0.7758\n",
      "Validation Loss: 0.5086 Validation Acc: 0.7864\n",
      "Validation loss decreased (0.531153 --> 0.508607).  Saving model ...\n",
      "Starting epoch 6/15\n"
     ]
    },
    {
     "name": "stderr",
     "output_type": "stream",
     "text": [
      "100%|██████████| 2250/2250 [04:01<00:00,  9.32it/s]\n",
      "100%|██████████| 563/563 [01:17<00:00,  7.29it/s]\n"
     ]
    },
    {
     "name": "stdout",
     "output_type": "stream",
     "text": [
      "Train Loss: 0.4972 Train Acc: 0.7889\n",
      "Validation Loss: 0.4796 Validation Acc: 0.7972\n",
      "Validation loss decreased (0.508607 --> 0.479592).  Saving model ...\n",
      "Starting epoch 7/15\n"
     ]
    },
    {
     "name": "stderr",
     "output_type": "stream",
     "text": [
      "100%|██████████| 2250/2250 [04:01<00:00,  9.32it/s]\n",
      "100%|██████████| 563/563 [01:17<00:00,  7.29it/s]\n"
     ]
    },
    {
     "name": "stdout",
     "output_type": "stream",
     "text": [
      "Train Loss: 0.4696 Train Acc: 0.8011\n",
      "Validation Loss: 0.4600 Validation Acc: 0.8081\n",
      "Validation loss decreased (0.479592 --> 0.459986).  Saving model ...\n",
      "Starting epoch 8/15\n"
     ]
    },
    {
     "name": "stderr",
     "output_type": "stream",
     "text": [
      "100%|██████████| 2250/2250 [04:01<00:00,  9.32it/s]\n",
      "100%|██████████| 563/563 [01:17<00:00,  7.30it/s]\n"
     ]
    },
    {
     "name": "stdout",
     "output_type": "stream",
     "text": [
      "Train Loss: 0.4466 Train Acc: 0.8118\n",
      "Validation Loss: 0.4414 Validation Acc: 0.8146\n",
      "Validation loss decreased (0.459986 --> 0.441387).  Saving model ...\n",
      "Starting epoch 9/15\n"
     ]
    },
    {
     "name": "stderr",
     "output_type": "stream",
     "text": [
      "100%|██████████| 2250/2250 [04:01<00:00,  9.32it/s]\n",
      "100%|██████████| 563/563 [01:17<00:00,  7.25it/s]\n"
     ]
    },
    {
     "name": "stdout",
     "output_type": "stream",
     "text": [
      "Train Loss: 0.4261 Train Acc: 0.8212\n",
      "Validation Loss: 0.4332 Validation Acc: 0.8183\n",
      "Validation loss decreased (0.441387 --> 0.433160).  Saving model ...\n",
      "Starting epoch 10/15\n"
     ]
    },
    {
     "name": "stderr",
     "output_type": "stream",
     "text": [
      "100%|██████████| 2250/2250 [04:01<00:00,  9.32it/s]\n",
      "100%|██████████| 563/563 [01:17<00:00,  7.30it/s]\n"
     ]
    },
    {
     "name": "stdout",
     "output_type": "stream",
     "text": [
      "Train Loss: 0.4091 Train Acc: 0.8287\n",
      "Validation Loss: 0.4224 Validation Acc: 0.8238\n",
      "Validation loss decreased (0.433160 --> 0.422398).  Saving model ...\n",
      "Starting epoch 11/15\n"
     ]
    },
    {
     "name": "stderr",
     "output_type": "stream",
     "text": [
      "100%|██████████| 2250/2250 [04:01<00:00,  9.32it/s]\n",
      "100%|██████████| 563/563 [01:17<00:00,  7.25it/s]\n"
     ]
    },
    {
     "name": "stdout",
     "output_type": "stream",
     "text": [
      "Train Loss: 0.3931 Train Acc: 0.8342\n",
      "Validation Loss: 0.4054 Validation Acc: 0.8321\n",
      "Validation loss decreased (0.422398 --> 0.405414).  Saving model ...\n",
      "Starting epoch 12/15\n"
     ]
    },
    {
     "name": "stderr",
     "output_type": "stream",
     "text": [
      "100%|██████████| 2250/2250 [04:01<00:00,  9.33it/s]\n",
      "100%|██████████| 563/563 [01:17<00:00,  7.28it/s]\n"
     ]
    },
    {
     "name": "stdout",
     "output_type": "stream",
     "text": [
      "Train Loss: 0.3774 Train Acc: 0.8415\n",
      "Validation Loss: 0.3995 Validation Acc: 0.8345\n",
      "Validation loss decreased (0.405414 --> 0.399550).  Saving model ...\n",
      "Starting epoch 13/15\n"
     ]
    },
    {
     "name": "stderr",
     "output_type": "stream",
     "text": [
      "100%|██████████| 2250/2250 [04:01<00:00,  9.32it/s]\n",
      "100%|██████████| 563/563 [01:17<00:00,  7.30it/s]\n"
     ]
    },
    {
     "name": "stdout",
     "output_type": "stream",
     "text": [
      "Train Loss: 0.3648 Train Acc: 0.8474\n",
      "Validation Loss: 0.4066 Validation Acc: 0.8331\n",
      "EarlyStopping counter: 1 out of 2\n",
      "Starting epoch 14/15\n"
     ]
    },
    {
     "name": "stderr",
     "output_type": "stream",
     "text": [
      "100%|██████████| 2250/2250 [04:01<00:00,  9.32it/s]\n",
      "100%|██████████| 563/563 [01:17<00:00,  7.27it/s]\n"
     ]
    },
    {
     "name": "stdout",
     "output_type": "stream",
     "text": [
      "Train Loss: 0.3513 Train Acc: 0.8543\n",
      "Validation Loss: 0.3878 Validation Acc: 0.8417\n",
      "Validation loss decreased (0.399550 --> 0.387758).  Saving model ...\n",
      "Starting epoch 15/15\n"
     ]
    },
    {
     "name": "stderr",
     "output_type": "stream",
     "text": [
      "100%|██████████| 2250/2250 [04:01<00:00,  9.32it/s]\n",
      "100%|██████████| 563/563 [01:17<00:00,  7.30it/s]\n"
     ]
    },
    {
     "name": "stdout",
     "output_type": "stream",
     "text": [
      "Train Loss: 0.3386 Train Acc: 0.8587\n",
      "Validation Loss: 0.3958 Validation Acc: 0.8392\n",
      "EarlyStopping counter: 1 out of 2\n",
      "Finished fold 3/5\n",
      "Starting fold 4/5\n",
      "Starting epoch 1/15\n"
     ]
    },
    {
     "name": "stderr",
     "output_type": "stream",
     "text": [
      "100%|██████████| 2250/2250 [04:01<00:00,  9.31it/s]\n",
      "100%|██████████| 563/563 [01:17<00:00,  7.28it/s]\n"
     ]
    },
    {
     "name": "stdout",
     "output_type": "stream",
     "text": [
      "Train Loss: 0.8640 Train Acc: 0.6160\n",
      "Validation Loss: 0.6860 Validation Acc: 0.7011\n",
      "Validation loss decreased (inf --> 0.685985).  Saving model ...\n",
      "Starting epoch 2/15\n"
     ]
    },
    {
     "name": "stderr",
     "output_type": "stream",
     "text": [
      "100%|██████████| 2250/2250 [04:01<00:00,  9.32it/s]\n",
      "100%|██████████| 563/563 [01:17<00:00,  7.28it/s]\n"
     ]
    },
    {
     "name": "stdout",
     "output_type": "stream",
     "text": [
      "Train Loss: 0.6487 Train Acc: 0.7225\n",
      "Validation Loss: 0.5926 Validation Acc: 0.7561\n",
      "Validation loss decreased (0.685985 --> 0.592620).  Saving model ...\n",
      "Starting epoch 3/15\n"
     ]
    },
    {
     "name": "stderr",
     "output_type": "stream",
     "text": [
      "100%|██████████| 2250/2250 [04:01<00:00,  9.32it/s]\n",
      "100%|██████████| 563/563 [01:17<00:00,  7.27it/s]\n"
     ]
    },
    {
     "name": "stdout",
     "output_type": "stream",
     "text": [
      "Train Loss: 0.5709 Train Acc: 0.7625\n",
      "Validation Loss: 0.5285 Validation Acc: 0.7821\n",
      "Validation loss decreased (0.592620 --> 0.528487).  Saving model ...\n",
      "Starting epoch 4/15\n"
     ]
    },
    {
     "name": "stderr",
     "output_type": "stream",
     "text": [
      "100%|██████████| 2250/2250 [04:01<00:00,  9.31it/s]\n",
      "100%|██████████| 563/563 [01:17<00:00,  7.29it/s]\n"
     ]
    },
    {
     "name": "stdout",
     "output_type": "stream",
     "text": [
      "Train Loss: 0.5222 Train Acc: 0.7842\n",
      "Validation Loss: 0.4830 Validation Acc: 0.8025\n",
      "Validation loss decreased (0.528487 --> 0.483020).  Saving model ...\n",
      "Starting epoch 5/15\n"
     ]
    },
    {
     "name": "stderr",
     "output_type": "stream",
     "text": [
      "100%|██████████| 2250/2250 [04:01<00:00,  9.32it/s]\n",
      "100%|██████████| 563/563 [01:17<00:00,  7.29it/s]\n"
     ]
    },
    {
     "name": "stdout",
     "output_type": "stream",
     "text": [
      "Train Loss: 0.4902 Train Acc: 0.7990\n",
      "Validation Loss: 0.4686 Validation Acc: 0.8064\n",
      "Validation loss decreased (0.483020 --> 0.468560).  Saving model ...\n",
      "Starting epoch 6/15\n"
     ]
    },
    {
     "name": "stderr",
     "output_type": "stream",
     "text": [
      "100%|██████████| 2250/2250 [04:01<00:00,  9.32it/s]\n",
      "100%|██████████| 563/563 [01:16<00:00,  7.32it/s]\n"
     ]
    },
    {
     "name": "stdout",
     "output_type": "stream",
     "text": [
      "Train Loss: 0.4534 Train Acc: 0.8143\n",
      "Validation Loss: 0.4277 Validation Acc: 0.8253\n",
      "Validation loss decreased (0.468560 --> 0.427671).  Saving model ...\n",
      "Starting epoch 7/15\n"
     ]
    },
    {
     "name": "stderr",
     "output_type": "stream",
     "text": [
      "100%|██████████| 2250/2250 [04:01<00:00,  9.32it/s]\n",
      "100%|██████████| 563/563 [01:17<00:00,  7.28it/s]\n"
     ]
    },
    {
     "name": "stdout",
     "output_type": "stream",
     "text": [
      "Train Loss: 0.4305 Train Acc: 0.8263\n",
      "Validation Loss: 0.4128 Validation Acc: 0.8337\n",
      "Validation loss decreased (0.427671 --> 0.412839).  Saving model ...\n",
      "Starting epoch 8/15\n"
     ]
    },
    {
     "name": "stderr",
     "output_type": "stream",
     "text": [
      "100%|██████████| 2250/2250 [04:01<00:00,  9.33it/s]\n",
      "100%|██████████| 563/563 [01:17<00:00,  7.25it/s]\n"
     ]
    },
    {
     "name": "stdout",
     "output_type": "stream",
     "text": [
      "Train Loss: 0.4104 Train Acc: 0.8339\n",
      "Validation Loss: 0.3962 Validation Acc: 0.8419\n",
      "Validation loss decreased (0.412839 --> 0.396172).  Saving model ...\n",
      "Starting epoch 9/15\n"
     ]
    },
    {
     "name": "stderr",
     "output_type": "stream",
     "text": [
      "100%|██████████| 2250/2250 [04:01<00:00,  9.32it/s]\n",
      "100%|██████████| 563/563 [01:17<00:00,  7.29it/s]\n"
     ]
    },
    {
     "name": "stdout",
     "output_type": "stream",
     "text": [
      "Train Loss: 0.3931 Train Acc: 0.8399\n",
      "Validation Loss: 0.3787 Validation Acc: 0.8481\n",
      "Validation loss decreased (0.396172 --> 0.378708).  Saving model ...\n",
      "Starting epoch 10/15\n"
     ]
    },
    {
     "name": "stderr",
     "output_type": "stream",
     "text": [
      "100%|██████████| 2250/2250 [04:01<00:00,  9.32it/s]\n",
      "100%|██████████| 563/563 [01:17<00:00,  7.27it/s]\n"
     ]
    },
    {
     "name": "stdout",
     "output_type": "stream",
     "text": [
      "Train Loss: 0.3744 Train Acc: 0.8480\n",
      "Validation Loss: 0.3872 Validation Acc: 0.8462\n",
      "EarlyStopping counter: 1 out of 2\n",
      "Starting epoch 11/15\n"
     ]
    },
    {
     "name": "stderr",
     "output_type": "stream",
     "text": [
      "100%|██████████| 2250/2250 [04:01<00:00,  9.32it/s]\n",
      "100%|██████████| 563/563 [01:17<00:00,  7.28it/s]\n"
     ]
    },
    {
     "name": "stdout",
     "output_type": "stream",
     "text": [
      "Train Loss: 0.3608 Train Acc: 0.8539\n",
      "Validation Loss: 0.3623 Validation Acc: 0.8533\n",
      "Validation loss decreased (0.378708 --> 0.362293).  Saving model ...\n",
      "Starting epoch 12/15\n"
     ]
    },
    {
     "name": "stderr",
     "output_type": "stream",
     "text": [
      "100%|██████████| 2250/2250 [04:01<00:00,  9.32it/s]\n",
      "100%|██████████| 563/563 [01:17<00:00,  7.29it/s]\n"
     ]
    },
    {
     "name": "stdout",
     "output_type": "stream",
     "text": [
      "Train Loss: 0.3426 Train Acc: 0.8607\n",
      "Validation Loss: 0.3551 Validation Acc: 0.8563\n",
      "Validation loss decreased (0.362293 --> 0.355134).  Saving model ...\n",
      "Starting epoch 13/15\n"
     ]
    },
    {
     "name": "stderr",
     "output_type": "stream",
     "text": [
      "100%|██████████| 2250/2250 [04:01<00:00,  9.31it/s]\n",
      "100%|██████████| 563/563 [01:17<00:00,  7.31it/s]\n"
     ]
    },
    {
     "name": "stdout",
     "output_type": "stream",
     "text": [
      "Train Loss: 0.3342 Train Acc: 0.8643\n",
      "Validation Loss: 0.3598 Validation Acc: 0.8574\n",
      "EarlyStopping counter: 1 out of 2\n",
      "Starting epoch 14/15\n"
     ]
    },
    {
     "name": "stderr",
     "output_type": "stream",
     "text": [
      "100%|██████████| 2250/2250 [04:01<00:00,  9.32it/s]\n",
      "100%|██████████| 563/563 [01:17<00:00,  7.30it/s]\n"
     ]
    },
    {
     "name": "stdout",
     "output_type": "stream",
     "text": [
      "Train Loss: 0.3217 Train Acc: 0.8693\n",
      "Validation Loss: 0.3367 Validation Acc: 0.8632\n",
      "Validation loss decreased (0.355134 --> 0.336741).  Saving model ...\n",
      "Starting epoch 15/15\n"
     ]
    },
    {
     "name": "stderr",
     "output_type": "stream",
     "text": [
      "100%|██████████| 2250/2250 [04:01<00:00,  9.32it/s]\n",
      "100%|██████████| 563/563 [01:17<00:00,  7.28it/s]\n"
     ]
    },
    {
     "name": "stdout",
     "output_type": "stream",
     "text": [
      "Train Loss: 0.3107 Train Acc: 0.8717\n",
      "Validation Loss: 0.3467 Validation Acc: 0.8602\n",
      "EarlyStopping counter: 1 out of 2\n",
      "Finished fold 4/5\n",
      "Starting fold 5/5\n",
      "Starting epoch 1/15\n"
     ]
    },
    {
     "name": "stderr",
     "output_type": "stream",
     "text": [
      "100%|██████████| 2250/2250 [04:01<00:00,  9.32it/s]\n",
      "100%|██████████| 563/563 [01:17<00:00,  7.30it/s]\n"
     ]
    },
    {
     "name": "stdout",
     "output_type": "stream",
     "text": [
      "Train Loss: 0.8885 Train Acc: 0.5972\n",
      "Validation Loss: 0.7537 Validation Acc: 0.6700\n",
      "Validation loss decreased (inf --> 0.753682).  Saving model ...\n",
      "Starting epoch 2/15\n"
     ]
    },
    {
     "name": "stderr",
     "output_type": "stream",
     "text": [
      "100%|██████████| 2250/2250 [04:01<00:00,  9.32it/s]\n",
      "100%|██████████| 563/563 [01:17<00:00,  7.28it/s]\n"
     ]
    },
    {
     "name": "stdout",
     "output_type": "stream",
     "text": [
      "Train Loss: 0.6620 Train Acc: 0.7141\n",
      "Validation Loss: 0.6597 Validation Acc: 0.7411\n",
      "Validation loss decreased (0.753682 --> 0.659653).  Saving model ...\n",
      "Starting epoch 3/15\n"
     ]
    },
    {
     "name": "stderr",
     "output_type": "stream",
     "text": [
      "100%|██████████| 2250/2250 [04:01<00:00,  9.32it/s]\n",
      "100%|██████████| 563/563 [01:17<00:00,  7.31it/s]\n"
     ]
    },
    {
     "name": "stdout",
     "output_type": "stream",
     "text": [
      "Train Loss: 0.5773 Train Acc: 0.7546\n",
      "Validation Loss: 0.5498 Validation Acc: 0.7659\n",
      "Validation loss decreased (0.659653 --> 0.549770).  Saving model ...\n",
      "Starting epoch 4/15\n"
     ]
    },
    {
     "name": "stderr",
     "output_type": "stream",
     "text": [
      "100%|██████████| 2250/2250 [04:01<00:00,  9.32it/s]\n",
      "100%|██████████| 563/563 [01:17<00:00,  7.31it/s]\n"
     ]
    },
    {
     "name": "stdout",
     "output_type": "stream",
     "text": [
      "Train Loss: 0.5187 Train Acc: 0.7811\n",
      "Validation Loss: 0.4977 Validation Acc: 0.7935\n",
      "Validation loss decreased (0.549770 --> 0.497674).  Saving model ...\n",
      "Starting epoch 5/15\n"
     ]
    },
    {
     "name": "stderr",
     "output_type": "stream",
     "text": [
      "100%|██████████| 2250/2250 [04:01<00:00,  9.32it/s]\n",
      "100%|██████████| 563/563 [01:17<00:00,  7.26it/s]\n"
     ]
    },
    {
     "name": "stdout",
     "output_type": "stream",
     "text": [
      "Train Loss: 0.4796 Train Acc: 0.7969\n",
      "Validation Loss: 0.4830 Validation Acc: 0.7945\n",
      "Validation loss decreased (0.497674 --> 0.483006).  Saving model ...\n",
      "Starting epoch 6/15\n"
     ]
    },
    {
     "name": "stderr",
     "output_type": "stream",
     "text": [
      "100%|██████████| 2250/2250 [04:01<00:00,  9.32it/s]\n",
      "100%|██████████| 563/563 [01:17<00:00,  7.29it/s]\n"
     ]
    },
    {
     "name": "stdout",
     "output_type": "stream",
     "text": [
      "Train Loss: 0.4468 Train Acc: 0.8131\n",
      "Validation Loss: 0.4223 Validation Acc: 0.8278\n",
      "Validation loss decreased (0.483006 --> 0.422330).  Saving model ...\n",
      "Starting epoch 7/15\n"
     ]
    },
    {
     "name": "stderr",
     "output_type": "stream",
     "text": [
      "100%|██████████| 2250/2250 [04:01<00:00,  9.32it/s]\n",
      "100%|██████████| 563/563 [01:17<00:00,  7.30it/s]\n"
     ]
    },
    {
     "name": "stdout",
     "output_type": "stream",
     "text": [
      "Train Loss: 0.4181 Train Acc: 0.8263\n",
      "Validation Loss: 0.4029 Validation Acc: 0.8336\n",
      "Validation loss decreased (0.422330 --> 0.402874).  Saving model ...\n",
      "Starting epoch 8/15\n"
     ]
    },
    {
     "name": "stderr",
     "output_type": "stream",
     "text": [
      "100%|██████████| 2250/2250 [04:01<00:00,  9.31it/s]\n",
      "100%|██████████| 563/563 [01:17<00:00,  7.29it/s]\n"
     ]
    },
    {
     "name": "stdout",
     "output_type": "stream",
     "text": [
      "Train Loss: 0.3967 Train Acc: 0.8355\n",
      "Validation Loss: 0.3929 Validation Acc: 0.8372\n",
      "Validation loss decreased (0.402874 --> 0.392947).  Saving model ...\n",
      "Starting epoch 9/15\n"
     ]
    },
    {
     "name": "stderr",
     "output_type": "stream",
     "text": [
      "100%|██████████| 2250/2250 [04:01<00:00,  9.30it/s]\n",
      "100%|██████████| 563/563 [01:17<00:00,  7.26it/s]\n"
     ]
    },
    {
     "name": "stdout",
     "output_type": "stream",
     "text": [
      "Train Loss: 0.3770 Train Acc: 0.8437\n",
      "Validation Loss: 0.3975 Validation Acc: 0.8342\n",
      "EarlyStopping counter: 1 out of 2\n",
      "Starting epoch 10/15\n"
     ]
    },
    {
     "name": "stderr",
     "output_type": "stream",
     "text": [
      "100%|██████████| 2250/2250 [04:01<00:00,  9.31it/s]\n",
      "100%|██████████| 563/563 [01:17<00:00,  7.23it/s]\n"
     ]
    },
    {
     "name": "stdout",
     "output_type": "stream",
     "text": [
      "Train Loss: 0.3594 Train Acc: 0.8521\n",
      "Validation Loss: 0.3700 Validation Acc: 0.8477\n",
      "Validation loss decreased (0.392947 --> 0.369990).  Saving model ...\n",
      "Starting epoch 11/15\n"
     ]
    },
    {
     "name": "stderr",
     "output_type": "stream",
     "text": [
      "100%|██████████| 2250/2250 [04:01<00:00,  9.32it/s]\n",
      "100%|██████████| 563/563 [01:17<00:00,  7.26it/s]\n"
     ]
    },
    {
     "name": "stdout",
     "output_type": "stream",
     "text": [
      "Train Loss: 0.3453 Train Acc: 0.8571\n",
      "Validation Loss: 0.3583 Validation Acc: 0.8549\n",
      "Validation loss decreased (0.369990 --> 0.358309).  Saving model ...\n",
      "Starting epoch 12/15\n"
     ]
    },
    {
     "name": "stderr",
     "output_type": "stream",
     "text": [
      "100%|██████████| 2250/2250 [04:01<00:00,  9.33it/s]\n",
      "100%|██████████| 563/563 [01:17<00:00,  7.26it/s]\n"
     ]
    },
    {
     "name": "stdout",
     "output_type": "stream",
     "text": [
      "Train Loss: 0.3272 Train Acc: 0.8654\n",
      "Validation Loss: 0.3460 Validation Acc: 0.8597\n",
      "Validation loss decreased (0.358309 --> 0.345962).  Saving model ...\n",
      "Starting epoch 13/15\n"
     ]
    },
    {
     "name": "stderr",
     "output_type": "stream",
     "text": [
      "100%|██████████| 2250/2250 [04:01<00:00,  9.32it/s]\n",
      "100%|██████████| 563/563 [01:17<00:00,  7.27it/s]\n"
     ]
    },
    {
     "name": "stdout",
     "output_type": "stream",
     "text": [
      "Train Loss: 0.3166 Train Acc: 0.8701\n",
      "Validation Loss: 0.3370 Validation Acc: 0.8626\n",
      "Validation loss decreased (0.345962 --> 0.336956).  Saving model ...\n",
      "Starting epoch 14/15\n"
     ]
    },
    {
     "name": "stderr",
     "output_type": "stream",
     "text": [
      "100%|██████████| 2250/2250 [04:01<00:00,  9.32it/s]\n",
      "100%|██████████| 563/563 [01:17<00:00,  7.27it/s]\n"
     ]
    },
    {
     "name": "stdout",
     "output_type": "stream",
     "text": [
      "Train Loss: 0.3040 Train Acc: 0.8748\n",
      "Validation Loss: 0.3497 Validation Acc: 0.8551\n",
      "EarlyStopping counter: 1 out of 2\n",
      "Starting epoch 15/15\n"
     ]
    },
    {
     "name": "stderr",
     "output_type": "stream",
     "text": [
      "100%|██████████| 2250/2250 [04:03<00:00,  9.26it/s]\n",
      "100%|██████████| 563/563 [01:22<00:00,  6.85it/s] "
     ]
    },
    {
     "name": "stdout",
     "output_type": "stream",
     "text": [
      "Train Loss: 0.2969 Train Acc: 0.8769\n",
      "Validation Loss: 0.3594 Validation Acc: 0.8493\n",
      "EarlyStopping counter: 2 out of 2\n",
      "Early stopping\n",
      "Finished fold 5/5\n",
      "Finished Training\n"
     ]
    },
    {
     "name": "stderr",
     "output_type": "stream",
     "text": [
      "\n"
     ]
    }
   ],
   "source": [
    "# Loop de treinamento\n",
    "for fold, (train_loader, val_loader) in enumerate(dataloaders):\n",
    "    print(f\"Starting fold {fold + 1}/{len(dataloaders)}\")\n",
    "\n",
    "    # Ajustando a ResNet152\n",
    "    model = models.resnet152(weights=ResNet152_Weights.DEFAULT)\n",
    "\n",
    "    num_ftrs = model.fc.in_features\n",
    "    model.fc = nn.Linear(num_ftrs, num_classes)\n",
    "    model.conv1 = nn.Conv2d(\n",
    "        1, 64, kernel_size=(7, 7), stride=(2, 2), padding=(3, 3), bias=False\n",
    "    )\n",
    "    model = model.to(device)\n",
    "    optimizer = optim.SGD(model.parameters(), lr=0.0001, momentum=0.9)\n",
    "\n",
    "    early_stopping = EarlyStopping(\n",
    "        patience=patience, verbose=True, fold=fold, checkpoint_folder=checkpoint_folder\n",
    "    )\n",
    "\n",
    "    for epoch in range(num_epochs):  # número de épocas\n",
    "        print(f\"Starting epoch {epoch + 1}/{num_epochs}\")\n",
    "\n",
    "        # Treinamento\n",
    "        model.train()\n",
    "        running_loss_train = 0.0\n",
    "        running_corrects_train = 0\n",
    "        for i, (inputs, labels) in tqdm(\n",
    "            enumerate(train_loader), total=len(train_loader)\n",
    "        ):\n",
    "            inputs = inputs.unsqueeze(1).to(device)\n",
    "            labels = labels.to(device)\n",
    "\n",
    "            optimizer.zero_grad()\n",
    "\n",
    "            outputs = model(inputs)\n",
    "            _, preds = torch.max(outputs, 1)\n",
    "            running_corrects_train += torch.sum(preds == labels.data)\n",
    "            loss = criterion(outputs, labels)\n",
    "\n",
    "            loss.backward()\n",
    "            optimizer.step()\n",
    "\n",
    "            running_loss_train += loss.item() * inputs.size(0)\n",
    "\n",
    "        epoch_loss_train = running_loss_train / len(train_loader.dataset)\n",
    "        epoch_acc_train = running_corrects_train.double() / len(train_loader.dataset)\n",
    "\n",
    "        # Validação\n",
    "        model.eval()\n",
    "        running_loss_val = 0.0\n",
    "        running_corrects_val = 0\n",
    "        all_labels = []\n",
    "        all_preds = []\n",
    "        with torch.no_grad():\n",
    "            for inputs, labels in tqdm(val_loader):\n",
    "                inputs = inputs.unsqueeze(1).to(device)\n",
    "                labels = labels.to(device)\n",
    "\n",
    "                outputs = model(inputs)\n",
    "                _, preds = torch.max(outputs, 1)\n",
    "                running_corrects_val += torch.sum(preds == labels.data)\n",
    "                loss = criterion(outputs, labels)\n",
    "\n",
    "                running_loss_val += loss.item() * inputs.size(0)\n",
    "\n",
    "                all_labels.extend(labels.data.cpu().numpy())\n",
    "                all_preds.extend(preds.cpu().numpy())\n",
    "\n",
    "        epoch_loss_val = running_loss_val / len(val_loader.dataset)\n",
    "        epoch_acc_val = running_corrects_val.double() / len(val_loader.dataset)\n",
    "\n",
    "        print(f\"Train Loss: {epoch_loss_train:.4f} Train Acc: {epoch_acc_train:.4f}\")\n",
    "        print(\n",
    "            f\"Validation Loss: {epoch_loss_val:.4f} Validation Acc: {epoch_acc_val:.4f}\"\n",
    "        )\n",
    "\n",
    "        early_stopping(epoch_loss_val, model)\n",
    "\n",
    "        if early_stopping.early_stop:\n",
    "            print(\"Early stopping\")\n",
    "            break\n",
    "\n",
    "    print(f\"Finished fold {fold + 1}/{len(dataloaders)}\")\n",
    "\n",
    "print(\"Finished Training\")"
   ]
  },
  {
   "cell_type": "code",
   "execution_count": 5,
   "metadata": {},
   "outputs": [
    {
     "name": "stdout",
     "output_type": "stream",
     "text": [
      "Acurácias: [0.8475131981105862, 0.8295081967213115, 0.8416782439566546, 0.8631766144270312, 0.8626208736245415]\n"
     ]
    }
   ],
   "source": [
    "# Dicionário para armazenar os relatórios de classificação para cada fold\n",
    "classification_reports = []\n",
    "\n",
    "# Caminho para a pasta com os modelos\n",
    "model_folder = f\"models/{checkpoint_folder}\"\n",
    "\n",
    "# Lista para armazenar a acurácia média de cada fold\n",
    "accuracy_list = []\n",
    "\n",
    "# Loop através de cada fold\n",
    "for fold in range(k_folds):\n",
    "    # Carregando o modelo\n",
    "    model_path = os.path.join(model_folder, f\"checkpoint_{fold}.pth\")\n",
    "    model.load_state_dict(torch.load(model_path))\n",
    "\n",
    "    # Pegando o dataloader de teste para este fold\n",
    "    _, test_loader = dataloaders[fold]\n",
    "\n",
    "    # Avaliando o modelo neste fold\n",
    "    model.eval()\n",
    "    all_labels = []\n",
    "    all_preds = []\n",
    "    with torch.no_grad():\n",
    "        for inputs, labels in test_loader:\n",
    "            inputs = inputs.unsqueeze(1).to(device)\n",
    "            labels = labels.to(device)\n",
    "\n",
    "            outputs = model(inputs)\n",
    "            _, preds = torch.max(outputs, 1)\n",
    "\n",
    "            all_labels.extend(labels.cpu().numpy())\n",
    "            all_preds.extend(preds.cpu().numpy())\n",
    "\n",
    "    # Calculando a acurácia para este fold\n",
    "    fold_accuracy = np.mean(np.array(all_labels) == np.array(all_preds))\n",
    "    accuracy_list.append(fold_accuracy)\n",
    "\n",
    "    # Gerando o relatório de classificação para este fold\n",
    "    report = classification_report(all_labels, all_preds, output_dict=True)\n",
    "    classification_reports.append(report)\n",
    "\n",
    "# Calculando a média e desvio padrão das métricas para cada classe em todos os folds\n",
    "metrics_list = {\n",
    "    class_: {\"precision\": [], \"recall\": [], \"f1-score\": [], \"support\": []}\n",
    "    for class_ in range(num_classes)\n",
    "}\n",
    "\n",
    "avg_metrics = metrics_list\n",
    "for report in classification_reports:\n",
    "    for class_ in range(num_classes):\n",
    "        metrics_list[class_][\"precision\"].append(report[str(class_)][\"precision\"])\n",
    "        metrics_list[class_][\"recall\"].append(report[str(class_)][\"recall\"])\n",
    "        metrics_list[class_][\"f1-score\"].append(report[str(class_)][\"f1-score\"])\n",
    "        metrics_list[class_][\"support\"].append(report[str(class_)][\"support\"])\n",
    "\n",
    "for class_ in range(num_classes):\n",
    "    avg_metrics[class_][\"precision_std\"] = np.std(avg_metrics[class_][\"precision\"])\n",
    "    avg_metrics[class_][\"recall_std\"] = np.std(avg_metrics[class_][\"recall\"])\n",
    "    avg_metrics[class_][\"f1-score_std\"] = np.std(avg_metrics[class_][\"f1-score\"])\n",
    "    avg_metrics[class_][\"support_std\"] = np.round(\n",
    "        np.std(avg_metrics[class_][\"support\"])\n",
    "    ).astype(int)\n",
    "\n",
    "    avg_metrics[class_][\"precision\"] = np.mean(metrics_list[class_][\"precision\"])\n",
    "    avg_metrics[class_][\"recall\"] = np.mean(metrics_list[class_][\"recall\"])\n",
    "    avg_metrics[class_][\"f1-score\"] = np.mean(metrics_list[class_][\"f1-score\"])\n",
    "    avg_metrics[class_][\"support\"] = np.round(\n",
    "        np.mean(metrics_list[class_][\"support\"])\n",
    "    ).astype(int)\n",
    "\n",
    "# Média e desvio padrão da acurácia\n",
    "accuracy_mean = np.mean(accuracy_list)\n",
    "accuracy_std = np.std(accuracy_list)\n",
    "\n",
    "\n",
    "print(\"Acurácias:\", accuracy_list)"
   ]
  },
  {
   "cell_type": "code",
   "execution_count": 6,
   "metadata": {},
   "outputs": [],
   "source": [
    "def extract_metrics(data):\n",
    "    metrics = {}\n",
    "\n",
    "    for fold_index, fold in enumerate(data, start=1):\n",
    "        for class_label, class_scores in fold.items():\n",
    "            if class_label.isdigit():\n",
    "                for metric, value in class_scores.items():\n",
    "                    metric_key = f\"{metric}_classe{class_label}\"\n",
    "                    if metric_key not in metrics:\n",
    "                        metrics[metric_key] = [value]\n",
    "                    else:\n",
    "                        metrics[metric_key].append(value)\n",
    "\n",
    "    return metrics\n",
    "\n",
    "\n",
    "import csv\n",
    "\n",
    "\n",
    "def export_metrics_to_csv(metrics, filename, folder):\n",
    "    file_path = folder + \"/\" + filename\n",
    "\n",
    "    with open(file_path, \"w\", newline=\"\") as csvfile:\n",
    "        writer = csv.writer(csvfile)\n",
    "        headers = [\"Metrica\"] + [\n",
    "            \"Fold{}\".format(i) for i in range(1, len(metrics[next(iter(metrics))]) + 1)\n",
    "        ]\n",
    "        writer.writerow(headers)\n",
    "\n",
    "        for metric, values in metrics.items():\n",
    "            row = [metric] + values\n",
    "            writer.writerow(row)\n",
    "\n",
    "    print(f\"Arquivo CSV exportado com sucesso: {file_path}\")"
   ]
  },
  {
   "cell_type": "code",
   "execution_count": 7,
   "metadata": {},
   "outputs": [
    {
     "name": "stdout",
     "output_type": "stream",
     "text": [
      "Arquivo CSV exportado com sucesso: ./metrics_resnet152.csv\n"
     ]
    }
   ],
   "source": [
    "metrics = extract_metrics(classification_reports)\n",
    "export_metrics_to_csv(metrics, \"metrics_resnet152.csv\", \".\")"
   ]
  },
  {
   "cell_type": "code",
   "execution_count": 10,
   "metadata": {},
   "outputs": [
    {
     "name": "stdout",
     "output_type": "stream",
     "text": [
      "Acurácia média: 0.848899425368025\n",
      "Desvio padrão da acurácia: 0.01282344029578005\n",
      "================================================================================\n",
      "Class: Nada\n",
      "Precision\t\tRecall\t\t\tF1-Score\t\tSupport\n",
      "0.8700 ± 0.0050\t\t0.8587 ± 0.0238\t\t0.8642 ± 0.0128\t\t9154\n",
      "================================================================================\n",
      "Class: Grito\n",
      "Precision\t\tRecall\t\t\tF1-Score\t\tSupport\n",
      "0.6662 ± 0.0162\t\t0.7739 ± 0.0161\t\t0.7158 ± 0.0098\t\t1457\n",
      "================================================================================\n",
      "Class: Violência Física\n",
      "Precision\t\tRecall\t\t\tF1-Score\t\tSupport\n",
      "0.8655 ± 0.0292\t\t0.8614 ± 0.0079\t\t0.8632 ± 0.0154\t\t6124\n",
      "================================================================================\n",
      "Class: Tiro\n",
      "Precision\t\tRecall\t\t\tF1-Score\t\tSupport\n",
      "0.8701 ± 0.0152\t\t0.8037 ± 0.0178\t\t0.8352 ± 0.0060\t\t1259\n",
      "================================================================================\n"
     ]
    }
   ],
   "source": [
    "annotation_dict = {\n",
    "    0: \"Nada\",\n",
    "    1: \"Grito\",\n",
    "    2: \"Violência Física\",\n",
    "    3: \"Tiro\",\n",
    "    4: \"Explosão\",\n",
    "    5: \"Grito de Esforço\",\n",
    "}\n",
    "\n",
    "\n",
    "print(\"Acurácia média:\", accuracy_mean)\n",
    "print(\"Desvio padrão da acurácia:\", accuracy_std)\n",
    "\n",
    "print(\n",
    "    \"================================================================================\"\n",
    ")\n",
    "\n",
    "for class_ in range(num_classes):\n",
    "    print(f\"Class: {annotation_dict[class_]}\")\n",
    "    print(\"Precision\\t\\tRecall\\t\\t\\tF1-Score\\t\\tSupport\")\n",
    "    print(\n",
    "        \"{:.4f} ± {:.4f}\\t\\t{:.4f} ± {:.4f}\\t\\t{:.4f} ± {:.4f}\\t\\t{}\".format(\n",
    "            avg_metrics[class_][\"precision\"],\n",
    "            avg_metrics[class_][\"precision_std\"],\n",
    "            avg_metrics[class_][\"recall\"],\n",
    "            avg_metrics[class_][\"recall_std\"],\n",
    "            avg_metrics[class_][\"f1-score\"],\n",
    "            avg_metrics[class_][\"f1-score_std\"],\n",
    "            avg_metrics[class_][\"support\"],\n",
    "        )\n",
    "    )\n",
    "    print(\n",
    "        \"================================================================================\"\n",
    "    )"
   ]
  },
  {
   "cell_type": "code",
   "execution_count": null,
   "metadata": {},
   "outputs": [],
   "source": []
  }
 ],
 "metadata": {
  "kernelspec": {
   "display_name": ".venv",
   "language": "python",
   "name": "python3"
  },
  "language_info": {
   "codemirror_mode": {
    "name": "ipython",
    "version": 3
   },
   "file_extension": ".py",
   "mimetype": "text/x-python",
   "name": "python",
   "nbconvert_exporter": "python",
   "pygments_lexer": "ipython3",
   "version": "3.8.10"
  },
  "orig_nbformat": 4
 },
 "nbformat": 4,
 "nbformat_minor": 2
}
