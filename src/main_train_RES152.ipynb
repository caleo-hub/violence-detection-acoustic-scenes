{
 "cells": [
  {
   "cell_type": "code",
   "execution_count": 1,
   "metadata": {},
   "outputs": [],
   "source": [
    "from utils.dataloader import H5Dataset\n",
    "from utils.EarlyStopping import EarlyStopping\n",
    "\n",
    "import torch\n",
    "import torch.nn as nn\n",
    "import torch.optim as optim\n",
    "import torchvision.models as models\n",
    "from sklearn.metrics import classification_report\n",
    "from tqdm import tqdm\n",
    "\n",
    "from torchvision.models import ResNet152_Weights\n",
    "\n",
    "import numpy as np\n",
    "import os"
   ]
  },
  {
   "cell_type": "code",
   "execution_count": 2,
   "metadata": {},
   "outputs": [],
   "source": [
    "num_classes = 4\n",
    "k_folds = 5\n",
    "num_epochs = 10\n",
    "batch_size = 32\n",
    "patience = 2\n",
    "random_state = 21\n",
    "checkpoint_folder = \"resnet152\"\n",
    "\n",
    "\n",
    "# Caminho para os arquivos h5\n",
    "h5_files = [\n",
    "    \"h5_files/GunshotForensic_feature.h5\",\n",
    "    \"h5_files/HEAR_Train_feature.h5\",\n",
    "    \"h5_files/MIVIA_test_feature.h5\",\n",
    "    \"h5_files/MIVIA_train_feature.h5\",\n",
    "    \"h5_files/SESA_feature.h5\",\n",
    "    \"h5_files/vsd_clipped_feature.h5\",\n",
    "    \"h5_files/Audioset_feature.h5\",\n",
    "]\n",
    "\n",
    "# Carregando os dataloaders\n",
    "dataset = H5Dataset(\n",
    "    h5_files, exclude_classes=[4, 5, 6], n_splits=k_folds, random_state=random_state,\n",
    ")\n",
    "dataloaders = dataset.get_k_fold_data_loaders(batch_size=batch_size, num_workers=4)"
   ]
  },
  {
   "cell_type": "code",
   "execution_count": 3,
   "metadata": {},
   "outputs": [
    {
     "name": "stdout",
     "output_type": "stream",
     "text": [
      "Treinamento realizado no dispositivo: cuda\n"
     ]
    }
   ],
   "source": [
    "device = torch.device(\"cuda\" if torch.cuda.is_available() else \"cpu\")\n",
    "print(\"Treinamento realizado no dispositivo:\", device)\n",
    "\n",
    "criterion = nn.CrossEntropyLoss()"
   ]
  },
  {
   "cell_type": "code",
   "execution_count": 5,
   "metadata": {},
   "outputs": [
    {
     "name": "stdout",
     "output_type": "stream",
     "text": [
      "Starting fold 1/5\n"
     ]
    },
    {
     "name": "stderr",
     "output_type": "stream",
     "text": [
      "Downloading: \"https://download.pytorch.org/models/resnet152-f82ba261.pth\" to C:\\Users\\CSANT321/.cache\\torch\\hub\\checkpoints\\resnet152-f82ba261.pth\n",
      "100%|██████████| 230M/230M [00:22<00:00, 10.7MB/s] \n"
     ]
    },
    {
     "name": "stdout",
     "output_type": "stream",
     "text": [
      "Starting epoch 1/10\n"
     ]
    },
    {
     "name": "stderr",
     "output_type": "stream",
     "text": [
      "100%|██████████| 2250/2250 [10:41<00:00,  3.51it/s]\n",
      "100%|██████████| 563/563 [01:18<00:00,  7.14it/s]\n"
     ]
    },
    {
     "name": "stdout",
     "output_type": "stream",
     "text": [
      "Train Loss: 0.9006 Train Acc: 0.5779\n",
      "Validation Loss: 0.7510 Validation Acc: 0.6582\n",
      "Validation loss decreased (inf --> 0.751004).  Saving model ...\n",
      "Starting epoch 2/10\n"
     ]
    },
    {
     "name": "stderr",
     "output_type": "stream",
     "text": [
      "100%|██████████| 2250/2250 [04:06<00:00,  9.13it/s]\n",
      "100%|██████████| 563/563 [01:12<00:00,  7.75it/s]\n"
     ]
    },
    {
     "name": "stdout",
     "output_type": "stream",
     "text": [
      "Train Loss: 0.6990 Train Acc: 0.6869\n",
      "Validation Loss: 0.6306 Validation Acc: 0.7199\n",
      "Validation loss decreased (0.751004 --> 0.630592).  Saving model ...\n",
      "Starting epoch 3/10\n"
     ]
    },
    {
     "name": "stderr",
     "output_type": "stream",
     "text": [
      "100%|██████████| 2250/2250 [03:59<00:00,  9.39it/s]\n",
      "100%|██████████| 563/563 [01:11<00:00,  7.90it/s]\n"
     ]
    },
    {
     "name": "stdout",
     "output_type": "stream",
     "text": [
      "Train Loss: 0.6157 Train Acc: 0.7317\n",
      "Validation Loss: 0.5648 Validation Acc: 0.7562\n",
      "Validation loss decreased (0.630592 --> 0.564788).  Saving model ...\n",
      "Starting epoch 4/10\n"
     ]
    },
    {
     "name": "stderr",
     "output_type": "stream",
     "text": [
      "100%|██████████| 2250/2250 [04:01<00:00,  9.34it/s]\n",
      "100%|██████████| 563/563 [01:11<00:00,  7.86it/s]\n"
     ]
    },
    {
     "name": "stdout",
     "output_type": "stream",
     "text": [
      "Train Loss: 0.5592 Train Acc: 0.7569\n",
      "Validation Loss: 0.5270 Validation Acc: 0.7723\n",
      "Validation loss decreased (0.564788 --> 0.526973).  Saving model ...\n",
      "Starting epoch 5/10\n"
     ]
    },
    {
     "name": "stderr",
     "output_type": "stream",
     "text": [
      "100%|██████████| 2250/2250 [04:04<00:00,  9.21it/s]\n",
      "100%|██████████| 563/563 [01:12<00:00,  7.77it/s]\n"
     ]
    },
    {
     "name": "stdout",
     "output_type": "stream",
     "text": [
      "Train Loss: 0.5196 Train Acc: 0.7746\n",
      "Validation Loss: 0.5024 Validation Acc: 0.7876\n",
      "Validation loss decreased (0.526973 --> 0.502360).  Saving model ...\n",
      "Starting epoch 6/10\n"
     ]
    },
    {
     "name": "stderr",
     "output_type": "stream",
     "text": [
      "100%|██████████| 2250/2250 [04:01<00:00,  9.31it/s]\n",
      "100%|██████████| 563/563 [01:13<00:00,  7.71it/s]\n"
     ]
    },
    {
     "name": "stdout",
     "output_type": "stream",
     "text": [
      "Train Loss: 0.4935 Train Acc: 0.7872\n",
      "Validation Loss: 0.4750 Validation Acc: 0.8008\n",
      "Validation loss decreased (0.502360 --> 0.475002).  Saving model ...\n",
      "Starting epoch 7/10\n"
     ]
    },
    {
     "name": "stderr",
     "output_type": "stream",
     "text": [
      "100%|██████████| 2250/2250 [04:01<00:00,  9.31it/s]\n",
      "100%|██████████| 563/563 [01:09<00:00,  8.06it/s]\n"
     ]
    },
    {
     "name": "stdout",
     "output_type": "stream",
     "text": [
      "Train Loss: 0.4631 Train Acc: 0.8015\n",
      "Validation Loss: 0.4525 Validation Acc: 0.8131\n",
      "Validation loss decreased (0.475002 --> 0.452534).  Saving model ...\n",
      "Starting epoch 8/10\n"
     ]
    },
    {
     "name": "stderr",
     "output_type": "stream",
     "text": [
      "100%|██████████| 2250/2250 [04:00<00:00,  9.37it/s]\n",
      "100%|██████████| 563/563 [01:11<00:00,  7.89it/s]\n"
     ]
    },
    {
     "name": "stdout",
     "output_type": "stream",
     "text": [
      "Train Loss: 0.4357 Train Acc: 0.8167\n",
      "Validation Loss: 0.4299 Validation Acc: 0.8249\n",
      "Validation loss decreased (0.452534 --> 0.429941).  Saving model ...\n",
      "Starting epoch 9/10\n"
     ]
    },
    {
     "name": "stderr",
     "output_type": "stream",
     "text": [
      "100%|██████████| 2250/2250 [03:57<00:00,  9.47it/s]\n",
      "100%|██████████| 563/563 [01:11<00:00,  7.93it/s]\n"
     ]
    },
    {
     "name": "stdout",
     "output_type": "stream",
     "text": [
      "Train Loss: 0.4095 Train Acc: 0.8287\n",
      "Validation Loss: 0.4079 Validation Acc: 0.8336\n",
      "Validation loss decreased (0.429941 --> 0.407907).  Saving model ...\n",
      "Starting epoch 10/10\n"
     ]
    },
    {
     "name": "stderr",
     "output_type": "stream",
     "text": [
      "100%|██████████| 2250/2250 [03:57<00:00,  9.47it/s]\n",
      "100%|██████████| 563/563 [01:11<00:00,  7.90it/s]\n"
     ]
    },
    {
     "name": "stdout",
     "output_type": "stream",
     "text": [
      "Train Loss: 0.3872 Train Acc: 0.8399\n",
      "Validation Loss: 0.3995 Validation Acc: 0.8372\n",
      "Validation loss decreased (0.407907 --> 0.399538).  Saving model ...\n",
      "Finished fold 1/5\n",
      "Starting fold 2/5\n",
      "Starting epoch 1/10\n"
     ]
    },
    {
     "name": "stderr",
     "output_type": "stream",
     "text": [
      "100%|██████████| 2250/2250 [03:57<00:00,  9.48it/s]\n",
      "100%|██████████| 563/563 [01:10<00:00,  8.04it/s]\n"
     ]
    },
    {
     "name": "stdout",
     "output_type": "stream",
     "text": [
      "Train Loss: 0.9153 Train Acc: 0.5897\n",
      "Validation Loss: 0.7913 Validation Acc: 0.6469\n",
      "Validation loss decreased (inf --> 0.791316).  Saving model ...\n",
      "Starting epoch 2/10\n"
     ]
    },
    {
     "name": "stderr",
     "output_type": "stream",
     "text": [
      "100%|██████████| 2250/2250 [03:57<00:00,  9.49it/s]\n",
      "100%|██████████| 563/563 [01:11<00:00,  7.88it/s]\n"
     ]
    },
    {
     "name": "stdout",
     "output_type": "stream",
     "text": [
      "Train Loss: 0.6958 Train Acc: 0.6923\n",
      "Validation Loss: 0.6473 Validation Acc: 0.7120\n",
      "Validation loss decreased (0.791316 --> 0.647270).  Saving model ...\n",
      "Starting epoch 3/10\n"
     ]
    },
    {
     "name": "stderr",
     "output_type": "stream",
     "text": [
      "100%|██████████| 2250/2250 [04:03<00:00,  9.25it/s]\n",
      "100%|██████████| 563/563 [01:12<00:00,  7.81it/s]\n"
     ]
    },
    {
     "name": "stdout",
     "output_type": "stream",
     "text": [
      "Train Loss: 0.6065 Train Acc: 0.7338\n",
      "Validation Loss: 0.5768 Validation Acc: 0.7530\n",
      "Validation loss decreased (0.647270 --> 0.576806).  Saving model ...\n",
      "Starting epoch 4/10\n"
     ]
    },
    {
     "name": "stderr",
     "output_type": "stream",
     "text": [
      "100%|██████████| 2250/2250 [04:01<00:00,  9.34it/s]\n",
      "100%|██████████| 563/563 [01:11<00:00,  7.88it/s]\n"
     ]
    },
    {
     "name": "stdout",
     "output_type": "stream",
     "text": [
      "Train Loss: 0.5553 Train Acc: 0.7577\n",
      "Validation Loss: 0.5410 Validation Acc: 0.7653\n",
      "Validation loss decreased (0.576806 --> 0.540990).  Saving model ...\n",
      "Starting epoch 5/10\n"
     ]
    },
    {
     "name": "stderr",
     "output_type": "stream",
     "text": [
      "100%|██████████| 2250/2250 [03:58<00:00,  9.43it/s]\n",
      "100%|██████████| 563/563 [01:09<00:00,  8.04it/s]\n"
     ]
    },
    {
     "name": "stdout",
     "output_type": "stream",
     "text": [
      "Train Loss: 0.5256 Train Acc: 0.7707\n",
      "Validation Loss: 0.5225 Validation Acc: 0.7720\n",
      "Validation loss decreased (0.540990 --> 0.522460).  Saving model ...\n",
      "Starting epoch 6/10\n"
     ]
    },
    {
     "name": "stderr",
     "output_type": "stream",
     "text": [
      "100%|██████████| 2250/2250 [04:02<00:00,  9.29it/s]\n",
      "100%|██████████| 563/563 [01:11<00:00,  7.89it/s]\n"
     ]
    },
    {
     "name": "stdout",
     "output_type": "stream",
     "text": [
      "Train Loss: 0.5076 Train Acc: 0.7800\n",
      "Validation Loss: 0.5102 Validation Acc: 0.7795\n",
      "Validation loss decreased (0.522460 --> 0.510220).  Saving model ...\n",
      "Starting epoch 7/10\n"
     ]
    },
    {
     "name": "stderr",
     "output_type": "stream",
     "text": [
      "100%|██████████| 2250/2250 [04:01<00:00,  9.31it/s]\n",
      "100%|██████████| 563/563 [01:11<00:00,  7.87it/s]\n"
     ]
    },
    {
     "name": "stdout",
     "output_type": "stream",
     "text": [
      "Train Loss: 0.4862 Train Acc: 0.7899\n",
      "Validation Loss: 0.4904 Validation Acc: 0.7865\n",
      "Validation loss decreased (0.510220 --> 0.490415).  Saving model ...\n",
      "Starting epoch 8/10\n"
     ]
    },
    {
     "name": "stderr",
     "output_type": "stream",
     "text": [
      "100%|██████████| 2250/2250 [04:01<00:00,  9.31it/s]\n",
      "100%|██████████| 563/563 [01:13<00:00,  7.62it/s]\n"
     ]
    },
    {
     "name": "stdout",
     "output_type": "stream",
     "text": [
      "Train Loss: 0.4676 Train Acc: 0.7977\n",
      "Validation Loss: 0.4773 Validation Acc: 0.7946\n",
      "Validation loss decreased (0.490415 --> 0.477259).  Saving model ...\n",
      "Starting epoch 9/10\n"
     ]
    },
    {
     "name": "stderr",
     "output_type": "stream",
     "text": [
      "100%|██████████| 2250/2250 [04:01<00:00,  9.32it/s]\n",
      "100%|██████████| 563/563 [01:13<00:00,  7.61it/s]\n"
     ]
    },
    {
     "name": "stdout",
     "output_type": "stream",
     "text": [
      "Train Loss: 0.4477 Train Acc: 0.8080\n",
      "Validation Loss: 0.4626 Validation Acc: 0.7975\n",
      "Validation loss decreased (0.477259 --> 0.462587).  Saving model ...\n",
      "Starting epoch 10/10\n"
     ]
    },
    {
     "name": "stderr",
     "output_type": "stream",
     "text": [
      "100%|██████████| 2250/2250 [04:00<00:00,  9.37it/s]\n",
      "100%|██████████| 563/563 [01:11<00:00,  7.83it/s]\n"
     ]
    },
    {
     "name": "stdout",
     "output_type": "stream",
     "text": [
      "Train Loss: 0.4311 Train Acc: 0.8155\n",
      "Validation Loss: 0.4498 Validation Acc: 0.8033\n",
      "Validation loss decreased (0.462587 --> 0.449754).  Saving model ...\n",
      "Finished fold 2/5\n",
      "Starting fold 3/5\n",
      "Starting epoch 1/10\n"
     ]
    },
    {
     "name": "stderr",
     "output_type": "stream",
     "text": [
      "100%|██████████| 2250/2250 [03:59<00:00,  9.38it/s]\n",
      "100%|██████████| 563/563 [01:10<00:00,  7.96it/s]\n"
     ]
    },
    {
     "name": "stdout",
     "output_type": "stream",
     "text": [
      "Train Loss: 0.9020 Train Acc: 0.5969\n",
      "Validation Loss: 0.7681 Validation Acc: 0.6723\n",
      "Validation loss decreased (inf --> 0.768091).  Saving model ...\n",
      "Starting epoch 2/10\n"
     ]
    },
    {
     "name": "stderr",
     "output_type": "stream",
     "text": [
      "100%|██████████| 2250/2250 [03:55<00:00,  9.54it/s]\n",
      "100%|██████████| 563/563 [01:10<00:00,  7.96it/s]\n"
     ]
    },
    {
     "name": "stdout",
     "output_type": "stream",
     "text": [
      "Train Loss: 0.6975 Train Acc: 0.6991\n",
      "Validation Loss: 0.6406 Validation Acc: 0.7304\n",
      "Validation loss decreased (0.768091 --> 0.640594).  Saving model ...\n",
      "Starting epoch 3/10\n"
     ]
    },
    {
     "name": "stderr",
     "output_type": "stream",
     "text": [
      "100%|██████████| 2250/2250 [03:53<00:00,  9.63it/s]\n",
      "100%|██████████| 563/563 [01:10<00:00,  8.03it/s]\n"
     ]
    },
    {
     "name": "stdout",
     "output_type": "stream",
     "text": [
      "Train Loss: 0.6198 Train Acc: 0.7330\n",
      "Validation Loss: 0.5820 Validation Acc: 0.7557\n",
      "Validation loss decreased (0.640594 --> 0.582004).  Saving model ...\n",
      "Starting epoch 4/10\n"
     ]
    },
    {
     "name": "stderr",
     "output_type": "stream",
     "text": [
      "100%|██████████| 2250/2250 [03:59<00:00,  9.38it/s]\n",
      "100%|██████████| 563/563 [01:10<00:00,  8.00it/s]\n"
     ]
    },
    {
     "name": "stdout",
     "output_type": "stream",
     "text": [
      "Train Loss: 0.5726 Train Acc: 0.7540\n",
      "Validation Loss: 0.5427 Validation Acc: 0.7693\n",
      "Validation loss decreased (0.582004 --> 0.542740).  Saving model ...\n",
      "Starting epoch 5/10\n"
     ]
    },
    {
     "name": "stderr",
     "output_type": "stream",
     "text": [
      "100%|██████████| 2250/2250 [03:57<00:00,  9.48it/s]\n",
      "100%|██████████| 563/563 [01:09<00:00,  8.10it/s]\n"
     ]
    },
    {
     "name": "stdout",
     "output_type": "stream",
     "text": [
      "Train Loss: 0.5408 Train Acc: 0.7682\n",
      "Validation Loss: 0.5339 Validation Acc: 0.7707\n",
      "Validation loss decreased (0.542740 --> 0.533879).  Saving model ...\n",
      "Starting epoch 6/10\n"
     ]
    },
    {
     "name": "stderr",
     "output_type": "stream",
     "text": [
      "100%|██████████| 2250/2250 [03:57<00:00,  9.48it/s]\n",
      "100%|██████████| 563/563 [01:09<00:00,  8.14it/s]\n"
     ]
    },
    {
     "name": "stdout",
     "output_type": "stream",
     "text": [
      "Train Loss: 0.5201 Train Acc: 0.7770\n",
      "Validation Loss: 0.5146 Validation Acc: 0.7825\n",
      "Validation loss decreased (0.533879 --> 0.514634).  Saving model ...\n",
      "Starting epoch 7/10\n"
     ]
    },
    {
     "name": "stderr",
     "output_type": "stream",
     "text": [
      "100%|██████████| 2250/2250 [03:57<00:00,  9.47it/s]\n",
      "100%|██████████| 563/563 [01:09<00:00,  8.12it/s]\n"
     ]
    },
    {
     "name": "stdout",
     "output_type": "stream",
     "text": [
      "Train Loss: 0.4996 Train Acc: 0.7868\n",
      "Validation Loss: 0.4849 Validation Acc: 0.7939\n",
      "Validation loss decreased (0.514634 --> 0.484854).  Saving model ...\n",
      "Starting epoch 8/10\n"
     ]
    },
    {
     "name": "stderr",
     "output_type": "stream",
     "text": [
      "100%|██████████| 2250/2250 [03:57<00:00,  9.48it/s]\n",
      "100%|██████████| 563/563 [01:09<00:00,  8.12it/s]\n"
     ]
    },
    {
     "name": "stdout",
     "output_type": "stream",
     "text": [
      "Train Loss: 0.4782 Train Acc: 0.7946\n",
      "Validation Loss: 0.4724 Validation Acc: 0.7986\n",
      "Validation loss decreased (0.484854 --> 0.472437).  Saving model ...\n",
      "Starting epoch 9/10\n"
     ]
    },
    {
     "name": "stderr",
     "output_type": "stream",
     "text": [
      "100%|██████████| 2250/2250 [04:07<00:00,  9.10it/s]\n",
      "100%|██████████| 563/563 [01:13<00:00,  7.66it/s]\n"
     ]
    },
    {
     "name": "stdout",
     "output_type": "stream",
     "text": [
      "Train Loss: 0.4621 Train Acc: 0.8020\n",
      "Validation Loss: 0.4587 Validation Acc: 0.8050\n",
      "Validation loss decreased (0.472437 --> 0.458661).  Saving model ...\n",
      "Starting epoch 10/10\n"
     ]
    },
    {
     "name": "stderr",
     "output_type": "stream",
     "text": [
      "100%|██████████| 2250/2250 [04:07<00:00,  9.07it/s]\n",
      "100%|██████████| 563/563 [01:12<00:00,  7.78it/s]\n"
     ]
    },
    {
     "name": "stdout",
     "output_type": "stream",
     "text": [
      "Train Loss: 0.4441 Train Acc: 0.8093\n",
      "Validation Loss: 0.4534 Validation Acc: 0.8063\n",
      "Validation loss decreased (0.458661 --> 0.453362).  Saving model ...\n",
      "Finished fold 3/5\n",
      "Starting fold 4/5\n",
      "Starting epoch 1/10\n"
     ]
    },
    {
     "name": "stderr",
     "output_type": "stream",
     "text": [
      "100%|██████████| 2250/2250 [03:51<00:00,  9.70it/s]\n",
      "100%|██████████| 563/563 [01:13<00:00,  7.69it/s]\n"
     ]
    },
    {
     "name": "stdout",
     "output_type": "stream",
     "text": [
      "Train Loss: 0.9194 Train Acc: 0.5874\n",
      "Validation Loss: 0.7576 Validation Acc: 0.6645\n",
      "Validation loss decreased (inf --> 0.757617).  Saving model ...\n",
      "Starting epoch 2/10\n"
     ]
    },
    {
     "name": "stderr",
     "output_type": "stream",
     "text": [
      "100%|██████████| 2250/2250 [04:11<00:00,  8.94it/s]\n",
      "100%|██████████| 563/563 [01:14<00:00,  7.55it/s]\n"
     ]
    },
    {
     "name": "stdout",
     "output_type": "stream",
     "text": [
      "Train Loss: 0.7138 Train Acc: 0.6896\n",
      "Validation Loss: 0.6533 Validation Acc: 0.7324\n",
      "Validation loss decreased (0.757617 --> 0.653259).  Saving model ...\n",
      "Starting epoch 3/10\n"
     ]
    },
    {
     "name": "stderr",
     "output_type": "stream",
     "text": [
      "100%|██████████| 2250/2250 [04:00<00:00,  9.36it/s]\n",
      "100%|██████████| 563/563 [01:09<00:00,  8.09it/s]\n"
     ]
    },
    {
     "name": "stdout",
     "output_type": "stream",
     "text": [
      "Train Loss: 0.6184 Train Acc: 0.7347\n",
      "Validation Loss: 0.5798 Validation Acc: 0.7564\n",
      "Validation loss decreased (0.653259 --> 0.579816).  Saving model ...\n",
      "Starting epoch 4/10\n"
     ]
    },
    {
     "name": "stderr",
     "output_type": "stream",
     "text": [
      "100%|██████████| 2250/2250 [03:57<00:00,  9.48it/s]\n",
      "100%|██████████| 563/563 [01:09<00:00,  8.06it/s]\n"
     ]
    },
    {
     "name": "stdout",
     "output_type": "stream",
     "text": [
      "Train Loss: 0.5680 Train Acc: 0.7573\n",
      "Validation Loss: 0.5274 Validation Acc: 0.7786\n",
      "Validation loss decreased (0.579816 --> 0.527390).  Saving model ...\n",
      "Starting epoch 5/10\n"
     ]
    },
    {
     "name": "stderr",
     "output_type": "stream",
     "text": [
      "100%|██████████| 2250/2250 [03:59<00:00,  9.41it/s]\n",
      "100%|██████████| 563/563 [01:11<00:00,  7.90it/s]\n"
     ]
    },
    {
     "name": "stdout",
     "output_type": "stream",
     "text": [
      "Train Loss: 0.5324 Train Acc: 0.7708\n",
      "Validation Loss: 0.5782 Validation Acc: 0.7719\n",
      "EarlyStopping counter: 1 out of 2\n",
      "Starting epoch 6/10\n"
     ]
    },
    {
     "name": "stderr",
     "output_type": "stream",
     "text": [
      "100%|██████████| 2250/2250 [04:06<00:00,  9.13it/s]\n",
      "100%|██████████| 563/563 [01:14<00:00,  7.59it/s]\n"
     ]
    },
    {
     "name": "stdout",
     "output_type": "stream",
     "text": [
      "Train Loss: 0.5046 Train Acc: 0.7840\n",
      "Validation Loss: 0.5002 Validation Acc: 0.7897\n",
      "Validation loss decreased (0.527390 --> 0.500234).  Saving model ...\n",
      "Starting epoch 7/10\n"
     ]
    },
    {
     "name": "stderr",
     "output_type": "stream",
     "text": [
      "100%|██████████| 2250/2250 [04:13<00:00,  8.87it/s]\n",
      "100%|██████████| 563/563 [01:14<00:00,  7.53it/s]\n"
     ]
    },
    {
     "name": "stdout",
     "output_type": "stream",
     "text": [
      "Train Loss: 0.4845 Train Acc: 0.7940\n",
      "Validation Loss: 0.5042 Validation Acc: 0.7948\n",
      "EarlyStopping counter: 1 out of 2\n",
      "Starting epoch 8/10\n"
     ]
    },
    {
     "name": "stderr",
     "output_type": "stream",
     "text": [
      "100%|██████████| 2250/2250 [04:04<00:00,  9.21it/s]\n",
      "100%|██████████| 563/563 [01:16<00:00,  7.39it/s]\n"
     ]
    },
    {
     "name": "stdout",
     "output_type": "stream",
     "text": [
      "Train Loss: 0.4705 Train Acc: 0.8004\n",
      "Validation Loss: 0.4662 Validation Acc: 0.8043\n",
      "Validation loss decreased (0.500234 --> 0.466166).  Saving model ...\n",
      "Starting epoch 9/10\n"
     ]
    },
    {
     "name": "stderr",
     "output_type": "stream",
     "text": [
      "100%|██████████| 2250/2250 [04:12<00:00,  8.91it/s]\n",
      "100%|██████████| 563/563 [01:14<00:00,  7.59it/s]\n"
     ]
    },
    {
     "name": "stdout",
     "output_type": "stream",
     "text": [
      "Train Loss: 0.4520 Train Acc: 0.8078\n",
      "Validation Loss: 0.4474 Validation Acc: 0.8091\n",
      "Validation loss decreased (0.466166 --> 0.447430).  Saving model ...\n",
      "Starting epoch 10/10\n"
     ]
    },
    {
     "name": "stderr",
     "output_type": "stream",
     "text": [
      "100%|██████████| 2250/2250 [04:04<00:00,  9.18it/s]\n",
      "100%|██████████| 563/563 [01:12<00:00,  7.76it/s]\n"
     ]
    },
    {
     "name": "stdout",
     "output_type": "stream",
     "text": [
      "Train Loss: 0.4368 Train Acc: 0.8147\n",
      "Validation Loss: 0.4386 Validation Acc: 0.8137\n",
      "Validation loss decreased (0.447430 --> 0.438579).  Saving model ...\n",
      "Finished fold 4/5\n",
      "Starting fold 5/5\n",
      "Starting epoch 1/10\n"
     ]
    },
    {
     "name": "stderr",
     "output_type": "stream",
     "text": [
      "100%|██████████| 2250/2250 [04:03<00:00,  9.25it/s]\n",
      "100%|██████████| 563/563 [01:12<00:00,  7.79it/s]\n"
     ]
    },
    {
     "name": "stdout",
     "output_type": "stream",
     "text": [
      "Train Loss: 0.9122 Train Acc: 0.5966\n",
      "Validation Loss: 0.7461 Validation Acc: 0.6755\n",
      "Validation loss decreased (inf --> 0.746058).  Saving model ...\n",
      "Starting epoch 2/10\n"
     ]
    },
    {
     "name": "stderr",
     "output_type": "stream",
     "text": [
      "100%|██████████| 2250/2250 [04:06<00:00,  9.14it/s]\n",
      "100%|██████████| 563/563 [01:13<00:00,  7.71it/s]\n"
     ]
    },
    {
     "name": "stdout",
     "output_type": "stream",
     "text": [
      "Train Loss: 0.6752 Train Acc: 0.7069\n",
      "Validation Loss: 0.6405 Validation Acc: 0.7207\n",
      "Validation loss decreased (0.746058 --> 0.640524).  Saving model ...\n",
      "Starting epoch 3/10\n"
     ]
    },
    {
     "name": "stderr",
     "output_type": "stream",
     "text": [
      "100%|██████████| 2250/2250 [04:11<00:00,  8.96it/s]\n",
      "100%|██████████| 563/563 [01:14<00:00,  7.56it/s]\n"
     ]
    },
    {
     "name": "stdout",
     "output_type": "stream",
     "text": [
      "Train Loss: 0.6011 Train Acc: 0.7370\n",
      "Validation Loss: 0.5527 Validation Acc: 0.7618\n",
      "Validation loss decreased (0.640524 --> 0.552668).  Saving model ...\n",
      "Starting epoch 4/10\n"
     ]
    },
    {
     "name": "stderr",
     "output_type": "stream",
     "text": [
      "100%|██████████| 2250/2250 [04:11<00:00,  8.95it/s]\n",
      "100%|██████████| 563/563 [01:14<00:00,  7.57it/s]\n"
     ]
    },
    {
     "name": "stdout",
     "output_type": "stream",
     "text": [
      "Train Loss: 0.5480 Train Acc: 0.7618\n",
      "Validation Loss: 0.5194 Validation Acc: 0.7733\n",
      "Validation loss decreased (0.552668 --> 0.519388).  Saving model ...\n",
      "Starting epoch 5/10\n"
     ]
    },
    {
     "name": "stderr",
     "output_type": "stream",
     "text": [
      "100%|██████████| 2250/2250 [04:07<00:00,  9.08it/s]\n",
      "100%|██████████| 563/563 [01:14<00:00,  7.59it/s]\n"
     ]
    },
    {
     "name": "stdout",
     "output_type": "stream",
     "text": [
      "Train Loss: 0.5211 Train Acc: 0.7740\n",
      "Validation Loss: 0.4972 Validation Acc: 0.7873\n",
      "Validation loss decreased (0.519388 --> 0.497182).  Saving model ...\n",
      "Starting epoch 6/10\n"
     ]
    },
    {
     "name": "stderr",
     "output_type": "stream",
     "text": [
      "100%|██████████| 2250/2250 [03:56<00:00,  9.50it/s]\n",
      "100%|██████████| 563/563 [01:09<00:00,  8.12it/s]\n"
     ]
    },
    {
     "name": "stdout",
     "output_type": "stream",
     "text": [
      "Train Loss: 0.4951 Train Acc: 0.7856\n",
      "Validation Loss: 0.4740 Validation Acc: 0.7989\n",
      "Validation loss decreased (0.497182 --> 0.474043).  Saving model ...\n",
      "Starting epoch 7/10\n"
     ]
    },
    {
     "name": "stderr",
     "output_type": "stream",
     "text": [
      "100%|██████████| 2250/2250 [03:59<00:00,  9.41it/s]\n",
      "100%|██████████| 563/563 [01:11<00:00,  7.93it/s]\n"
     ]
    },
    {
     "name": "stdout",
     "output_type": "stream",
     "text": [
      "Train Loss: 0.4730 Train Acc: 0.7973\n",
      "Validation Loss: 0.4623 Validation Acc: 0.8028\n",
      "Validation loss decreased (0.474043 --> 0.462281).  Saving model ...\n",
      "Starting epoch 8/10\n"
     ]
    },
    {
     "name": "stderr",
     "output_type": "stream",
     "text": [
      "100%|██████████| 2250/2250 [04:03<00:00,  9.24it/s]\n",
      "100%|██████████| 563/563 [01:10<00:00,  7.96it/s]\n"
     ]
    },
    {
     "name": "stdout",
     "output_type": "stream",
     "text": [
      "Train Loss: 0.4560 Train Acc: 0.8047\n",
      "Validation Loss: 0.4492 Validation Acc: 0.8085\n",
      "Validation loss decreased (0.462281 --> 0.449195).  Saving model ...\n",
      "Starting epoch 9/10\n"
     ]
    },
    {
     "name": "stderr",
     "output_type": "stream",
     "text": [
      "100%|██████████| 2250/2250 [04:03<00:00,  9.24it/s]\n",
      "100%|██████████| 563/563 [01:11<00:00,  7.92it/s]\n"
     ]
    },
    {
     "name": "stdout",
     "output_type": "stream",
     "text": [
      "Train Loss: 0.4373 Train Acc: 0.8115\n",
      "Validation Loss: 0.4497 Validation Acc: 0.8094\n",
      "EarlyStopping counter: 1 out of 2\n",
      "Starting epoch 10/10\n"
     ]
    },
    {
     "name": "stderr",
     "output_type": "stream",
     "text": [
      "100%|██████████| 2250/2250 [03:55<00:00,  9.57it/s]\n",
      "100%|██████████| 563/563 [01:10<00:00,  8.03it/s]\n"
     ]
    },
    {
     "name": "stdout",
     "output_type": "stream",
     "text": [
      "Train Loss: 0.4204 Train Acc: 0.8189\n",
      "Validation Loss: 0.4424 Validation Acc: 0.8095\n",
      "Validation loss decreased (0.449195 --> 0.442399).  Saving model ...\n",
      "Finished fold 5/5\n",
      "Finished Training\n"
     ]
    }
   ],
   "source": [
    "# Loop de treinamento\n",
    "for fold, (train_loader, val_loader) in enumerate(dataloaders):\n",
    "    print(f\"Starting fold {fold + 1}/{len(dataloaders)}\")\n",
    "\n",
    "    # Ajustando a ResNet152\n",
    "    model = models.resnet152(weights=ResNet152_Weights.DEFAULT)\n",
    "\n",
    "    num_ftrs = model.fc.in_features\n",
    "    model.fc = nn.Linear(num_ftrs, num_classes)\n",
    "    model.conv1 = nn.Conv2d(\n",
    "        1, 64, kernel_size=(7, 7), stride=(2, 2), padding=(3, 3), bias=False\n",
    "    )\n",
    "    model = model.to(device)\n",
    "    optimizer = optim.SGD(model.parameters(), lr=0.0001, momentum=0.9)\n",
    "\n",
    "    early_stopping = EarlyStopping(patience=patience, verbose=True, fold=fold, checkpoint_folder=checkpoint_folder)\n",
    "\n",
    "    for epoch in range(num_epochs):  # número de épocas\n",
    "        print(f\"Starting epoch {epoch + 1}/{num_epochs}\")\n",
    "\n",
    "        # Treinamento\n",
    "        model.train()\n",
    "        running_loss_train = 0.0\n",
    "        running_corrects_train = 0\n",
    "        for i, (inputs, labels) in tqdm(\n",
    "            enumerate(train_loader), total=len(train_loader)\n",
    "        ):\n",
    "            inputs = inputs.unsqueeze(1).to(device)\n",
    "            labels = labels.to(device)\n",
    "\n",
    "            optimizer.zero_grad()\n",
    "\n",
    "            outputs = model(inputs)\n",
    "            _, preds = torch.max(outputs, 1)\n",
    "            running_corrects_train += torch.sum(preds == labels.data)\n",
    "            loss = criterion(outputs, labels)\n",
    "\n",
    "            loss.backward()\n",
    "            optimizer.step()\n",
    "\n",
    "            running_loss_train += loss.item() * inputs.size(0)\n",
    "\n",
    "        epoch_loss_train = running_loss_train / len(train_loader.dataset)\n",
    "        epoch_acc_train = running_corrects_train.double() / len(train_loader.dataset)\n",
    "\n",
    "        # Validação\n",
    "        model.eval()\n",
    "        running_loss_val = 0.0\n",
    "        running_corrects_val = 0\n",
    "        all_labels = []\n",
    "        all_preds = []\n",
    "        with torch.no_grad():\n",
    "            for inputs, labels in tqdm(val_loader):\n",
    "                inputs = inputs.unsqueeze(1).to(device)\n",
    "                labels = labels.to(device)\n",
    "\n",
    "                outputs = model(inputs)\n",
    "                _, preds = torch.max(outputs, 1)\n",
    "                running_corrects_val += torch.sum(preds == labels.data)\n",
    "                loss = criterion(outputs, labels)\n",
    "\n",
    "                running_loss_val += loss.item() * inputs.size(0)\n",
    "\n",
    "                all_labels.extend(labels.data.cpu().numpy())\n",
    "                all_preds.extend(preds.cpu().numpy())\n",
    "\n",
    "        epoch_loss_val = running_loss_val / len(val_loader.dataset)\n",
    "        epoch_acc_val = running_corrects_val.double() / len(val_loader.dataset)\n",
    "\n",
    "        print(f\"Train Loss: {epoch_loss_train:.4f} Train Acc: {epoch_acc_train:.4f}\")\n",
    "        print(\n",
    "            f\"Validation Loss: {epoch_loss_val:.4f} Validation Acc: {epoch_acc_val:.4f}\"\n",
    "        )\n",
    "\n",
    "        early_stopping(epoch_loss_val, model)\n",
    "\n",
    "        if early_stopping.early_stop:\n",
    "            print(\"Early stopping\")\n",
    "            break\n",
    "\n",
    "    print(f\"Finished fold {fold + 1}/{len(dataloaders)}\")\n",
    "\n",
    "print(\"Finished Training\")"
   ]
  },
  {
   "cell_type": "code",
   "execution_count": 6,
   "metadata": {},
   "outputs": [
    {
     "name": "stdout",
     "output_type": "stream",
     "text": [
      "Acurácias: [0.8372325646012782, 0.8033342595165324, 0.8063350930814115, 0.8137156830054463, 0.8094920529065244]\n",
      "Precisions: [0.8479260645892406, 0.6584347117498817, 0.8058230740356189, 0.8506832036308569]\n",
      "Recalls: [0.8120689453966101, 0.7482859813981602, 0.8365774003919008, 0.7945988880063543]\n",
      "f1-scores: [0.8286737481862417, 0.6993160166034864, 0.8195973623891948, 0.8210963347403348]\n"
     ]
    }
   ],
   "source": [
    "# Dicionário para armazenar os relatórios de classificação para cada fold\n",
    "classification_reports = []\n",
    "\n",
    "# Caminho para a pasta com os modelos\n",
    "model_folder = f\"models/{checkpoint_folder}\"\n",
    "\n",
    "# Lista para armazenar a acurácia média de cada fold\n",
    "accuracy_list = []\n",
    "\n",
    "# Loop através de cada fold\n",
    "for fold in range(k_folds):\n",
    "    # Carregando o modelo\n",
    "    model_path = os.path.join(model_folder, f\"checkpoint_{fold}.pth\")\n",
    "    model.load_state_dict(torch.load(model_path))\n",
    "\n",
    "    # Pegando o dataloader de teste para este fold\n",
    "    _, test_loader = dataloaders[fold]\n",
    "\n",
    "    # Avaliando o modelo neste fold\n",
    "    model.eval()\n",
    "    all_labels = []\n",
    "    all_preds = []\n",
    "    with torch.no_grad():\n",
    "        for inputs, labels in test_loader:\n",
    "            inputs = inputs.unsqueeze(1).to(device)\n",
    "            labels = labels.to(device)\n",
    "\n",
    "            outputs = model(inputs)\n",
    "            _, preds = torch.max(outputs, 1)\n",
    "\n",
    "            all_labels.extend(labels.cpu().numpy())\n",
    "            all_preds.extend(preds.cpu().numpy())\n",
    "\n",
    "    # Calculando a acurácia para este fold\n",
    "    fold_accuracy = np.mean(np.array(all_labels) == np.array(all_preds))\n",
    "    accuracy_list.append(fold_accuracy)\n",
    "\n",
    "    # Gerando o relatório de classificação para este fold\n",
    "    report = classification_report(all_labels, all_preds, output_dict=True)\n",
    "    classification_reports.append(report)\n",
    "\n",
    "# Calculando a média e desvio padrão das métricas para cada classe em todos os folds\n",
    "metrics_list = {\n",
    "    class_: {\"precision\": [], \"recall\": [], \"f1-score\": [], \"support\": []}\n",
    "    for class_ in range(num_classes)\n",
    "}\n",
    "\n",
    "avg_metrics = metrics_list\n",
    "for report in classification_reports:\n",
    "    for class_ in range(num_classes):\n",
    "        metrics_list[class_][\"precision\"].append(report[str(class_)][\"precision\"])\n",
    "        metrics_list[class_][\"recall\"].append(report[str(class_)][\"recall\"])\n",
    "        metrics_list[class_][\"f1-score\"].append(report[str(class_)][\"f1-score\"])\n",
    "        metrics_list[class_][\"support\"].append(report[str(class_)][\"support\"])\n",
    "\n",
    "for class_ in range(num_classes):\n",
    "    avg_metrics[class_][\"precision_std\"] = np.std(avg_metrics[class_][\"precision\"])\n",
    "    avg_metrics[class_][\"recall_std\"] = np.std(avg_metrics[class_][\"recall\"])\n",
    "    avg_metrics[class_][\"f1-score_std\"] = np.std(avg_metrics[class_][\"f1-score\"])\n",
    "    avg_metrics[class_][\"support_std\"] = np.round(\n",
    "        np.std(avg_metrics[class_][\"support\"])\n",
    "    ).astype(int)\n",
    "\n",
    "    avg_metrics[class_][\"precision\"] = np.mean(metrics_list[class_][\"precision\"])\n",
    "    avg_metrics[class_][\"recall\"] = np.mean(metrics_list[class_][\"recall\"])\n",
    "    avg_metrics[class_][\"f1-score\"] = np.mean(metrics_list[class_][\"f1-score\"])\n",
    "    avg_metrics[class_][\"support\"] = np.round(\n",
    "        np.mean(metrics_list[class_][\"support\"])\n",
    "    ).astype(int)\n",
    "\n",
    "# Média e desvio padrão da acurácia\n",
    "accuracy_mean = np.mean(accuracy_list)\n",
    "accuracy_std = np.std(accuracy_list)\n",
    "\n",
    "\n",
    "print(\"Acurácias:\", accuracy_list)"
   ]
  },
  {
   "cell_type": "code",
   "execution_count": 15,
   "metadata": {},
   "outputs": [],
   "source": [
    "def extract_metrics(data):\n",
    "    metrics = {}\n",
    "\n",
    "    for fold_index, fold in enumerate(data, start=1):\n",
    "        for class_label, class_scores in fold.items():\n",
    "            if class_label.isdigit():\n",
    "                for metric, value in class_scores.items():\n",
    "                    metric_key = f\"{metric}_classe{class_label}\"\n",
    "                    if metric_key not in metrics:\n",
    "                        metrics[metric_key] = [value]\n",
    "                    else:\n",
    "                        metrics[metric_key].append(value)\n",
    "\n",
    "    return metrics\n",
    "\n",
    "import csv\n",
    "\n",
    "def export_metrics_to_csv(metrics, filename, folder):\n",
    "    file_path = folder + \"/\" + filename\n",
    "\n",
    "    with open(file_path, 'w', newline='') as csvfile:\n",
    "        writer = csv.writer(csvfile)\n",
    "        headers = ['Metrica'] + ['Fold{}'.format(i) for i in range(1, len(metrics[next(iter(metrics))]) + 1)]\n",
    "        writer.writerow(headers)\n",
    "\n",
    "        for metric, values in metrics.items():\n",
    "            row = [metric] + values\n",
    "            writer.writerow(row)\n",
    "\n",
    "    print(f\"Arquivo CSV exportado com sucesso: {file_path}\")"
   ]
  },
  {
   "cell_type": "code",
   "execution_count": 16,
   "metadata": {},
   "outputs": [
    {
     "name": "stdout",
     "output_type": "stream",
     "text": [
      "Arquivo CSV exportado com sucesso: ./metrics_resnet152.csv\n"
     ]
    }
   ],
   "source": [
    "metrics = extract_metrics(classification_reports)\n",
    "export_metrics_to_csv(metrics, \"metrics_resnet152.csv\", \".\")\n",
    "\n"
   ]
  },
  {
   "cell_type": "code",
   "execution_count": 7,
   "metadata": {},
   "outputs": [
    {
     "name": "stdout",
     "output_type": "stream",
     "text": [
      "Acurácia média: 0.8140219306222385\n",
      "Desvio padrão da acurácia: 0.012105047661813459\n",
      "================================================================================\n",
      "Class: Nada\n",
      "Precision\t\tRecall\t\t\tF1-Score\t\tSupport\n",
      "0.8479 ± 0.0278\t\t0.8121 ± 0.0325\t\t0.8287 ± 0.0127\t\t9154\n",
      "================================================================================\n",
      "Class: Grito\n",
      "Precision\t\tRecall\t\t\tF1-Score\t\tSupport\n",
      "0.6584 ± 0.0241\t\t0.7483 ± 0.0407\t\t0.6993 ± 0.0158\t\t1457\n",
      "================================================================================\n",
      "Class: Violência Física\n",
      "Precision\t\tRecall\t\t\tF1-Score\t\tSupport\n",
      "0.8058 ± 0.0260\t\t0.8366 ± 0.0456\t\t0.8196 ± 0.0177\t\t6124\n",
      "================================================================================\n",
      "Class: Tiro\n",
      "Precision\t\tRecall\t\t\tF1-Score\t\tSupport\n",
      "0.8507 ± 0.0247\t\t0.7946 ± 0.0202\t\t0.8211 ± 0.0046\t\t1259\n",
      "================================================================================\n"
     ]
    }
   ],
   "source": [
    "annotation_dict = {\n",
    "    0: \"Nada\",\n",
    "    1: \"Grito\",\n",
    "    2: \"Violência Física\",\n",
    "    3: \"Tiro\",\n",
    "    4: \"Explosão\",\n",
    "    5: \"Grito de Esforço\",\n",
    "}\n",
    "\n",
    "\n",
    "print(\"Acurácia média:\", accuracy_mean)\n",
    "print(\"Desvio padrão da acurácia:\", accuracy_std)\n",
    "\n",
    "print(\n",
    "    \"================================================================================\"\n",
    ")\n",
    "\n",
    "for class_ in range(num_classes):\n",
    "    print(f\"Class: {annotation_dict[class_]}\")\n",
    "    print(\"Precision\\t\\tRecall\\t\\t\\tF1-Score\\t\\tSupport\")\n",
    "    print(\n",
    "        \"{:.4f} ± {:.4f}\\t\\t{:.4f} ± {:.4f}\\t\\t{:.4f} ± {:.4f}\\t\\t{}\".format(\n",
    "            avg_metrics[class_][\"precision\"],\n",
    "            avg_metrics[class_][\"precision_std\"],\n",
    "            avg_metrics[class_][\"recall\"],\n",
    "            avg_metrics[class_][\"recall_std\"],\n",
    "            avg_metrics[class_][\"f1-score\"],\n",
    "            avg_metrics[class_][\"f1-score_std\"],\n",
    "            avg_metrics[class_][\"support\"],\n",
    "        )\n",
    "    )\n",
    "    print(\n",
    "        \"================================================================================\"\n",
    "    )"
   ]
  }
 ],
 "metadata": {
  "kernelspec": {
   "display_name": ".venv",
   "language": "python",
   "name": "python3"
  },
  "language_info": {
   "codemirror_mode": {
    "name": "ipython",
    "version": 3
   },
   "file_extension": ".py",
   "mimetype": "text/x-python",
   "name": "python",
   "nbconvert_exporter": "python",
   "pygments_lexer": "ipython3",
   "version": "3.8.10"
  },
  "orig_nbformat": 4
 },
 "nbformat": 4,
 "nbformat_minor": 2
}
