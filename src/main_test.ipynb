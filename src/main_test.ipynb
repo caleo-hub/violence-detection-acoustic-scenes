{
 "cells": [
  {
   "cell_type": "code",
   "execution_count": 1,
   "metadata": {},
   "outputs": [],
   "source": [
    "import torch\n",
    "import torchvision.models as models"
   ]
  },
  {
   "cell_type": "code",
   "execution_count": 2,
   "metadata": {},
   "outputs": [],
   "source": [
    "from dataset_preprocessing.audio_dataset_integration import AudioDatasetIntegrator\n",
    "\n",
    "\n",
    "def audio_integrator():\n",
    "    datasets_path = [\n",
    "        (\"Dataset_teste\", \"../Dataset_teste\"),\n",
    "    ]\n",
    "\n",
    "    for dataset_name, dataset_path in datasets_path:\n",
    "        output_path = f\"h5_files/{dataset_name}_dataset.h5\"\n",
    "        print(f\"Processing {dataset_name} dataset\")\n",
    "        integrator = AudioDatasetIntegrator(dataset_path, output_path)\n",
    "        integrator.process_audio_files()\n",
    "        integrator.annotate_audio_files()\n",
    "        print(f\"{dataset_name} dataset processed and annotated\")\n"
   ]
  },
  {
   "cell_type": "code",
   "execution_count": 3,
   "metadata": {},
   "outputs": [],
   "source": [
    "from dataset_preprocessing.audio_feature_extractor import AudioFeatureExtractor\n",
    "\n",
    "\n",
    "def audio_extractor():\n",
    "    datasets_path = [\n",
    "        (\"Dataset_teste\", \"h5_files/Dataset_teste_dataset.h5\"),\n",
    "    ]\n",
    "\n",
    "    for dataset_name, dataset_path in datasets_path:\n",
    "        output_path = f\"h5_files/{dataset_name}_feature.h5\"\n",
    "        print(f\"Processing {dataset_name} dataset\")\n",
    "        feature_extractor = AudioFeatureExtractor(dataset_path, output_path)\n",
    "        feature_extractor.extract_features(n_fft=640)\n",
    "        print(f\"{dataset_name} dataset processed and annotated\")\n",
    "\n"
   ]
  },
  {
   "cell_type": "code",
   "execution_count": 4,
   "metadata": {},
   "outputs": [],
   "source": [
    "import sounddevice as sd\n",
    "import soundfile as sf\n",
    "\n",
    "\n",
    "def gravar_audio(path, duracao):\n",
    "    # Configuração do dispositivo de áudio\n",
    "    samplerate = 44100  # Taxa de amostragem em Hz\n",
    "    channels = 1       # Número de canais de áudio (estéreo)\n",
    "\n",
    "    # Gravação do áudio\n",
    "    print(f\"Gravando áudio por {duracao} segundos...\")\n",
    "    gravacao = sd.rec(int(duracao * samplerate), samplerate=samplerate, channels=channels)\n",
    "    sd.wait()  # Aguarda a gravação ser concluída\n",
    "\n",
    "    # Salvando o arquivo de áudio\n",
    "    sf.write(path, gravacao, samplerate)\n",
    "\n",
    "    print(f\"Áudio gravado e salvo em: {path}\")\n",
    "\n"
   ]
  },
  {
   "cell_type": "code",
   "execution_count": 68,
   "metadata": {},
   "outputs": [
    {
     "name": "stdout",
     "output_type": "stream",
     "text": [
      "Gravando áudio por 10 segundos...\n",
      "Áudio gravado e salvo em: ../Dataset_teste/teste.wav\n"
     ]
    }
   ],
   "source": [
    "# Exemplo de uso\n",
    "caminho_arquivo = \"../Dataset_teste/teste.wav\"\n",
    "duracao_gravacao = 10  # Duração em segundos\n",
    "\n",
    "gravar_audio(caminho_arquivo, duracao_gravacao)\n"
   ]
  },
  {
   "cell_type": "code",
   "execution_count": 69,
   "metadata": {},
   "outputs": [
    {
     "name": "stdout",
     "output_type": "stream",
     "text": [
      "Processing Dataset_teste dataset\n"
     ]
    },
    {
     "name": "stderr",
     "output_type": "stream",
     "text": [
      "Walking through directories: 1it [00:00, 137.00it/s]\n",
      "Annotating audio files: 100%|██████████| 1/1 [00:00<00:00, 1004.38it/s]\n"
     ]
    },
    {
     "name": "stdout",
     "output_type": "stream",
     "text": [
      "Dataset_teste dataset processed and annotated\n",
      "Processing Dataset_teste dataset\n"
     ]
    },
    {
     "name": "stderr",
     "output_type": "stream",
     "text": [
      "Extracting features: 100%|██████████| 1/1 [00:00<00:00, 35.67it/s]"
     ]
    },
    {
     "name": "stdout",
     "output_type": "stream",
     "text": [
      "Dataset_teste dataset processed and annotated\n"
     ]
    },
    {
     "name": "stderr",
     "output_type": "stream",
     "text": [
      "\n"
     ]
    }
   ],
   "source": [
    "audio_integrator()\n",
    "audio_extractor()"
   ]
  },
  {
   "cell_type": "code",
   "execution_count": 70,
   "metadata": {},
   "outputs": [
    {
     "name": "stdout",
     "output_type": "stream",
     "text": [
      "torch.Size([1, 1, 251, 29])\n"
     ]
    }
   ],
   "source": [
    "import h5py\n",
    "\n",
    "file_path = \"h5_files/Dataset_teste_feature.h5\"\n",
    "with h5py.File(file_path, \"r\") as hf:\n",
    "    inputs = hf[\"features\"]['0'][()]\n",
    "    inputs = torch.tensor(inputs, dtype=torch.float).reshape(1,1,251,29)\n",
    "    print(inputs.shape)\n",
    "    "
   ]
  },
  {
   "cell_type": "code",
   "execution_count": 71,
   "metadata": {},
   "outputs": [
    {
     "name": "stdout",
     "output_type": "stream",
     "text": [
      "cuda\n",
      "tensor([[0.5838, 0.0201, 0.3907, 0.0055]], device='cuda:0')\n",
      "Nada\n",
      "Nada\n"
     ]
    }
   ],
   "source": [
    "import torch.nn as nn\n",
    "import torch.nn.functional as F\n",
    "\n",
    "annotation_dict = {\n",
    "    0: \"Nada\",\n",
    "    1: \"Grito\",\n",
    "    2: \"Violência Física\",\n",
    "    3: \"Tiro\",\n",
    "    4: \"Explosão\",\n",
    "    5: \"Grito de Esforço\",\n",
    "}\n",
    "\n",
    "num_classes = 4\n",
    "\n",
    "device = torch.device(\"cuda\" if torch.cuda.is_available() else \"cpu\")\n",
    "print(device)\n",
    "\n",
    "model = models.resnet101()\n",
    "num_ftrs = model.fc.in_features\n",
    "model.fc = nn.Linear(num_ftrs, num_classes)  # ajustar a última camada para 6 classes\n",
    "model.conv1 = nn.Conv2d(\n",
    "    1, 64, kernel_size=(7, 7), stride=(2, 2), padding=(3, 3), bias=False\n",
    ")  # ajustar a primeira camada para 1 canal\n",
    "model = model.to(device)\n",
    "model.load_state_dict(torch.load(\"models/model_resnet101_5_Folds.pth\"))\n",
    "\n",
    "# Avaliando o modelo neste fold\n",
    "model.eval()\n",
    "\n",
    "with torch.no_grad():\n",
    "    inputs = inputs.to(device)\n",
    "\n",
    "    outputs = model(inputs)\n",
    "    probabilities = F.softmax(outputs, dim=1)\n",
    "    _, preds = torch.max(probabilities, 1)\n",
    "\n",
    "    print(probabilities)\n",
    "    preds = preds.cpu().numpy()[0]\n",
    "    if preds == 0:\n",
    "        print('Nada')\n",
    "    else:\n",
    "        print('Violência!')\n",
    "    print(annotation_dict[preds])\n"
   ]
  },
  {
   "cell_type": "code",
   "execution_count": null,
   "metadata": {},
   "outputs": [],
   "source": []
  }
 ],
 "metadata": {
  "kernelspec": {
   "display_name": ".venv",
   "language": "python",
   "name": "python3"
  },
  "language_info": {
   "codemirror_mode": {
    "name": "ipython",
    "version": 3
   },
   "file_extension": ".py",
   "mimetype": "text/x-python",
   "name": "python",
   "nbconvert_exporter": "python",
   "pygments_lexer": "ipython3",
   "version": "3.8.10"
  },
  "orig_nbformat": 4
 },
 "nbformat": 4,
 "nbformat_minor": 2
}
